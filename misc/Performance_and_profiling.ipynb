{
 "cells": [
  {
   "cell_type": "markdown",
   "metadata": {},
   "source": [
    "# The first rule of optimization\n",
    "\n",
    "> Premature optimization is the root of all evil.\n",
    ">\n",
    "> Donald Knuth\n",
    "\n",
    "So first get your code working! Maybe it's fast enough anyway and you're just wasting your time?\n",
    "\n",
    "# The second rule: profiling.\n",
    "\n",
    "Figure out what is the slowest part, and only change that part. Often you will find that only a small fraction of code takes most time. Equally often you will find that the part that you need to optimize isn't what you expect.\n",
    "\n",
    "The process of figuring out what is fast and what is slow is called *profiling*. There are s\n",
    "Now I will just show a simple example of how to do so.\n",
    "\n",
    "In Python there are several main tools for profiling:\n",
    "* A clock, or `timeit` built-in function that just measures how much time is spent in a piece of code.\n",
    "* the builtin module `cProfile`, which checks how much time is spent inside each **function**.\n",
    "* the `line_profiler` tool that measures time spent in each code line.\n",
    "\n",
    "Let's see all the three in action."
   ]
  },
  {
   "cell_type": "code",
   "execution_count": null,
   "metadata": {
    "collapsed": false
   },
   "outputs": [],
   "source": [
    "# We need to install the line profiler\n",
    "# pip is the python package manager that installs different packages\n",
    "# Putting exclamation mark in Jupyter notebooks just executes commands in shell, try running \"!ls\"\n",
    "\n",
    "!echo jupyter|sudo -S pip install line_profiler"
   ]
  },
  {
   "cell_type": "code",
   "execution_count": null,
   "metadata": {
    "collapsed": true
   },
   "outputs": [],
   "source": [
    "# Load the line profiler into the notebook\n",
    "import line_profiler\n",
    "%load_ext line_profiler# The extra commands are for the "
   ]
  },
  {
   "cell_type": "code",
   "execution_count": null,
   "metadata": {
    "collapsed": true
   },
   "outputs": [],
   "source": [
    "# Code that we're going to profile\n",
    "\n",
    "def square(valuelist):\n",
    "    return [value**2 for value in valuelist]\n",
    "\n",
    "def compute_sum(max_number):\n",
    "    a = range(max_number)\n",
    "    a = square(a)!rm output\n",
    "    sum(a)\n",
    "    return a"
   ]
  },
  {
   "cell_type": "code",
   "execution_count": null,
   "metadata": {
    "collapsed": false
   },
   "outputs": [],
   "source": [
    "# Measure how long the computation runs\n",
    "\n",
    "%timeit compute_sum(1000)\n",
    "%timeit compute_sum(1000000)"
   ]
  },
  {
   "cell_type": "markdown",
   "metadata": {},
   "source": [
    "Useful to compare different versions of the function, but not very telling about which parts are fast"
   ]
  },
  {
   "cell_type": "code",
   "execution_count": null,
   "metadata": {
    "collapsed": false
   },
   "outputs": [],
   "source": [
    "%prun -T output -q compute_sum(1000000)\n",
    "!cat output"
   ]
  },
  {
   "cell_type": "markdown",
   "metadata": {},
   "source": [
    "We see how many times each function was called and how much time it costed."
   ]
  },
  {
   "cell_type": "code",
   "execution_count": null,
   "metadata": {
    "collapsed": false
   },
   "outputs": [],
   "source": [
    "# Output pops up in pager.!rm output\n",
    "\n",
    "%lprun -f compute_sum -f square compute_sum(1000000)"
   ]
  },
  {
   "cell_type": "markdown",
   "metadata": {},
   "source": [
    "## Task\n",
    "\n",
    "Change square brackets inside the function `square` into round brackets. Compare the performance. Can you figure out what is happening?"
   ]
  },
  {
   "cell_type": "markdown",
   "metadata": {},
   "source": [
    "# The third rule of optimization: understand what is happening.\n",
    "\n",
    "In order to write faster code you need to know what exactly is happening. This depends on the language you use, and on the algorithm you implement. More about this in a separate topic (or google for things like `optimized Python code`)."
   ]
  }
 ],
 "metadata": {
  "kernelspec": {
   "display_name": "Python 3",
   "language": "python",
   "name": "python3"
  },
  "language_info": {
   "codemirror_mode": {
    "name": "ipython",
    "version": 3
   },
   "file_extension": ".py",
   "mimetype": "text/x-python",
   "name": "python",
   "nbconvert_exporter": "python",
   "pygments_lexer": "ipython3",
   "version": "3.4.0"
  }
 },
 "nbformat": 4,
 "nbformat_minor": 0
}
