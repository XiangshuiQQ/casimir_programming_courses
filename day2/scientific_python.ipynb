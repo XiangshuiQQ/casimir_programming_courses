{
 "cells": [
  {
   "cell_type": "markdown",
   "metadata": {
    "Collapsed": "false"
   },
   "source": [
    "# Libraries and toolboxes for python"
   ]
  },
  {
   "cell_type": "markdown",
   "metadata": {
    "Collapsed": "false"
   },
   "source": [
    "At the start of the week we had an introduction to the Python programming language and learned some basic concepts such as:\n",
    "\n",
    "+ assigning and using **variables** to store values\n",
    "+ basic **types** (numbers, strings, lists, dictionaries) for representing data\n",
    "+ **loops** (`for`) for repeating computational operations\n",
    "+ **conditionals** (`if`, `else`) for branching program execution\n",
    "+ **functions** (`def`) for organising code into functional blocks\n",
    "\n",
    "While these components will form the fundamentals of any program that you will write, they are present in\n",
    "essentially all modern programming languages.\n",
    "\n",
    "One of the big advantages of Python is that there are a very large number of so-called **packages**, which add extra\n",
    "functionality to the language. Python already has a very capable and complete [standard library](https://docs.python.org/3/library/), however there are also many 3rd party packages that can handle diverse topics:\n",
    "\n",
    "+ high-performance numerical *calculations* ([`numpy`](http://numpy.org), [`scipy`](http://scipy.org), ...)\n",
    "+ *producing* publication-quality plots ([`matplotlib`](http://matplotlib.org), [`seaborn`](https://seaborn.github.io/), [`bokeh`](http://bokeh.pydata.org/en/latest/), ...)\n",
    "+ *creating* interactive data vizualisations ([`holoviews`](http://holoviews.org), ...)\n",
    "+ *analyzing and manipulating* images ([`scikit-image`](http://scikit-image.org/), [`PIL`](http://www.pythonware.com/products/pil/), [`opencv`](http://opencv.org/), ...)\n",
    "+ *executing* machine learning algorithms ([`scikit-learn`](scikit-learn.org), [`tensorflow`](https://www.tensorflow.org/), [`theano`](http://deeplearning.net/software/theano/),...)\n",
    "+ *data analysis* ([`pandas`](http://pandas.pydata.org))\n",
    "+ *biology* ([`biopython`](http://biopython.org/DIST/docs/tutorial/Tutorial.html))\n",
    "+ *interacting* with websites ([`requests`](http://docs.python-requests.org/en/master/)), google services ([`google-api-python-client`](https://developers.google.com/api-client-library/python/apis/)) etc.\n",
    "\n",
    "and much, much more! Remember, google is your friend, and  -- for scientific applications -- you can try to find a [`scikit`](http://scikits.appspot.com) package that meets your needs"
   ]
  },
  {
   "cell_type": "markdown",
   "metadata": {
    "Collapsed": "false"
   },
   "source": [
    "<div class=\"alert alert-info\" data-toggle=\"collapse\" data-target=\"#note1\">\n",
    "\n",
    "**Note on nomenclature** <i class=\"pull-right fa fa-chevron-down\"></i>   \n",
    "\n",
    "<div id=\"note1\" class=\"collapse\">\n",
    "    \n",
    "Throughout the course (and on the web) you will come accross the terms `package` and `module` to refer to these extensions  to the language.\n",
    "    \n",
    "In Python the terms [`package`](https://docs.python.org/3/tutorial/modules.html#packages) and [`module`](https://docs.python.org/3/tutorial/modules.html) technically refer to different things, however they can also be used\n",
    "as general terms (synonymous with \"library\") to mean \"extensions that provide additional functionality\".\n",
    "\n",
    "</div>\n",
    "</div>"
   ]
  },
  {
   "cell_type": "markdown",
   "metadata": {
    "Collapsed": "false"
   },
   "source": [
    "---"
   ]
  },
  {
   "cell_type": "markdown",
   "metadata": {
    "Collapsed": "false"
   },
   "source": [
    "# Learning Goals"
   ]
  },
  {
   "cell_type": "markdown",
   "metadata": {
    "Collapsed": "false"
   },
   "source": [
    "There are two main aims for this part of the course:\n",
    "\n",
    "#### using the three main libraries for scientific computing in Python (`numpy`, `scipy`, and `matplotlib`) to perform simple tasks.\n",
    "These three packages are the bread and butter of scientific Python. Many other packages (especially for plotting)\n",
    "are based on these, and a solid understanding of how to use them will pay dividends later.\n",
    "\n",
    "#### searching for, installing, and using libraries adapted to a particular problem domain\n",
    "Often you will have a problem to solve and no idea initially as to how to go about solving it.\n",
    "Luckily, a lot of the time the work has already been done for you. This may take the form of a ready-to-use package that\n",
    "you can install and use, or it may be something more rudimentary like a code snippet."
   ]
  },
  {
   "cell_type": "markdown",
   "metadata": {
    "Collapsed": "false"
   },
   "source": [
    "---"
   ]
  },
  {
   "cell_type": "markdown",
   "metadata": {
    "Collapsed": "false"
   },
   "source": [
    "# `numpy`: efficient numeric arrays"
   ]
  },
  {
   "cell_type": "markdown",
   "metadata": {
    "Collapsed": "false"
   },
   "source": [
    "### Why do we need arrays anyway?"
   ]
  },
  {
   "cell_type": "markdown",
   "metadata": {
    "Collapsed": "false"
   },
   "source": [
    "We already saw that Python has a built-in list datatype that can be used to hold collections of values. Often we will want to deal with arrays of numbers (integers, reals, or complex). While in principle we could make \"vectors\" of numbers just as lists:"
   ]
  },
  {
   "cell_type": "code",
   "execution_count": null,
   "metadata": {
    "Collapsed": "false"
   },
   "outputs": [],
   "source": [
    "# using a Python list as a vector -- bad idea\n",
    "vector = [1, 2, 3]"
   ]
  },
  {
   "cell_type": "markdown",
   "metadata": {
    "Collapsed": "false"
   },
   "source": [
    "and \"matrices\" as lists of lists of numbers:\n"
   ]
  },
  {
   "cell_type": "code",
   "execution_count": null,
   "metadata": {
    "Collapsed": "false"
   },
   "outputs": [],
   "source": [
    "# using a list of lists as a matrix -- bad idea\n",
    "matrix = [[1, 2],\n",
    "          [3, 4]]"
   ]
  },
  {
   "cell_type": "markdown",
   "metadata": {
    "Collapsed": "false"
   },
   "source": [
    "in practice this is not very well suited to performing common operations one would expect to do on matrices and vectors (such as adding them together, or multiplying them).\n",
    "\n",
    "One reason is that, in Python, adding two lists together does not do vector addition, but actually appends the second list to the first, like so:\n"
   ]
  },
  {
   "cell_type": "code",
   "execution_count": null,
   "metadata": {
    "Collapsed": "false"
   },
   "outputs": [],
   "source": [
    "vector_a = [1, 2, 3]\n",
    "vector_b = [4, 5, 6]\n",
    "print(vector_a + vector_b)"
   ]
  },
  {
   "cell_type": "markdown",
   "metadata": {
    "Collapsed": "false"
   },
   "source": [
    "Similarly multiplication by an integer n actually appends n copies of the original list together:\n"
   ]
  },
  {
   "cell_type": "code",
   "execution_count": null,
   "metadata": {
    "Collapsed": "false"
   },
   "outputs": [],
   "source": [
    "print(vector_a * 3)"
   ]
  },
  {
   "cell_type": "markdown",
   "metadata": {
    "Collapsed": "false"
   },
   "source": [
    "Another reason to avoid using lists is efficiency. If we manually tried to do vector addition with the two lists:"
   ]
  },
  {
   "cell_type": "code",
   "execution_count": null,
   "metadata": {
    "Collapsed": "false"
   },
   "outputs": [],
   "source": [
    "N = int(1E6)\n",
    "vector_a = list(range(N))  # 0 ... N-1\n",
    "vector_b = list(range(N, 2 * N))  # N ... 2N - 1\n",
    "vector_c = [None] * N  # create a list with N entries, each one equal to `None`\n",
    "\n",
    "# naive vector addition using lists and explicit loops: slow and difficult to read!\n",
    "for i in range(len(vector_a)):\n",
    "    vector_c[i] = vector_a[i] + vector_b[i]"
   ]
  },
  {
   "cell_type": "markdown",
   "metadata": {
    "Collapsed": "false"
   },
   "source": [
    "this will (as we shall see) be many times less efficient than using native arrays with numpy.\n"
   ]
  },
  {
   "cell_type": "markdown",
   "metadata": {
    "Collapsed": "false"
   },
   "source": [
    "### Importing numpy"
   ]
  },
  {
   "cell_type": "markdown",
   "metadata": {
    "Collapsed": "false"
   },
   "source": [
    "We already have a number of packages installed on our system, but to use a particular package in our Python program we must first import it:"
   ]
  },
  {
   "cell_type": "code",
   "execution_count": null,
   "metadata": {
    "Collapsed": "false"
   },
   "outputs": [],
   "source": [
    "import numpy"
   ]
  },
  {
   "cell_type": "markdown",
   "metadata": {
    "Collapsed": "false"
   },
   "source": [
    "we may now use the name `numpy` in our program to access the functionality\n",
    "provided by the Numpy package.\n",
    "\n",
    "In order to save some typing we may import the package and assign\n",
    "it to a shorter name instead. We will use \"`np`\" (and you should too):"
   ]
  },
  {
   "cell_type": "code",
   "execution_count": null,
   "metadata": {
    "Collapsed": "false"
   },
   "outputs": [],
   "source": [
    "import numpy as np"
   ]
  },
  {
   "cell_type": "markdown",
   "metadata": {
    "Collapsed": "false"
   },
   "source": [
    "### Creating arrays"
   ]
  },
  {
   "cell_type": "markdown",
   "metadata": {
    "Collapsed": "false"
   },
   "source": [
    "Now we can use Numpy to create arrays of various dimension and rank:"
   ]
  },
  {
   "cell_type": "code",
   "execution_count": 20,
   "metadata": {
    "Collapsed": "false"
   },
   "outputs": [
    {
     "name": "stdout",
     "output_type": "stream",
     "text": [
      "vector of size: (4,)\n",
      "[1 2 3 4]\n",
      "0\n",
      "matrix of size: (2, 2)\n"
     ]
    }
   ],
   "source": [
    "import numpy as np\n",
    "# 1D array (vector)\n",
    "a = np.array([1, 2, 3, 4])\n",
    "print(\"vector of size:\", a.shape)\n",
    "print(a)\n",
    "\n",
    "# realisation in list \n",
    "c = list(range(4))\n",
    "print(c[0])\n",
    "                \n",
    "# 2D array (matrix)\n",
    "b = np.array([[1, 3],\n",
    "              [2, 4]])\n",
    "print(\"matrix of size:\", b.shape)"
   ]
  },
  {
   "cell_type": "markdown",
   "metadata": {
    "Collapsed": "false"
   },
   "source": [
    "In the above we created a numpy array from a `list`. Numpy also has functions for creating arrays directly, without having to first create a list:"
   ]
  },
  {
   "cell_type": "code",
   "execution_count": 5,
   "metadata": {
    "Collapsed": "false"
   },
   "outputs": [
    {
     "name": "stdout",
     "output_type": "stream",
     "text": [
      "array of shape: (3,) and type: float64\n",
      "array of shape: (3, 2) and type: int64\n",
      "array of shape: (3, 3) and type: float64\n",
      "array of shape: (3, 2, 3) and type: complex128\n"
     ]
    }
   ],
   "source": [
    "# 1D array of zeros, each one is a a real number (float)\n",
    "a = np.zeros((3,), dtype=float)\n",
    "print(\"array of shape:\", a.shape, \"and type:\", a.dtype)\n",
    "\n",
    "# 2D array of ones, each one is an integer (int)\n",
    "b = np.ones((3, 2), dtype=int)\n",
    "print(\"array of shape:\", b.shape, \"and type:\", b.dtype)\n",
    "\n",
    "# 2D array being a unit matrix\n",
    "c = np.identity(3, dtype=float)\n",
    "print(\"array of shape:\", c.shape, \"and type:\", c.dtype)\n",
    "\n",
    "# 3D array of ones, each one is a complex number (complex)\n",
    "d = np.ones((3, 2, 3), dtype=complex)\n",
    "print(\"array of shape:\", d.shape, \"and type:\", d.dtype)"
   ]
  },
  {
   "cell_type": "markdown",
   "metadata": {
    "Collapsed": "false"
   },
   "source": [
    "The above example illustrates two key ways in which Numpy arrays differ from lists:\n",
    "\n",
    "+ Numpy arrays have a fixed *size*\n",
    "+ Numpy arrays have a fixed *type*\n",
    "\n",
    "In this respect they are akin to arrays in other languages such as C."
   ]
  },
  {
   "cell_type": "markdown",
   "metadata": {
    "Collapsed": "false"
   },
   "source": [
    "Numpy even has functions akin to the Python built-in `range`, except that they return Numpy arrays:"
   ]
  },
  {
   "cell_type": "code",
   "execution_count": 6,
   "metadata": {
    "Collapsed": "false"
   },
   "outputs": [
    {
     "name": "stdout",
     "output_type": "stream",
     "text": [
      "arange: [0.  0.1 0.2 0.3 0.4 0.5 0.6 0.7 0.8 0.9]\n",
      "linspace: [0.         0.11111111 0.22222222 0.33333333 0.44444444 0.55555556\n",
      " 0.66666667 0.77777778 0.88888889 1.        ]\n"
     ]
    }
   ],
   "source": [
    "# step size 0.1, does not include upper bound (1)\n",
    "a = np.arange(0, 1, 0.1)\n",
    "print('arange:', a)\n",
    "\n",
    "# 10 linearly spaced samples, includes lower and upper bounds\n",
    "b = np.linspace(0, 1, 10)\n",
    "print('linspace:', b)"
   ]
  },
  {
   "cell_type": "markdown",
   "metadata": {
    "Collapsed": "false"
   },
   "source": [
    "### Extracting array elements"
   ]
  },
  {
   "cell_type": "markdown",
   "metadata": {
    "Collapsed": "false"
   },
   "source": [
    "We can access elements in arrays in the same manner as with `list`s:"
   ]
  },
  {
   "cell_type": "code",
   "execution_count": 10,
   "metadata": {
    "Collapsed": "false"
   },
   "outputs": [
    {
     "name": "stdout",
     "output_type": "stream",
     "text": [
      "first element: 0 ,last element: 9\n",
      "first 3 elements: [0 1 2]\n",
      "last 3 elements: [7 8 9]\n",
      "even elements: [0 2 4 6 8]\n",
      "odd elements: [1 3 5 7 9]\n"
     ]
    }
   ],
   "source": [
    "a = np.arange(10)\n",
    "\n",
    "print('first element:', a[0], ',last element:', a[-1])\n",
    "\n",
    "# slicing into the array\n",
    "print('first 3 elements:', a[0:3])  # slice implicitly starts from 0, so we could ommit the 0\n",
    "print('last 3 elements:', a[-3:])  # slice implicitly stops at the end\n",
    "print('even elements:', a[::2])  # step == 2, take every other element\n",
    "print('odd elements:', a[1::2])  # step == 2, start == 1, take every other element, starting from the second one"
   ]
  },
  {
   "cell_type": "markdown",
   "metadata": {
    "Collapsed": "false"
   },
   "source": [
    "<div class=\"alert alert-warning\" data-toggle=\"collapse\" data-target=\"#note-indexing\">\n",
    "\n",
    "**Warning about indexing** <i class=\"pull-right fa fa-chevron-down\"></i>\n",
    "\n",
    "<div id=\"note-indexing\" class=\"\">\n",
    "    \n",
    "Remember that in Python the first element in a container has index `0`. This is the same as\n",
    "in C, but differs from Matlab and Fortran, where indexing starts from `1` instead.\n",
    "    \n",
    "Similarly, the last element has index `N-1` in Python (although, recall that we may use *negative* indices to index *from the end*, so the last element also has index `-1`).\n",
    "\n",
    "</div>\n",
    "</div>"
   ]
  },
  {
   "cell_type": "markdown",
   "metadata": {
    "Collapsed": "false"
   },
   "source": [
    "we can access elements in arrays with rank > 1 in an equally intuitive way:"
   ]
  },
  {
   "cell_type": "code",
   "execution_count": 13,
   "metadata": {
    "Collapsed": "false"
   },
   "outputs": [
    {
     "name": "stdout",
     "output_type": "stream",
     "text": [
      "first element: 1 ,second element: 2\n",
      "first column: [1 3]\n",
      "first row: [1 2]\n"
     ]
    }
   ],
   "source": [
    "b = np.array([[1, 2],\n",
    "              [3, 4]])\n",
    "print('first element:', b[0, 0], ',second element:', b[0, 1])\n",
    "print('first column:', b[:, 0])  # \":\" on its own means \"get all the elements\"\n",
    "print('first row:', b[0, :])"
   ]
  },
  {
   "cell_type": "markdown",
   "metadata": {
    "Collapsed": "false"
   },
   "source": [
    "**see also:** https://docs.scipy.org/doc/numpy/reference/arrays.indexing.html#basic-slicing-and-indexing"
   ]
  },
  {
   "cell_type": "markdown",
   "metadata": {
    "Collapsed": "false"
   },
   "source": [
    "We can also *reshape* arrays, as long as the underlying number of elements does not change:"
   ]
  },
  {
   "cell_type": "code",
   "execution_count": 12,
   "metadata": {
    "Collapsed": "false"
   },
   "outputs": [
    {
     "name": "stdout",
     "output_type": "stream",
     "text": [
      "[1 2 3 4]\n"
     ]
    }
   ],
   "source": [
    "b = np.array([[1, 2],\n",
    "              [3, 4]])\n",
    "\n",
    "a = b.reshape((4,))\n",
    "print(a)"
   ]
  },
  {
   "cell_type": "markdown",
   "metadata": {
    "Collapsed": "false"
   },
   "source": [
    "be aware, however, that `a` and `b` now refer to *the same memory*:"
   ]
  },
  {
   "cell_type": "code",
   "execution_count": null,
   "metadata": {
    "Collapsed": "false"
   },
   "outputs": [],
   "source": [
    "print(b)\n",
    "\n",
    "a[0] = 1000  # modify entry 0 of a\n",
    "\n",
    "print()\n",
    "print(b)  # a points to the same memory as b"
   ]
  },
  {
   "cell_type": "markdown",
   "metadata": {
    "Collapsed": "false"
   },
   "source": [
    "### Mini-exercises"
   ]
  },
  {
   "cell_type": "markdown",
   "metadata": {
    "Collapsed": "false"
   },
   "source": [
    "Make an array with integer numbers from 0 up to and including 9. Print the first 4 entries."
   ]
  },
  {
   "cell_type": "code",
   "execution_count": 18,
   "metadata": {
    "Collapsed": "false"
   },
   "outputs": [
    {
     "name": "stdout",
     "output_type": "stream",
     "text": [
      "[0 1 2 3]\n"
     ]
    }
   ],
   "source": [
    "import numpy as np\n",
    "a = np.array(range(9))\n",
    "print(a[0:4])"
   ]
  },
  {
   "cell_type": "markdown",
   "metadata": {
    "Collapsed": "false"
   },
   "source": [
    "Make a matrix of the form\n",
    "$$\\begin{pmatrix}\n",
    "1.5&2\\\\\n",
    "4&0\n",
    "\\end{pmatrix}$$\n",
    "Which data type does this matrix have?\n",
    "\n",
    "Now assign a) the first column and b) the second row each to a separate\n",
    "vector."
   ]
  },
  {
   "cell_type": "code",
   "execution_count": 90,
   "metadata": {
    "Collapsed": "false"
   },
   "outputs": [
    {
     "name": "stdout",
     "output_type": "stream",
     "text": [
      "[1.5 4. ]\n",
      "[[4. 0.]]\n",
      "(2, 2)\n",
      "float64\n"
     ]
    }
   ],
   "source": [
    "import numpy as np\n",
    "a = np.array([[1.5, 2],\n",
    "             [4, 0]])\n",
    "print(a[:, 0])\n",
    "print(a[1:, ])\n",
    "print(a.shape)\n",
    "print(a.dtype)"
   ]
  },
  {
   "cell_type": "markdown",
   "metadata": {
    "Collapsed": "false"
   },
   "source": [
    "#### Solutions"
   ]
  },
  {
   "cell_type": "code",
   "execution_count": null,
   "metadata": {
    "Collapsed": "false"
   },
   "outputs": [],
   "source": [
    "x = np.arange(10)\n",
    "print(x[:4])"
   ]
  },
  {
   "cell_type": "code",
   "execution_count": 50,
   "metadata": {
    "Collapsed": "false"
   },
   "outputs": [
    {
     "name": "stdout",
     "output_type": "stream",
     "text": [
      "float64\n",
      "[1.5 4. ]\n",
      "[4. 0.]\n"
     ]
    }
   ],
   "source": [
    "A = np.array([[1.5, 2],\n",
    "              [4, 0]])\n",
    "print(A.dtype)\n",
    "\n",
    "c = A[:,0]\n",
    "print(c)\n",
    "\n",
    "r = A[1,:] \n",
    "print(r)"
   ]
  },
  {
   "cell_type": "markdown",
   "metadata": {
    "Collapsed": "false"
   },
   "source": [
    "### Basic array algebra"
   ]
  },
  {
   "cell_type": "markdown",
   "metadata": {
    "Collapsed": "false"
   },
   "source": [
    "An advantage of using Numpy arrays is that they natively support common algebraic operations:"
   ]
  },
  {
   "cell_type": "code",
   "execution_count": 62,
   "metadata": {
    "Collapsed": "false"
   },
   "outputs": [
    {
     "name": "stdout",
     "output_type": "stream",
     "text": [
      "[0 1 2]\n",
      "[3 4 5]\n",
      "a + 2: [2 3 4]\n",
      "a + b: [3 5 7]\n",
      "a * 3: [0 3 6]\n",
      "a * b: [ 0  4 10]\n",
      "a · b: 14\n",
      "M a: [ 8 17 26]\n",
      "M M: [[ 30  36  42]\n",
      " [ 66  81  96]\n",
      " [102 126 150]]\n"
     ]
    }
   ],
   "source": [
    "a = np.arange(3)\n",
    "b = np.arange(3, 6)\n",
    "print(a)\n",
    "print(b)\n",
    "\n",
    "print('a + 2:', a + 2)  # element-wise addition\n",
    "print('a + b:', a + b)\n",
    "print('a * 3:', a * 3)  # element-wise multiplication\n",
    "print('a * b:', a * b)  # element-wise multiplication\n",
    "print('a · b:', a @ b)  # dot product\n",
    "\n",
    "M = np.array([[1, 2, 3],\n",
    "              [4, 5, 6],\n",
    "              [7, 8, 9]])\n",
    "\n",
    "print('M a:', M @ a)     # matrix-vector multiply\n",
    "print('M M:', M @ M)     # matrix-matrix multiply "
   ]
  },
  {
   "cell_type": "markdown",
   "metadata": {
    "Collapsed": "false"
   },
   "source": [
    "<div class=\"alert alert-info\" data-toggle=\"collapse\" data-target=\"#note1\">\n",
    "\n",
    "**Note on `@`** <i class=\"pull-right fa fa-chevron-down\"></i>   \n",
    "\n",
    "<div id=\"note1\" class=\"collapse\">\n",
    "    \n",
    "The operator `@` is new since Python 3.5. Alternatively, the vector-vector, matrix-vector and matrix-matrix multiplication of the example above can be written as\n",
    "`a.dot(b)`, `M.dot(a)` or `M.dot(M)`\n",
    "</div>\n",
    "</div>"
   ]
  },
  {
   "cell_type": "markdown",
   "metadata": {
    "Collapsed": "false"
   },
   "source": [
    "### Element-wise functions"
   ]
  },
  {
   "cell_type": "markdown",
   "metadata": {
    "Collapsed": "false"
   },
   "source": [
    "In addition, numpy has a number of functions that will act *element-wise* on the elements:"
   ]
  },
  {
   "cell_type": "code",
   "execution_count": 32,
   "metadata": {
    "Collapsed": "false"
   },
   "outputs": [
    {
     "name": "stdout",
     "output_type": "stream",
     "text": [
      "sin(a): [0.         0.84147098 0.90929743]\n",
      "\n",
      "exp(b): [[  2.71828183   7.3890561   20.08553692]\n",
      " [ 54.59815003 148.4131591  403.42879349]]\n"
     ]
    }
   ],
   "source": [
    "a = np.arange(3)\n",
    "b = np.array([[1, 2, 3],\n",
    "              [4, 5, 6]])\n",
    "\n",
    "print('sin(a):', np.sin(a))\n",
    "print()\n",
    "print('exp(b):', np.exp(b))"
   ]
  },
  {
   "cell_type": "markdown",
   "metadata": {
    "Collapsed": "false"
   },
   "source": [
    "**see also**: https://docs.scipy.org/doc/numpy/reference/ufuncs.html#available-ufuncs"
   ]
  },
  {
   "cell_type": "markdown",
   "metadata": {
    "Collapsed": "false"
   },
   "source": [
    "<div class=\"alert alert-warning\" data-toggle=\"collapse\" data-target=\"#note2\" aria-expanded=\"true\">\n",
    "\n",
    "**Warning about Numpy functions** <i class=\"pull-right fa fa-chevron-down\"></i>\n",
    "   \n",
    "<div id=\"note2\" class=\"\" aria-expanded=\"true\">\n",
    "    \n",
    "Numpy functions and algebraic operations act *element-wise*, that is, doing something\n",
    "like `M + 1` (where `M` is a matrix) will add `1` to each of the elements, rather\n",
    "than adding the identity matrix. Similarly, `np.exp(M)` will exponentiate all the components\n",
    "of `M`; it does *not* compute the matrix exponential.  \n",
    "    \n",
    "</div>\n",
    "</div>"
   ]
  },
  {
   "cell_type": "markdown",
   "metadata": {
    "Collapsed": "false"
   },
   "source": [
    "### Numpy functions acting on (parts of) a full array"
   ]
  },
  {
   "cell_type": "markdown",
   "metadata": {
    "Collapsed": "false"
   },
   "source": [
    "There are also many functions that act on a full array:"
   ]
  },
  {
   "cell_type": "code",
   "execution_count": 33,
   "metadata": {
    "Collapsed": "false"
   },
   "outputs": [
    {
     "name": "stdout",
     "output_type": "stream",
     "text": [
      "Sum of all elements of a: 10\n",
      "Average of all elements of a: 1.0\n",
      "Sum of all elements of b: 6.0\n",
      "Sum of all elements in a row of b: [2. 4.]\n",
      "Largest element of b: 2.0\n",
      "Position of largest element in b (refers to flattened array): 2\n"
     ]
    }
   ],
   "source": [
    "a = np.ones((10,), dtype=int)\n",
    "b = np.array([[1,1],\n",
    "              [2,2]], dtype=float)\n",
    "\n",
    "print('Sum of all elements of a:', np.sum(a))\n",
    "print('Average of all elements of a:', np.mean(a))\n",
    "\n",
    "print('Sum of all elements of b:', np.sum(b))\n",
    "print('Sum of all elements in a row of b:', np.sum(b, axis=1))\n",
    "\n",
    "print('Largest element of b:', np.max(b))\n",
    "print('Position of largest element in b (refers to flattened array):', \n",
    "      np.argmax(b))\n"
   ]
  },
  {
   "cell_type": "markdown",
   "metadata": {
    "Collapsed": "false"
   },
   "source": [
    "### Mini-exercises"
   ]
  },
  {
   "cell_type": "markdown",
   "metadata": {
    "Collapsed": "false"
   },
   "source": [
    "Make a 30x30 matrix with the value 2 on the diagonal and otherwise 0"
   ]
  },
  {
   "cell_type": "code",
   "execution_count": 63,
   "metadata": {
    "Collapsed": "false"
   },
   "outputs": [],
   "source": [
    "import numpy as np\n",
    "a = np.identity(30)*2\n",
    "#print(a)"
   ]
  },
  {
   "cell_type": "markdown",
   "metadata": {
    "Collapsed": "false"
   },
   "source": [
    "Use numpy to compute the matrix-vector multiplication\n",
    "$$\\begin{pmatrix}\n",
    "1&2\\\\3&4\\\\\n",
    "\\end{pmatrix} \\begin{pmatrix}1\\\\2\\end{pmatrix}\n",
    "$$"
   ]
  },
  {
   "cell_type": "code",
   "execution_count": null,
   "metadata": {
    "Collapsed": "false"
   },
   "outputs": [],
   "source": []
  },
  {
   "cell_type": "markdown",
   "metadata": {
    "Collapsed": "false"
   },
   "source": [
    "You have three vectors \n",
    "$$\\mathbf{a}=\\begin{pmatrix}1\\\\2\\\\3\\end{pmatrix},\n",
    "\\mathbf{b}=\\begin{pmatrix}0\\\\0\\\\1\\end{pmatrix},\n",
    "\\mathbf{c}=\\begin{pmatrix}1\\\\1\\\\1\\end{pmatrix}\n",
    "$$\n",
    "Store these three vectors as the rows of a matrix. Then use numpy element-wise operations to compute the length of each vector (for a vector \n",
    "$\\mathbf{a}$ the length is given as $\\sqrt{\\sum_i a_i}$). The result should be a vector with containing the different lengths."
   ]
  },
  {
   "cell_type": "code",
   "execution_count": 91,
   "metadata": {
    "Collapsed": "false"
   },
   "outputs": [
    {
     "name": "stdout",
     "output_type": "stream",
     "text": [
      "[3 2 1]\n",
      "[12 18 24]\n",
      "[10 22 14]\n"
     ]
    }
   ],
   "source": [
    "import numpy as np\n",
    "a = np.array([[1, 2, 3],\n",
    "            [1, 5, 9],\n",
    "            [3, 2, 1]])\n",
    "b = np.array([1, 2, 3])\n",
    "#print(b)\n",
    "\n",
    "c = np.arange(1, 4)\n",
    "c = c[::-1]\n",
    "\n",
    "print(c)\n",
    "#print(a)\n",
    "#print(b)\n",
    "print(b@a)\n",
    "print(a@c)\n"
   ]
  },
  {
   "cell_type": "code",
   "execution_count": null,
   "metadata": {
    "Collapsed": "false"
   },
   "outputs": [],
   "source": []
  },
  {
   "cell_type": "markdown",
   "metadata": {
    "Collapsed": "false"
   },
   "source": [
    "#### Solutions"
   ]
  },
  {
   "cell_type": "code",
   "execution_count": null,
   "metadata": {
    "Collapsed": "false"
   },
   "outputs": [],
   "source": [
    "a = np.identity(30) * 2\n",
    "print(a)"
   ]
  },
  {
   "cell_type": "code",
   "execution_count": 60,
   "metadata": {
    "Collapsed": "false"
   },
   "outputs": [
    {
     "name": "stdout",
     "output_type": "stream",
     "text": [
      "[ 5 11]\n"
     ]
    }
   ],
   "source": [
    "M = np.array([[1, 2],\n",
    "              [3, 4]])\n",
    "v = np.array([1, 2])\n",
    "\n",
    "print(M @ v)"
   ]
  },
  {
   "cell_type": "code",
   "execution_count": null,
   "metadata": {
    "Collapsed": "false"
   },
   "outputs": [],
   "source": [
    "M = np.array([[1, 2, 3],\n",
    "              [0, 0, 1],\n",
    "              [1, 1, 1]])\n",
    "lengths = np.sqrt(np.sum(M**2, axis=1))\n",
    "print(lengths)"
   ]
  },
  {
   "cell_type": "markdown",
   "metadata": {
    "Collapsed": "false"
   },
   "source": [
    "### Saving and loading data"
   ]
  },
  {
   "cell_type": "markdown",
   "metadata": {
    "Collapsed": "false"
   },
   "source": [
    "Numpy includes facilities for saving arrays to disk and loading them back in again:"
   ]
  },
  {
   "cell_type": "code",
   "execution_count": 66,
   "metadata": {
    "Collapsed": "false"
   },
   "outputs": [
    {
     "name": "stdout",
     "output_type": "stream",
     "text": [
      "True\n"
     ]
    }
   ],
   "source": [
    "a = np.arange(10)\n",
    "#print(a)\n",
    "np.save('my_array.npy', a)\n",
    "\n",
    "b = np.load('my_array.npy') #copy a to b\n",
    "\n",
    "# check the arrays are equal\n",
    "print(np.all(a == b))  # np.all() needed, as a == b compares *element-wise*"
   ]
  },
  {
   "cell_type": "markdown",
   "metadata": {
    "Collapsed": "false"
   },
   "source": [
    "We can also save the array in a text format (rather than a binary one) so that we can easily\n",
    "parse the data using other tools, or inspect it manually with a text editor:"
   ]
  },
  {
   "cell_type": "code",
   "execution_count": null,
   "metadata": {
    "Collapsed": "false"
   },
   "outputs": [],
   "source": [
    "np.savetxt('my_array.txt', a)\n",
    "b = np.loadtxt('my_array.txt')\n",
    "\n",
    "print(np.all(a == b))"
   ]
  },
  {
   "cell_type": "markdown",
   "metadata": {
    "Collapsed": "false"
   },
   "source": [
    "**see also**: https://docs.scipy.org/doc/numpy/reference/routines.io.html\n",
    "\n",
    "If you need to store and manipulate massive datasets that cannot fit into memory at once, consider looking at [h5py](http://www.h5py.org/)."
   ]
  },
  {
   "cell_type": "markdown",
   "metadata": {
    "Collapsed": "false"
   },
   "source": [
    "### A note on efficiency"
   ]
  },
  {
   "cell_type": "markdown",
   "metadata": {
    "Collapsed": "false"
   },
   "source": [
    "In addition to being more intuitive for manipulating numeric data, Numpy arrays are more efficient than using lists.\n",
    "\n",
    "let us be more concrete:"
   ]
  },
  {
   "cell_type": "code",
   "execution_count": null,
   "metadata": {
    "Collapsed": "false"
   },
   "outputs": [],
   "source": [
    "N = int(1E6)\n",
    "list_a = list(range(N))\n",
    "list_b = [None] * N  # create a list with N entries, each one equal to `None`\n",
    "\n",
    "array_a = np.array(list_a)\n",
    "array_b = np.zeros_like(array_a)"
   ]
  },
  {
   "cell_type": "code",
   "execution_count": null,
   "metadata": {
    "Collapsed": "false"
   },
   "outputs": [],
   "source": [
    "%%timeit\n",
    "\n",
    "# using lists\n",
    "for i in range(N):\n",
    "    list_b[i] = 2 * list_a[i] + 1"
   ]
  },
  {
   "cell_type": "code",
   "execution_count": null,
   "metadata": {
    "Collapsed": "false"
   },
   "outputs": [],
   "source": [
    "%%timeit\n",
    "\n",
    "# using arrays in a naive way -- don't do this!\n",
    "for i in range(N):\n",
    "    array_b[i] = 2 * array_a[i] + 1"
   ]
  },
  {
   "cell_type": "code",
   "execution_count": null,
   "metadata": {
    "Collapsed": "false"
   },
   "outputs": [],
   "source": [
    "%%timeit\n",
    "\n",
    "# using arrays properly\n",
    "array_b = 2 * array_a + 1"
   ]
  },
  {
   "cell_type": "markdown",
   "metadata": {
    "Collapsed": "false"
   },
   "source": [
    "If we use numpy arrays properly, we see a speedup of 40x compared with the naive list example.\n",
    "\n",
    "Note however that if we do the direct naive loop with Numpy arrays then\n",
    "the code actually runs *slower than the list example*.\n",
    "\n",
    "This should serve to illustrate that **explicitly looping over Numpy arrays is a bad idea**. If you find yourself doing this, stop and try to see if there is a more \"numpy\" way of expressing the operation."
   ]
  },
  {
   "cell_type": "markdown",
   "metadata": {
    "Collapsed": "false"
   },
   "source": [
    "## Advanced topics"
   ]
  },
  {
   "cell_type": "markdown",
   "metadata": {
    "Collapsed": "false"
   },
   "source": [
    "**Numpy internals** https://arxiv.org/pdf/1102.1523v1.pdf\n",
    "\n",
    "**Array broadcasting** https://docs.scipy.org/doc/numpy/user/basics.broadcasting.html\n",
    "\n",
    "**Fancy indexing** https://docs.scipy.org/doc/numpy/reference/arrays.indexing.html#advanced-indexing"
   ]
  },
  {
   "cell_type": "markdown",
   "metadata": {
    "Collapsed": "false",
    "toc-hr-collapsed": false
   },
   "source": [
    "## Exercises"
   ]
  },
  {
   "cell_type": "markdown",
   "metadata": {
    "Collapsed": "false"
   },
   "source": [
    "###  \n",
    "---"
   ]
  },
  {
   "cell_type": "markdown",
   "metadata": {
    "Collapsed": "false"
   },
   "source": [
    "Create a zero vector of size 10, but the fifth value which is 1 "
   ]
  },
  {
   "cell_type": "code",
   "execution_count": null,
   "metadata": {
    "Collapsed": "false"
   },
   "outputs": [],
   "source": [
    "import numpy as np\n",
    "a = np.zeros((1, 2))\n",
    "a\n"
   ]
  },
  {
   "cell_type": "markdown",
   "metadata": {
    "Collapsed": "false"
   },
   "source": [
    "#### Solution"
   ]
  },
  {
   "cell_type": "code",
   "execution_count": null,
   "metadata": {
    "Collapsed": "false"
   },
   "outputs": [],
   "source": [
    "v = np.zeros((10,))\n",
    "v[4] = 1  # zero-based indexing!\n",
    "\n",
    "v"
   ]
  },
  {
   "cell_type": "markdown",
   "metadata": {
    "Collapsed": "false"
   },
   "source": [
    "###  \n",
    "---"
   ]
  },
  {
   "cell_type": "markdown",
   "metadata": {
    "Collapsed": "false"
   },
   "source": [
    "Create a vector from a list\n",
    "\n",
    "Reverse the vector (first element becomes last)"
   ]
  },
  {
   "cell_type": "code",
   "execution_count": null,
   "metadata": {
    "Collapsed": "false"
   },
   "outputs": [],
   "source": []
  },
  {
   "cell_type": "markdown",
   "metadata": {
    "Collapsed": "true"
   },
   "source": [
    "#### Solution"
   ]
  },
  {
   "cell_type": "code",
   "execution_count": null,
   "metadata": {
    "Collapsed": "false"
   },
   "outputs": [],
   "source": [
    "v = np.array([1, 2, 3, 4])\n",
    "v[::-1]"
   ]
  },
  {
   "cell_type": "markdown",
   "metadata": {
    "Collapsed": "false"
   },
   "source": [
    "###  \n",
    "---"
   ]
  },
  {
   "cell_type": "markdown",
   "metadata": {
    "Collapsed": "false"
   },
   "source": [
    "Create a 8x8 matrix and fill it with a checkerboard pattern (alternating 1's and 0's)"
   ]
  },
  {
   "cell_type": "code",
   "execution_count": null,
   "metadata": {
    "Collapsed": "false"
   },
   "outputs": [],
   "source": []
  },
  {
   "cell_type": "markdown",
   "metadata": {
    "Collapsed": "true"
   },
   "source": [
    "#### Solution"
   ]
  },
  {
   "cell_type": "code",
   "execution_count": null,
   "metadata": {
    "Collapsed": "false"
   },
   "outputs": [],
   "source": [
    "m = np.zeros((8, 8))\n",
    "m[::2, 1::2] = 1\n",
    "m[1::2, ::2] = 1\n",
    "\n",
    "m"
   ]
  },
  {
   "cell_type": "markdown",
   "metadata": {
    "Collapsed": "false"
   },
   "source": [
    "###  \n",
    "---"
   ]
  },
  {
   "cell_type": "markdown",
   "metadata": {
    "Collapsed": "false"
   },
   "source": [
    "Create a 2D array with 1 on the border and 0 inside "
   ]
  },
  {
   "cell_type": "code",
   "execution_count": null,
   "metadata": {
    "Collapsed": "false"
   },
   "outputs": [],
   "source": []
  },
  {
   "cell_type": "markdown",
   "metadata": {
    "Collapsed": "true"
   },
   "source": [
    "#### Solution"
   ]
  },
  {
   "cell_type": "code",
   "execution_count": null,
   "metadata": {
    "Collapsed": "false"
   },
   "outputs": [],
   "source": [
    "m = np.zeros((4, 5))\n",
    "\n",
    "m[0, :] = 1\n",
    "m[:, 0] = 1\n",
    "m[-1, :] = 1\n",
    "m[:, -1] = 1\n",
    "\n",
    "m"
   ]
  },
  {
   "cell_type": "markdown",
   "metadata": {
    "Collapsed": "false"
   },
   "source": [
    "###  \n",
    "---"
   ]
  },
  {
   "cell_type": "markdown",
   "metadata": {
    "Collapsed": "false"
   },
   "source": [
    "Construct a random vector of 6 elements (maybe `np.random` would be a good starting point?)\n",
    "\n",
    "Find the length of this vector\n",
    "\n",
    "Find the minimum element of this vector"
   ]
  },
  {
   "cell_type": "code",
   "execution_count": null,
   "metadata": {
    "Collapsed": "false"
   },
   "outputs": [],
   "source": []
  },
  {
   "cell_type": "markdown",
   "metadata": {
    "Collapsed": "true"
   },
   "source": [
    "#### Solution"
   ]
  },
  {
   "cell_type": "code",
   "execution_count": null,
   "metadata": {
    "Collapsed": "false"
   },
   "outputs": [],
   "source": [
    "v = np.random.random_sample(6)\n",
    "\n",
    "print('norm:', np.sqrt(np.sum(v * v)))\n",
    "\n",
    "print('min:', np.min(v))"
   ]
  },
  {
   "cell_type": "markdown",
   "metadata": {
    "Collapsed": "false"
   },
   "source": [
    "###  \n",
    "---"
   ]
  },
  {
   "cell_type": "markdown",
   "metadata": {
    "Collapsed": "false"
   },
   "source": [
    "Construct a random 10x2 matrix representing 10 cartesian coordinate vectors.\n",
    "\n",
    "Convert them to polar coordinates.\n",
    "\n",
    "remember:\n",
    "\n",
    "$$\n",
    "\\begin{aligned}\n",
    "r &= \\sqrt{x^2 + y^2} \\\\\n",
    "θ &= \\tan^{-1}\\left(\\frac{y}{x}\\right)\n",
    "\\end{aligned}\n",
    "$$\n",
    "\n",
    "Find the vector with the smallest radial coordinate"
   ]
  },
  {
   "cell_type": "code",
   "execution_count": null,
   "metadata": {
    "Collapsed": "false"
   },
   "outputs": [],
   "source": []
  },
  {
   "cell_type": "markdown",
   "metadata": {
    "Collapsed": "false"
   },
   "source": [
    "#### Solution"
   ]
  },
  {
   "cell_type": "code",
   "execution_count": null,
   "metadata": {
    "Collapsed": "false"
   },
   "outputs": [],
   "source": [
    "v = np.random.random_sample((10, 2))\n",
    "print(v)\n",
    "\n",
    "v_polar = np.zeros_like(v)\n",
    "\n",
    "v_polar[:, 0] = np.sqrt(v[:, 0]**2 + v[:, 1]**2)\n",
    "v_polar[:, 1] = np.arctan2(v[:, 1], v[:, 0])\n",
    "\n",
    "#print(v_polar)\n",
    "\n",
    "min_r = np.argmin(v_polar[:, 0], axis=0)\n",
    "v[min_r]"
   ]
  },
  {
   "cell_type": "markdown",
   "metadata": {
    "Collapsed": "false"
   },
   "source": [
    "###  \n",
    "---"
   ]
  },
  {
   "cell_type": "markdown",
   "metadata": {
    "Collapsed": "false"
   },
   "source": [
    "#### Numerical integration\n",
    "\n",
    "(This exercise is a bit tougher.)\n",
    "\n",
    "The trapezium rule is a scheme for approximating an integral:\n",
    "\n",
    "$$\n",
    "\\begin{aligned}\n",
    "\\int_a^b f(x)\\, dx &\\approx \\frac{\\Delta x}{2}\\left[f(a) + f(b) + 2\\sum_{n=1}^{N-1} f(a + n\\Delta x)\\right] \\\\\n",
    "\\Delta x &= \\frac{b - a}{N}\n",
    "\\end{aligned}\n",
    "$$\n",
    "\n",
    "Use numpy to estimate the integral of $\\frac{1}{\\sqrt{π}}\\exp(-x^2)$ between -10 and 10 using 50 points  with the trapezium rule.\n",
    "\n",
    "**hint**: use element-wise functions and slicing\n",
    "\n",
    "Now try with 10 million points (this should run in less than 2 seconds; if it doesn't there's something wrong!"
   ]
  },
  {
   "cell_type": "code",
   "execution_count": null,
   "metadata": {
    "Collapsed": "false"
   },
   "outputs": [],
   "source": []
  },
  {
   "cell_type": "markdown",
   "metadata": {
    "Collapsed": "true"
   },
   "source": [
    "#### Solution"
   ]
  },
  {
   "cell_type": "code",
   "execution_count": null,
   "metadata": {
    "Collapsed": "false"
   },
   "outputs": [],
   "source": [
    "x, dx = np.linspace(-10, 10, int(1E7), retstep=True)\n",
    "\n",
    "f = np.exp(-x**2) / np.sqrt(np.pi)\n",
    "\n",
    "(dx / 2) * (f[0] + f[-1] + 2 * np.sum(f[1:-1]))"
   ]
  },
  {
   "cell_type": "markdown",
   "metadata": {
    "Collapsed": "false"
   },
   "source": [
    "## Extra exercises\n",
    "\n",
    "+ https://github.com/rougier/numpy-100/blob/master/100_Numpy_exercises.md"
   ]
  },
  {
   "cell_type": "markdown",
   "metadata": {
    "Collapsed": "false"
   },
   "source": [
    "---"
   ]
  },
  {
   "cell_type": "markdown",
   "metadata": {
    "Collapsed": "false"
   },
   "source": [
    "# `matplotlib`: plotting primitives"
   ]
  },
  {
   "cell_type": "markdown",
   "metadata": {
    "Collapsed": "false"
   },
   "source": [
    "Matplotlib is the most widely-used plotting library for Python. To use\n",
    "it, we should first `import` it, like we did for Numpy:"
   ]
  },
  {
   "cell_type": "code",
   "execution_count": 97,
   "metadata": {
    "Collapsed": "false"
   },
   "outputs": [],
   "source": [
    "import matplotlib.pyplot as plt\n",
    "\n",
    "%matplotlib widget"
   ]
  },
  {
   "cell_type": "markdown",
   "metadata": {
    "Collapsed": "false"
   },
   "source": [
    "Note that this time we actually directly import a sub-package of Matplotlib called `pyplot`, which gives us an easier plotting interface similar to Matlab.\n",
    "\n",
    "The line `%matplotlib widget` makes the plots appear in the browser (otherwise an extra window would open)."
   ]
  },
  {
   "cell_type": "markdown",
   "metadata": {
    "Collapsed": "false"
   },
   "source": [
    "### Simple line plots"
   ]
  },
  {
   "cell_type": "markdown",
   "metadata": {
    "Collapsed": "false"
   },
   "source": [
    "We can generate some data and plot it like so:"
   ]
  },
  {
   "cell_type": "code",
   "execution_count": 105,
   "metadata": {
    "Collapsed": "false"
   },
   "outputs": [
    {
     "data": {
      "text/plain": [
       "[<matplotlib.lines.Line2D at 0x7eff346a6e48>]"
      ]
     },
     "execution_count": 105,
     "metadata": {},
     "output_type": "execute_result"
    },
    {
     "data": {
      "image/png": "[encoded data removed]",
      "text/plain": [
       "<Figure size 432x288 with 1 Axes>"
      ]
     },
     "metadata": {
      "needs_background": "light"
     },
     "output_type": "display_data"
    }
   ],
   "source": [
    "x = np.linspace(0, 2 * np.pi, 101)\n",
    "y = np.sin(x)\n",
    "\n",
    "fig, axes = plt.subplots()\n",
    "axes.plot(x, y, color = 'red')"
   ]
  },
  {
   "cell_type": "markdown",
   "metadata": {
    "Collapsed": "false"
   },
   "source": [
    "We can also plot several things in the same figure by calling `plt.plot` multiple times"
   ]
  },
  {
   "cell_type": "code",
   "execution_count": null,
   "metadata": {
    "Collapsed": "false"
   },
   "outputs": [],
   "source": [
    "fig, axes = plt.subplots()\n",
    "axes.plot(x, np.sin(x))\n",
    "axes.plot(x, np.cos(x))"
   ]
  },
  {
   "cell_type": "markdown",
   "metadata": {
    "Collapsed": "false"
   },
   "source": [
    "By default Matplotlib will cycle through line colors in a pre-defined order, however you can also set the style of each line explicitly:"
   ]
  },
  {
   "cell_type": "code",
   "execution_count": null,
   "metadata": {
    "Collapsed": "false"
   },
   "outputs": [],
   "source": [
    "fig, axes = plt.subplots()\n",
    "axes.plot(x, np.sin(x), color='red', linewidth=2, linestyle='--')\n",
    "axes.plot(x, np.cos(x), color='black', linewidth=2)"
   ]
  },
  {
   "cell_type": "markdown",
   "metadata": {
    "Collapsed": "false"
   },
   "source": [
    "`plt.plot` has many other parmeters that can be used to carefully tune the properties of the lines. The documentation can be found [here](http://matplotlib.org/api/pyplot_api.html#matplotlib.pyplot.plot), but be warned, it is very dense!"
   ]
  },
  {
   "cell_type": "markdown",
   "metadata": {
    "Collapsed": "false"
   },
   "source": [
    "### Adding labels and legends"
   ]
  },
  {
   "cell_type": "markdown",
   "metadata": {
    "Collapsed": "false"
   },
   "source": [
    "`pyplot` also contains other functions that allow you to customize your figures. Let's make the same plot as above, but add some axes labels and a legend:"
   ]
  },
  {
   "cell_type": "code",
   "execution_count": null,
   "metadata": {
    "Collapsed": "false"
   },
   "outputs": [],
   "source": [
    "x = np.linspace(0, 2 * np.pi, 1000)\n",
    "\n",
    "fig, axes = plt.subplots()\n",
    "\n",
    "axes.plot(x, np.sin(x), color='r', linewidth=2, linestyle='--', label='sine')\n",
    "axes.plot(x, np.cos(x), color='k', linewidth=2, label='cosine')\n",
    "\n",
    "# we can use Latex math between $ signs!\n",
    "axes.set_xlabel(r'Time ($\\tau$)', size=15)\n",
    "axes.set_ylabel(r'Amplitude', size=15)\n",
    "axes.set_title('Some trig functions', size=20)\n",
    "\n",
    "# make the axis tick labels larger\n",
    "axes.tick_params(labelsize=15)\n",
    "# set lower/upper limits on x axis\n",
    "axes.set_xlim(0, 2 * np.pi)\n",
    "\n",
    "# loc=3 means put the legend in lower left corner:\n",
    "# 3 is a magic number given in the documentation\n",
    "axes.legend(loc=3)"
   ]
  },
  {
   "cell_type": "markdown",
   "metadata": {
    "Collapsed": "false"
   },
   "source": [
    "<div class=\"alert alert-info\" data-toggle=\"collapse\" data-target=\"#note-mpl\">\n",
    "\n",
    "**ProTip** <i class=\"pull-right fa fa-chevron-down\"></i>\n",
    "\n",
    "<div id=\"note-mpl\" class=\"collapse\">\n",
    "    \n",
    "As you may have already figured out, while Matplotlib in principle provides a very complete\n",
    "interface where every parameter can be tweaked, the user interface is janky as hell, and often\n",
    "a **lot** of tweaking is necessary to get your plots looking how you like.\n",
    " \n",
    "To avoid having to set the same options repeatedly you can tell matplotlib to globally set some options,\n",
    "as described in the docs: http://matplotlib.org/users/customizing.html.\n",
    "    \n",
    "Alternatively you could use a higher-level frontend for Matplotlib such as [seaborn](http://seaborn.pydata.org/).\n",
    "    \n",
    "</div>\n",
    "</div>"
   ]
  },
  {
   "cell_type": "markdown",
   "metadata": {
    "Collapsed": "false"
   },
   "source": [
    "### Other kinds of plots"
   ]
  },
  {
   "cell_type": "markdown",
   "metadata": {
    "Collapsed": "false"
   },
   "source": [
    "#### Scatter plot with error bars\n",
    "Many of you will want to plot experimental data, where you want to see the individual data points. The below example shows how to achieve this:"
   ]
  },
  {
   "cell_type": "code",
   "execution_count": 106,
   "metadata": {
    "Collapsed": "false"
   },
   "outputs": [
    {
     "data": {
      "image/png": "[encoded data removed]",
      "text/plain": [
       "<Figure size 432x288 with 1 Axes>"
      ]
     },
     "metadata": {
      "needs_background": "light"
     },
     "output_type": "display_data"
    }
   ],
   "source": [
    "n_samples = 50\n",
    "x = np.linspace(0, 1, n_samples)\n",
    "sigma = 0.08\n",
    "\n",
    "# signal + disorder\n",
    "y = x + np.random.normal(loc=0, scale=sigma, size=n_samples)\n",
    "\n",
    "fig, axes = plt.subplots()\n",
    "\n",
    "axes.scatter(x, y)\n",
    "# put error bars on the points, but put no lines between the errorbars\n",
    "axes.errorbar(x, y, yerr=sigma, ecolor='b', elinewidth=2, linestyle='')\n",
    "\n",
    "axes.set_xlim(0, 1)\n",
    "axes.set_xlabel('Voltage [$V$]', size=15)\n",
    "axes.set_ylabel('Current [$A$]', size=15)\n",
    "axes.set_title('Totally real I-V curve', size=20)\n",
    "axes.tick_params(labelsize=15)"
   ]
  },
  {
   "cell_type": "markdown",
   "metadata": {
    "Collapsed": "false"
   },
   "source": [
    "#### Histograms"
   ]
  },
  {
   "cell_type": "markdown",
   "metadata": {
    "Collapsed": "false"
   },
   "source": [
    "Histograms can be created using the `plt.hist` function:"
   ]
  },
  {
   "cell_type": "code",
   "execution_count": null,
   "metadata": {
    "Collapsed": "false"
   },
   "outputs": [],
   "source": [
    "n_samples = int(1E4)\n",
    "sigma = 10\n",
    "mu = 10\n",
    "\n",
    "samples = np.random.normal(loc=mu, scale=sigma, size=n_samples)\n",
    "\n",
    "fig, axes = plt.subplots()\n",
    "\n",
    "axes.hist(samples, bins=50)\n",
    "\n",
    "axes.set_xlabel('Measured value', size=15)\n",
    "axes.set_ylabel('Frequency', size=15)"
   ]
  },
  {
   "cell_type": "markdown",
   "metadata": {
    "Collapsed": "false"
   },
   "source": [
    "#### Colorplots"
   ]
  },
  {
   "cell_type": "markdown",
   "metadata": {
    "Collapsed": "false"
   },
   "source": [
    "You can make colorplots in matplotlib by creating an matrix of values and passing it to the `plt.imshow` function:"
   ]
  },
  {
   "cell_type": "code",
   "execution_count": null,
   "metadata": {
    "Collapsed": "false"
   },
   "outputs": [],
   "source": [
    "def sinc(x, y):\n",
    "    r = np.sqrt(x**2 + y**2)\n",
    "    return np.sin(r) / r\n",
    "\n",
    "x = np.linspace(-20, 20, 100)\n",
    "y = np.linspace(-20, 20, 100)\n",
    "# compute sinc on a grid of points using numpy broadcasting\n",
    "z = sinc(x.reshape(100, 1), y.reshape(1, 100))\n",
    "\n",
    "print('array to plot has shape:', z.shape)\n",
    "\n",
    "fig, axes = plt.subplots()\n",
    "\n",
    "# need to pass the \"extent\" parameter to have the\n",
    "# correct x and y axes\n",
    "im = axes.imshow(z, extent=(x[0], x[-1], y[0], y[-1]),\n",
    "                 cmap=\"viridis\")\n",
    "\n",
    "fig.colorbar(im)  # show a color scale next to the figure"
   ]
  },
  {
   "cell_type": "markdown",
   "metadata": {
    "Collapsed": "false"
   },
   "source": [
    "### Saving plots"
   ]
  },
  {
   "cell_type": "markdown",
   "metadata": {
    "Collapsed": "false"
   },
   "source": [
    "Once we have created a plot we can also save them to disk using `plt.savefig`:"
   ]
  },
  {
   "cell_type": "code",
   "execution_count": null,
   "metadata": {
    "Collapsed": "false",
    "scrolled": true
   },
   "outputs": [],
   "source": [
    "x = np.linspace(0, 2 * np.pi, 101)\n",
    "y = np.sin(x)\n",
    "\n",
    "fig, axes = plt.subplots()\n",
    "\n",
    "axes.plot(x, y)\n",
    "\n",
    "# matplotlib supports saving to several image formats, including png, svg and pdf\n",
    "# just put a different extension on to the filename\n",
    "fig.savefig('simple_plot.png')"
   ]
  },
  {
   "cell_type": "markdown",
   "metadata": {
    "Collapsed": "false"
   },
   "source": [
    "<div class=\"alert alert-info\" data-toggle=\"collapse\" data-target=\"#note-mpl-mode\">\n",
    "\n",
    "**ProTip** <i class=\"pull-right fa fa-chevron-down\"></i>\n",
    "\n",
    "<div id=\"note-mpl-mode\" class=\"collapse\">\n",
    "    \n",
    "If you want static figures inside the notebook, rather than interactive widgets, use\n",
    "\n",
    "`%matplotlib inline`\n",
    "\n",
    "instead of\n",
    "\n",
    "`%matplotlib widget`\n",
    "\n",
    "</div>\n",
    "</div>"
   ]
  },
  {
   "cell_type": "markdown",
   "metadata": {
    "Collapsed": "false"
   },
   "source": [
    "## Advanced topics"
   ]
  },
  {
   "cell_type": "markdown",
   "metadata": {
    "Collapsed": "false"
   },
   "source": [
    "#### Interactive plots with [Holoviews](http://holoviews.org/)"
   ]
  },
  {
   "cell_type": "markdown",
   "metadata": {
    "Collapsed": "false"
   },
   "source": [
    "While Matplotlib provides reasonable plotting, it is not particularly well-adapted to interactive exploration of data sets.\n",
    "\n",
    "The Holoviews library provides more features for interactively exploring your data.\n",
    "\n",
    "First we import holoviews and tell it that we want it to display its output in the browser:"
   ]
  },
  {
   "cell_type": "code",
   "execution_count": null,
   "metadata": {
    "Collapsed": "false"
   },
   "outputs": [],
   "source": [
    "import holoviews as hv\n",
    "hv.notebook_extension('matplotlib')"
   ]
  },
  {
   "cell_type": "markdown",
   "metadata": {
    "Collapsed": "false"
   },
   "source": [
    "Now we can plot our `sinc` function from before, and also slice the data along an axis, \n",
    "with the position of the axis controlled by a slider widget:"
   ]
  },
  {
   "cell_type": "code",
   "execution_count": 108,
   "metadata": {
    "Collapsed": "false"
   },
   "outputs": [
    {
     "ename": "NameError",
     "evalue": "name 'sinc' is not defined",
     "output_type": "error",
     "traceback": [
      "\u001b[0;31m---------------------------------------------------------------------------\u001b[0m",
      "\u001b[0;31mNameError\u001b[0m                                 Traceback (most recent call last)",
      "\u001b[0;32m<ipython-input-108-371f8acc9f00>\u001b[0m in \u001b[0;36m<module>\u001b[0;34m\u001b[0m\n\u001b[1;32m      3\u001b[0m \u001b[0my\u001b[0m \u001b[0;34m=\u001b[0m \u001b[0mnp\u001b[0m\u001b[0;34m.\u001b[0m\u001b[0mlinspace\u001b[0m\u001b[0;34m(\u001b[0m\u001b[0;34m-\u001b[0m\u001b[0;36m20\u001b[0m\u001b[0;34m,\u001b[0m \u001b[0;36m20\u001b[0m\u001b[0;34m,\u001b[0m \u001b[0;36m100\u001b[0m\u001b[0;34m)\u001b[0m\u001b[0;34m\u001b[0m\u001b[0;34m\u001b[0m\u001b[0m\n\u001b[1;32m      4\u001b[0m \u001b[0;34m\u001b[0m\u001b[0m\n\u001b[0;32m----> 5\u001b[0;31m \u001b[0mz\u001b[0m \u001b[0;34m=\u001b[0m \u001b[0msinc\u001b[0m\u001b[0;34m(\u001b[0m\u001b[0mx\u001b[0m\u001b[0;34m.\u001b[0m\u001b[0mreshape\u001b[0m\u001b[0;34m(\u001b[0m\u001b[0;36m100\u001b[0m\u001b[0;34m,\u001b[0m \u001b[0;36m1\u001b[0m\u001b[0;34m)\u001b[0m\u001b[0;34m,\u001b[0m \u001b[0my\u001b[0m\u001b[0;34m.\u001b[0m\u001b[0mreshape\u001b[0m\u001b[0;34m(\u001b[0m\u001b[0;36m1\u001b[0m\u001b[0;34m,\u001b[0m \u001b[0;36m100\u001b[0m\u001b[0;34m)\u001b[0m\u001b[0;34m)\u001b[0m\u001b[0;34m\u001b[0m\u001b[0;34m\u001b[0m\u001b[0m\n\u001b[0m\u001b[1;32m      6\u001b[0m \u001b[0;34m\u001b[0m\u001b[0m\n\u001b[1;32m      7\u001b[0m \u001b[0;34m\u001b[0m\u001b[0m\n",
      "\u001b[0;31mNameError\u001b[0m: name 'sinc' is not defined"
     ]
    }
   ],
   "source": [
    "import holoviews as hv\n",
    "x = np.linspace(-20, 20, 100)\n",
    "y = np.linspace(-20, 20, 100)\n",
    "\n",
    "z = sinc(x.reshape(100, 1), y.reshape(1, 100))\n",
    "\n",
    "\n",
    "sinc_image = hv.Image(z, bounds=(x[0], y[0], x[-1], y[-1]))\n",
    "\n",
    "hv.HoloMap({y: sinc_image * hv.HLine(y=y) + sinc_image.sample(y=y)\n",
    "            for y in np.arange(-19, 20)}, kdims=['Y']).collate().cols(2)"
   ]
  },
  {
   "cell_type": "markdown",
   "metadata": {
    "Collapsed": "false"
   },
   "source": [
    "---"
   ]
  },
  {
   "cell_type": "markdown",
   "metadata": {
    "Collapsed": "false"
   },
   "source": [
    "# `scipy`: tools for scientific computing"
   ]
  },
  {
   "cell_type": "markdown",
   "metadata": {
    "Collapsed": "false"
   },
   "source": [
    "So now we know how to contain our data (Numpy arrays) and plot it (Matplotlib), however we still need some tools that will enable us to do some more advanced data analysis and/or computations to generate data.\n",
    "\n",
    "[Scipy](http://scipy.org) is the core library that provides these more advanced capabilites. In addition there is an ecosystem of so-called \"[SciKits](http://scikits.appspot.com/)\" that build on Scipy to provide functionality adapted to more specific problem domains.\n",
    "\n",
    "Here, we will look at some of the key functionality that core Scipy provides."
   ]
  },
  {
   "cell_type": "markdown",
   "metadata": {
    "Collapsed": "false"
   },
   "source": [
    "**You should not attempt to do *all* these exercises**\n",
    "\n",
    "Pick a couple of modules that are of interest to you and try the exercises for those. There is clearly no point in learning how to use `scipy`'s differential equation solver if you're never going to solve a differential equation in your research!"
   ]
  },
  {
   "cell_type": "markdown",
   "metadata": {
    "Collapsed": "false"
   },
   "source": [
    "### [Dense linear algebra](https://docs.scipy.org/doc/scipy/reference/linalg.html)"
   ]
  },
  {
   "cell_type": "markdown",
   "metadata": {
    "Collapsed": "false"
   },
   "source": [
    "We already saw that we can do basic linear algebra operations with Numpy (adding vectors and matrices, dot products,\n",
    "matrix-vector product...), however Scipy provides functionality for more involved algorithms in `scipy.linalg` ([reference documentation](https://docs.scipy.org/doc/scipy/reference/linalg.html#module-scipy.linalg))"
   ]
  },
  {
   "cell_type": "markdown",
   "metadata": {
    "Collapsed": "false"
   },
   "source": [
    "#### Exercises\n",
    "+ create a 100x100 random matrix\n",
    "  - find the eigenvalues and eigenvectors numerically\n",
    "  - verify that the answer is correct (remember $M x = \\lambda x$ for a matrix $M$ with eigenvalue $\\lambda$ and \n",
    "    eigenvalue $x$)\n",
    "+ create a 100x100 random matrix $M$ and a random vector $b$ with 100 entries\n",
    "  -  solve the linear system $M x = b$ for the vector $x$\n",
    "  - verify that the answer is correct"
   ]
  },
  {
   "cell_type": "code",
   "execution_count": null,
   "metadata": {
    "Collapsed": "false"
   },
   "outputs": [],
   "source": [
    "import numpy as np\n",
    "a = np.random.random()"
   ]
  },
  {
   "cell_type": "code",
   "execution_count": null,
   "metadata": {
    "Collapsed": "false"
   },
   "outputs": [],
   "source": []
  },
  {
   "cell_type": "markdown",
   "metadata": {
    "Collapsed": "true"
   },
   "source": [
    "#### Solution"
   ]
  },
  {
   "cell_type": "code",
   "execution_count": null,
   "metadata": {
    "Collapsed": "false"
   },
   "outputs": [],
   "source": [
    "import scipy.linalg as la\n",
    "\n",
    "M = np.random.rand(100, 100)  # random 3x3 matrix\n",
    "\n",
    "evals, evecs = la.eig(M)  # see the docs for the format of the eigenvalues / vectors\n",
    "\n",
    "assert np.allclose(M.dot(evecs), evals * evecs)"
   ]
  },
  {
   "cell_type": "code",
   "execution_count": null,
   "metadata": {
    "Collapsed": "false"
   },
   "outputs": [],
   "source": [
    "b = np.random.rand(100,)\n",
    "x = la.solve(M, b)\n",
    "\n",
    "assert np.allclose(M.dot(x), b)"
   ]
  },
  {
   "cell_type": "markdown",
   "metadata": {
    "Collapsed": "false"
   },
   "source": [
    "### [Sparse linear algebra](https://docs.scipy.org/doc/scipy/reference/sparse.html)"
   ]
  },
  {
   "cell_type": "markdown",
   "metadata": {
    "Collapsed": "false"
   },
   "source": [
    "Sometimes you may be dealing with very *sparse* matrices/vectors, where many of the entries are zero. In such cases\n",
    "we can use special data structures to avoid storing all of the (redundant) zeros. In addition there are different\n",
    "algorithms that can be used to do things like compute eigenvalues of sparse matrices, or solve linear systems involving sparse matrices. The corresponding functions are found in `scipy.sparse` and `scipy.sparse.linalg` ([reference documentation](https://docs.scipy.org/doc/scipy/reference/sparse.html))"
   ]
  },
  {
   "cell_type": "markdown",
   "metadata": {
    "Collapsed": "false"
   },
   "source": [
    "#### Exercises\n",
    "+ create a 1000 x 1000 tridiagonal matrix with +2 on the diagonal and -1 on the upper/lower diagonals.\n",
    "+ Find the 3 eigenvectors with the lowest eigenvalues using sparse linear algebra functions (**hint**: take advantage of the structure of the matrix to select the best routine for the job)\n",
    "  \n",
    "\n",
    "+ create a 1000 element vector $v$ with 0 in all entries and 1 in the first entry\n",
    "+ using the same 1000x1000 matrix as before, solve the linear system $Mx = b$\n",
    "    using sparse linear algebra functions"
   ]
  },
  {
   "cell_type": "code",
   "execution_count": null,
   "metadata": {
    "Collapsed": "false"
   },
   "outputs": [],
   "source": []
  },
  {
   "cell_type": "code",
   "execution_count": null,
   "metadata": {
    "Collapsed": "false"
   },
   "outputs": [],
   "source": []
  },
  {
   "cell_type": "markdown",
   "metadata": {
    "Collapsed": "true"
   },
   "source": [
    "#### Solution"
   ]
  },
  {
   "cell_type": "code",
   "execution_count": null,
   "metadata": {
    "Collapsed": "false"
   },
   "outputs": [],
   "source": [
    "import scipy.sparse as spa  # for sparse matrices\n",
    "import scipy.sparse.linalg as sla  # for sparse linear algebra routines\n",
    "\n",
    "diagonals = -np.ones((3, 1000))\n",
    "diagonals[0, :] = 2\n",
    "\n",
    "offsets = (0, -1, 1)\n",
    "\n",
    "A = spa.dia_matrix((diagonals, offsets), shape=(1000, 1000)).tocsc()\n",
    "sla.eigsh(A, k=3, which='SM')"
   ]
  },
  {
   "cell_type": "code",
   "execution_count": null,
   "metadata": {
    "Collapsed": "false"
   },
   "outputs": [],
   "source": [
    "# solving linear systems M.x = b\n",
    "b = np.zeros(1000)\n",
    "b[0] = 1\n",
    "x = sla.spsolve(A, b)"
   ]
  },
  {
   "cell_type": "markdown",
   "metadata": {
    "Collapsed": "false"
   },
   "source": [
    "### [Numerical quadrature](https://docs.scipy.org/doc/scipy/reference/tutorial/integrate.html#general-integration-quad)"
   ]
  },
  {
   "cell_type": "markdown",
   "metadata": {
    "Collapsed": "false"
   },
   "source": [
    "Scipy also wraps the venerable `quadpack` library to provide numerical evaluation of definite integrals in `scipy.integrate` ([reference documentation](https://docs.scipy.org/doc/scipy/reference/integrate.html))"
   ]
  },
  {
   "cell_type": "markdown",
   "metadata": {
    "Collapsed": "false"
   },
   "source": [
    "#### Exercises\n",
    "+ estimate the integral of $\\exp(-x^2)$ between 0 and 1\n",
    "+ estimate the integral of $\\exp(-x^2)$ between $-\\infty$ and $\\infty$"
   ]
  },
  {
   "cell_type": "code",
   "execution_count": null,
   "metadata": {
    "Collapsed": "false"
   },
   "outputs": [],
   "source": []
  },
  {
   "cell_type": "markdown",
   "metadata": {
    "Collapsed": "true"
   },
   "source": [
    "#### Solution"
   ]
  },
  {
   "cell_type": "code",
   "execution_count": null,
   "metadata": {
    "Collapsed": "false"
   },
   "outputs": [],
   "source": [
    "import scipy.integrate as spi\n",
    "\n",
    "\n",
    "def normal_dist(x):\n",
    "    return np.exp(-x**2) / np.sqrt(np.pi)\n",
    "\n",
    "# definite integral between 0 and 1\n",
    "result, error = spi.quad(normal_dist, 0, 1)\n",
    "print(result)\n",
    "\n",
    "# can even handle improper integrals\n",
    "result, error = spi.quad(normal_dist, -np.inf, np.inf)\n",
    "print(result)"
   ]
  },
  {
   "cell_type": "markdown",
   "metadata": {
    "Collapsed": "false"
   },
   "source": [
    "### [Ordinary differential equations](https://docs.scipy.org/doc/scipy/reference/tutorial/integrate.html#ordinary-differential-equations-odeint)"
   ]
  },
  {
   "cell_type": "markdown",
   "metadata": {
    "Collapsed": "false"
   },
   "source": [
    "The `scipy.integrate` package also includes facilities for solving ordinary differential equations.\n",
    "By default a hybrid algorithm that can handle both stiff and non-stiff problems is used, but you can select which\n",
    "method to use as well as tuning the method parameters."
   ]
  },
  {
   "cell_type": "markdown",
   "metadata": {
    "Collapsed": "false"
   },
   "source": [
    "#### Exercises\n",
    "##### Simple pendulum\n",
    "a simple pendulum is defined by the system of equations\n",
    "\n",
    "$$\n",
    "\\begin{aligned}\n",
    "\\frac{d\\theta}{dt} &= \\omega\\\\\n",
    "\\frac{d\\omega}{dt} &= -\\alpha\\sin(\\theta)\n",
    "\\end{aligned}\n",
    "$$\n",
    "\n",
    "where $\\alpha$ is a model parameter\n",
    "+ create a function `pendulum` that takes a 2-vector $(\\theta, \\omega)$ and a time, and returns $(\\dot{\\theta}, \\dot{\\omega})$\n",
    "+ start the pendulum in a state $(\\theta_0, 0)$ with $\\alpha = 1$ and evolve it forward in time until $t=20$\n",
    "+ plot $\\theta$ as a function of time\n",
    "+ graphically compare the result with the small-angle result $\\theta(t) = \\theta_0 \\cos(\\sqrt{\\alpha}t)$"
   ]
  },
  {
   "cell_type": "code",
   "execution_count": null,
   "metadata": {
    "Collapsed": "false"
   },
   "outputs": [],
   "source": []
  },
  {
   "cell_type": "markdown",
   "metadata": {
    "Collapsed": "false"
   },
   "source": [
    "#### Solution"
   ]
  },
  {
   "cell_type": "code",
   "execution_count": null,
   "metadata": {
    "Collapsed": "false"
   },
   "outputs": [],
   "source": [
    "alpha = 1\n",
    "\n",
    "\n",
    "# function describing a simple pendulum system.\n",
    "# takes the current state of the system (and the current time) and returns\n",
    "# the time derivative.\n",
    "def simple_pendulum(state, time):\n",
    "    theta = state[0]\n",
    "    omega = state[1]\n",
    "\n",
    "    # dθ/dt = ω, dω/dt = -sin(θ)\n",
    "    dtheta_dt = omega\n",
    "    domega_dt = -alpha * np.sin(theta)\n",
    "\n",
    "    return np.array([dtheta_dt, domega_dt])\n",
    "\n",
    "\n",
    "# start the pendulum with some angle\n",
    "theta_0 = np.pi / 100\n",
    "omega_0 = 0\n",
    "state_0 = np.array([theta_0, omega_0])\n",
    "\n",
    "# what times do we want the solution?\n",
    "times = np.arange(0, 20, 0.1)\n",
    "\n",
    "# start in state_0 and find the solution for all times in `times`\n",
    "solutions = spi.odeint(simple_pendulum, state_0, times)\n",
    "small_angle_approx = theta_0 * np.cos(np.sqrt(alpha) * times)\n",
    "\n",
    "# compare the numerical results and the small-angle approximation\n",
    "fig, axes = plt.subplots()\n",
    "\n",
    "axes.plot(times, solutions[:, 0], label='numerical soltn.')\n",
    "axes.plot(times, small_angle_approx, linestyle='--', label='small θ approx.')\n",
    "axes.set_xlabel('time')\n",
    "axes.set_ylabel('θ')\n",
    "axes.legend(loc=4)"
   ]
  },
  {
   "cell_type": "markdown",
   "metadata": {
    "Collapsed": "false"
   },
   "source": [
    "### [Function optimization](https://docs.scipy.org/doc/scipy/reference/tutorial/optimize.html#optimization-scipy-optimize)\n",
    "Scipy includes a plethora of routines implementing algorithms for: curve fitting, minimum finding, root finding etc. in `scipy.optimize` ([reference documentation](https://docs.scipy.org/doc/scipy/reference/tutorial/optimize.html#optimization-scipy-optimize))"
   ]
  },
  {
   "cell_type": "markdown",
   "metadata": {
    "Collapsed": "false"
   },
   "source": [
    "#### Exercises\n",
    "##### Curve fitting\n",
    "- load the data in \"`curve_fitting_data.npy`\" into a Numpy array\n",
    "  + the array has shape `(2, 50)` where the first row is the independent variable, and the\n",
    "    second row is the dependent variable\n",
    "- plot the data using a scatter plot\n",
    "- the data has been produced according to a model of the form $f(x) = \\alpha x \\exp(-\\beta x)$ (plus some noise)\n",
    "  where $\\alpha$ and $\\beta$ are the model parameters and $x$ is the independent variable.\n",
    "  Estimate the model parameters\n",
    "- plot the estimated model on top of the data"
   ]
  },
  {
   "cell_type": "code",
   "execution_count": null,
   "metadata": {
    "Collapsed": "false"
   },
   "outputs": [],
   "source": [
    "import numpy as np\n",
    "import matplotlib.pyplot as plt\n",
    "\n",
    "def Model_formula(indvar, model):\n",
    "    indvar = x\n",
    "    model = f(x)\n",
    "    \n",
    "    f(x) = alpha * x * np.exp(-belta * x)\n",
    "    \n",
    "\n",
    "alpha = constant\n",
    "belta = constant\n",
    "\n",
    "a = np.array(2, 50)\n",
    "np.save('curve_fitting_data.npy', a)\n",
    "x = np.load('curve_fitting_data.npy')\n",
    "\n",
    "fig, axis = plt.subplots()\n",
    "\n",
    "axis.plot()\n",
    "\n"
   ]
  },
  {
   "cell_type": "markdown",
   "metadata": {
    "Collapsed": "true"
   },
   "source": [
    "#### Solution"
   ]
  },
  {
   "cell_type": "code",
   "execution_count": null,
   "metadata": {
    "Collapsed": "false"
   },
   "outputs": [],
   "source": [
    "import scipy.optimize as spo"
   ]
  },
  {
   "cell_type": "code",
   "execution_count": null,
   "metadata": {
    "Collapsed": "false"
   },
   "outputs": [],
   "source": [
    "### curve fitting\n",
    "\n",
    "x, data = np.load('curve_fitting_data.npy')\n",
    "\n",
    "# x is the independent variable, and the rest of the arguments are the model parameters\n",
    "def model(x, alpha, beta):\n",
    "    return alpha * x * np.exp(-beta * x)\n",
    "\n",
    "# returns optimal values for parameters, and estimated covariance\n",
    "params, params_cov = spo.curve_fit(model, x, data)\n",
    "estimated_alpha, estimated_beta = params"
   ]
  },
  {
   "cell_type": "code",
   "execution_count": null,
   "metadata": {
    "Collapsed": "false",
    "scrolled": true
   },
   "outputs": [],
   "source": [
    "fig, axes = plt.subplots()\n",
    "\n",
    "axes.scatter(x, data)\n",
    "axes.plot(x, model(x, estimated_alpha, estimated_beta), label='estimated model')\n",
    "axes.legend()"
   ]
  },
  {
   "cell_type": "code",
   "execution_count": null,
   "metadata": {
    "Collapsed": "false"
   },
   "outputs": [],
   "source": [
    "### 1D minimization\n",
    "\n",
    "def minimize_this(x):\n",
    "    return -x * np.exp(-x)\n",
    "\n",
    "result = spo.minimize_scalar(minimize_this)\n",
    "\n",
    "print('result:', result.x, 'expected:', 1)"
   ]
  },
  {
   "cell_type": "code",
   "execution_count": null,
   "metadata": {
    "Collapsed": "false"
   },
   "outputs": [],
   "source": [
    "### root finding\n",
    "\n",
    "def find_my_roots(x):\n",
    "    return (x - 3)**2\n",
    "\n",
    "# use newton's method\n",
    "print(spo.newton(find_my_roots, x0=0))"
   ]
  },
  {
   "cell_type": "markdown",
   "metadata": {
    "Collapsed": "false"
   },
   "source": [
    "### [Fourier Transforms](https://docs.scipy.org/doc/scipy/reference/tutorial/fftpack.html#fourier-transforms-scipy-fftpack)"
   ]
  },
  {
   "cell_type": "markdown",
   "metadata": {
    "Collapsed": "false"
   },
   "source": [
    "Scipy also wraps the venerable `FFTPACK` library for computing 1D and 2D Fourier transforms using the fast fourier transform (FFT) algorithm in `scipy.fftpack` ([reference documentation](https://docs.scipy.org/doc/scipy/reference/tutorial/fftpack.html#fourier-transforms-scipy-fftpack))"
   ]
  },
  {
   "cell_type": "markdown",
   "metadata": {
    "Collapsed": "false"
   },
   "source": [
    "#### Exercises\n",
    "##### 1D transforms\n",
    "+ create a function that evaluates $g(x) = cos(2\\pi f_0 x) + cos(2\\pi f_1 x)$\n",
    "+ create an array that samples the function using 200 points on the interval [0, 1]\n",
    "+ find the Fourier transform of this sample\n",
    "+ find out what format the transformed array is in\n",
    "+ plot the power spectrum of the sample as a function of frequency"
   ]
  },
  {
   "cell_type": "code",
   "execution_count": null,
   "metadata": {
    "Collapsed": "false"
   },
   "outputs": [],
   "source": []
  },
  {
   "cell_type": "markdown",
   "metadata": {
    "Collapsed": "true"
   },
   "source": [
    "#### Solution"
   ]
  },
  {
   "cell_type": "code",
   "execution_count": null,
   "metadata": {
    "Collapsed": "false"
   },
   "outputs": [],
   "source": [
    "import scipy.fftpack as fftpack"
   ]
  },
  {
   "cell_type": "code",
   "execution_count": null,
   "metadata": {
    "Collapsed": "false"
   },
   "outputs": [],
   "source": [
    "n_samples = 200\n",
    "x, x_step = np.linspace(0, 1, n_samples, retstep=True)\n",
    "\n",
    "# sum of a couple of cosines with different frequencies\n",
    "y = np.cos(50 * 2 * np.pi * x) +  np.cos(80 * 2 * np.pi * x)\n",
    "\n",
    "# the first half of the array contains the positive frequency components\n",
    "# the second half is the negative frequencies\n",
    "y_fft = fftpack.fft(y)\n",
    "# instead of trying to map things correctly ourselves,\n",
    "# there is a handy function to get the frequencies too\n",
    "freqs = fftpack.fftfreq(n_samples, x_step)\n",
    "\n",
    "power_spectrum = np.abs(y_fft)**2 / n_samples\n",
    "\n",
    "fig, axes = plt.subplots()\n",
    "\n",
    "axes.plot(freqs, power_spectrum)"
   ]
  },
  {
   "cell_type": "code",
   "execution_count": null,
   "metadata": {
    "Collapsed": "false"
   },
   "outputs": [],
   "source": [
    "### 2D fourier transforms\n",
    "\n",
    "N = 30\n",
    "\n",
    "y_fft = np.zeros((N, N))\n",
    "y_fft[5, 10] = 1\n",
    "y_fft[-5, -10] = 1\n",
    "\n",
    "y = fftpack.ifftn(y_fft)  # inverse Fourier transform in N dimensions\n",
    "\n",
    "fig, (ax1, ax2) = plt.subplots(1, 2, figsize=(10, 10))\n",
    "\n",
    "ax1.imshow(y_fft, cmap=\"gray\")\n",
    "ax2.imshow(y.real, cmap=\"gray\")"
   ]
  },
  {
   "cell_type": "markdown",
   "metadata": {
    "Collapsed": "false"
   },
   "source": [
    "### [Image manipulation](https://docs.scipy.org/doc/scipy-0.18.1/reference/ndimage.html)"
   ]
  },
  {
   "cell_type": "markdown",
   "metadata": {
    "Collapsed": "false"
   },
   "source": [
    "As we saw in the Matplotlib section, images are just 2D arrays. `scipy.ndimage` ([reference documentation](https://docs.scipy.org/doc/scipy/reference/ndimage.html)) contains algorithms for manipulating images, applying filters etc.\n",
    "\n",
    "Loading images from files requires the `imageio` module (which is not a part of scipy)."
   ]
  },
  {
   "cell_type": "markdown",
   "metadata": {
    "Collapsed": "false"
   },
   "source": [
    "#### Exercises\n",
    "\n",
    "##### Simple filters\n",
    "+ create a 2D numpy array representing a black square (pixel value 1) on a white background (pixel value 0)\n",
    "+ show it with `pyplot.imshow`\n",
    "+ rotate the square by 45 degrees\n",
    "+ apply a sobel (gradient) filter to show the edges in the image\n",
    "  \n",
    "##### Feature identification\n",
    "+ load the image \"blobs.png\" into a Numpy array\n",
    "+ identify (label) the distinct blobs in the image\n",
    "+ find the \"centre of mass\" of each of the blobs\n",
    "+ plot the blobs and mark their centres of mass\n",
    "+ estimate the area (in pixels) of each of the blobs\n",
    "  \n",
    "(note that each of these tasks is not as difficult as it first appears)"
   ]
  },
  {
   "cell_type": "code",
   "execution_count": null,
   "metadata": {
    "Collapsed": "false"
   },
   "outputs": [],
   "source": []
  },
  {
   "cell_type": "markdown",
   "metadata": {
    "Collapsed": "true"
   },
   "source": [
    "#### Solution"
   ]
  },
  {
   "cell_type": "code",
   "execution_count": null,
   "metadata": {
    "Collapsed": "false"
   },
   "outputs": [],
   "source": [
    "import scipy.ndimage as ndimage\n",
    "import imageio"
   ]
  },
  {
   "cell_type": "code",
   "execution_count": null,
   "metadata": {
    "Collapsed": "false"
   },
   "outputs": [],
   "source": [
    "### applying filters\n",
    "\n",
    "N = 100\n",
    "\n",
    "fig, (ax1, ax2, ax3) = plt.subplots(1, 3, figsize=(20, 20))\n",
    "\n",
    "# make a simple square\n",
    "square = np.zeros((N, N))\n",
    "square[N // 4: -N // 4, N // 4: -N // 4] = 1\n",
    "ax1.imshow(square, cmap=\"gray\")\n",
    "\n",
    "# rotate the square by 45 degrees\n",
    "square = ndimage.rotate(square, 45, reshape=False)\n",
    "ax2.imshow(square, cmap=\"gray\")\n",
    "\n",
    "# apply a sobel filter (gradient)\n",
    "sx = ndimage.sobel(square, axis=0)  # gradient in x direction\n",
    "sy = ndimage.sobel(square, axis=1)  # gradient in y direction\n",
    "sob = np.sqrt(sx**2 + sy**2)  # square magnitude of gradient\n",
    "ax3.imshow(sob, cmap=\"gray\")"
   ]
  },
  {
   "cell_type": "code",
   "execution_count": null,
   "metadata": {
    "Collapsed": "false"
   },
   "outputs": [],
   "source": [
    "### labelling features in an image\n",
    "\n",
    "blobs = imageio.imread('blobs.png', pilmode='L')\n",
    "\n",
    "fig, (ax1, ax2) = plt.subplots(1, 2, figsize=(15, 15))\n",
    "\n",
    "ax1.imshow(blobs, cmap='gray')\n",
    "ax1.set_title('blobs', size=20)\n",
    "\n",
    "labeled_blobs, n_features = ndimage.label(blobs)\n",
    "\n",
    "ax2.imshow(labeled_blobs, cmap='viridis')\n",
    "ax2.set_title('labelled blobs', size=20)\n",
    "\n",
    "# calculate the center of mass of each labelled feature\n",
    "centers = ndimage.center_of_mass(blobs, labeled_blobs, np.arange(n_features) + 1)\n",
    "# mark the centers of mass on the image\n",
    "x, y = zip(*centers)  # unzip the pairs (x, y) into two lists\n",
    "ax2.scatter(y, x)  # invert the coordinates, as we are talking about row/column indices now"
   ]
  },
  {
   "cell_type": "markdown",
   "metadata": {
    "Collapsed": "false"
   },
   "source": [
    "##  \n",
    "---"
   ]
  },
  {
   "cell_type": "markdown",
   "metadata": {
    "Collapsed": "false"
   },
   "source": [
    "# Problem solving with Python"
   ]
  },
  {
   "cell_type": "markdown",
   "metadata": {
    "Collapsed": "false"
   },
   "source": [
    "In the context of your daily research you will often come up against problems that can't be solved\n",
    "directly using the above-described tools.\n",
    "\n",
    "In this situation it is good to know how you can approach problems. In practice you will often find that\n",
    "the following crib sheet will be satisfactory in a surprising number of cases:"
   ]
  },
  {
   "cell_type": "markdown",
   "metadata": {
    "Collapsed": "false"
   },
   "source": [
    "### Algorithm for problem solving\n",
    "\n",
    "- identify the key words of your problem, append \"Python\" and stick it into google\n",
    "- see if there are code snippets that do approximately what you want:\n",
    "  + [StackOverflow](http://stackoverflow.com/) is a good source of these\n",
    "  + random technical blogs are also not bad if they are highly ranked by google\n",
    "- if the snippet uses a package that you do not have installed:\n",
    "  + try installing it by running `pip install <packagename>` in a terminal\n",
    "  + if you are using the [Anaconda](https://www.continuum.io/downloads) Python distribution,\n",
    "    you can alternatively use `conda install <packagename>`\n",
    "  + if that doesn't work, google the package name, visit the package's official\n",
    "    website and look for installation instructions\n",
    "- copy/paste a code snippet that looks promising\n",
    "- get a **minimum working example** which you can then **modify and adapt** (starting from\n",
    "  scratch is hard)\n",
    "- iteratively improve on the minimum working example until your program does what you want"
   ]
  },
  {
   "cell_type": "markdown",
   "metadata": {
    "Collapsed": "false"
   },
   "source": [
    "#### Points to remember\n",
    "+ It's OK not to understand everything straight away\n",
    "+ Skim read resources (documentation, installation instructions...) while stuff works. When stuff doesn't work anymore, be ready to re-read these resources in more detail\n",
    "+ Google is your friend. So is [StackOverflow](http://stackoverflow.com/)\n",
    "\n",
    "#### Caveats\n",
    "\n",
    "+ Not all examples/snippets are up to date, reliable, or written by someone who has the slightest clue what they are doing\n",
    "+ Often the accepted answer on [StackOverflow](http://stackoverflow.com/) is good enough for a first iteration,\n",
    "  although pay attention to the responder's \"reputation\" to gauge how reliable the answer may be.\n",
    "+ sometimes you may come across [funny answers](http://stackoverflow.com/questions/1732348/regex-match-open-tags-except-xhtml-self-contained-tags) too..."
   ]
  },
  {
   "cell_type": "markdown",
   "metadata": {
    "Collapsed": "false"
   },
   "source": [
    "## Scenario"
   ]
  },
  {
   "cell_type": "markdown",
   "metadata": {
    "Collapsed": "false"
   },
   "source": [
    "Your predecessor has left you some experimental data, in an excel spreadsheet. You want to plot and analyze the data in ways that are not provided by Excel; what do you do?"
   ]
  },
  {
   "cell_type": "markdown",
   "metadata": {
    "Collapsed": "false"
   },
   "source": [
    "### Solution"
   ]
  },
  {
   "cell_type": "markdown",
   "metadata": {
    "Collapsed": "false"
   },
   "source": [
    "+ Copy and paste the data from the excel worksheet to a text file.\n",
    "+ Import the data using `numpy.loadtxt`\n",
    "+ Analyze and plot\n",
    "\n",
    "This may seem contrived, but **often the simplest solution is the best**."
   ]
  },
  {
   "cell_type": "markdown",
   "metadata": {
    "Collapsed": "false"
   },
   "source": [
    "## Scenario"
   ]
  },
  {
   "cell_type": "markdown",
   "metadata": {
    "Collapsed": "false"
   },
   "source": [
    "You have data in an Excel spreadsheet \"`current_voltage_data.xlsx`\", but it is routinely updated by colleagues. In addition, your supervisor\n",
    "wants to have not only the plots you produce, but also the data after you have run your analysis on it,\n",
    "and she wants it in an Excel spreadsheet."
   ]
  },
  {
   "cell_type": "markdown",
   "metadata": {
    "Collapsed": "true"
   },
   "source": [
    "### Solution"
   ]
  },
  {
   "cell_type": "markdown",
   "metadata": {
    "Collapsed": "false"
   },
   "source": [
    "+ Google the string: \"`data analysis excel python`\"\n",
    "+ First hit is a video tutorial that mentions \"pandas\"\n",
    "+ Google \"pandas python excel\"\n",
    "+ First hit is documentation from the Pandas website about a function \"`read_excel`\"; seems promising!\n",
    "+ Install \"pandas\" with \"`pip install pandas`\"\n",
    "+ Try to use `\"read_excel\"` (it will fail complaining about `xlrd`\n",
    "+ Install `xlrd` with pip\n",
    "+ Import data\n",
    "+ Google \"scipy linear regression\"\n",
    "+ copy snippet from website\n",
    "+ google for \"pandas data to numpy array\"\n",
    "+ calculate linear regression\n",
    "+ plot\n",
    "+ google for how to output data to excel\n",
    "+ try to use \"to_excel\" (it will fail complaining about `openpyxl`)\n",
    "+ Install `openpyxl` with pip\n",
    "+ save to Excel format"
   ]
  },
  {
   "cell_type": "code",
   "execution_count": null,
   "metadata": {
    "Collapsed": "false"
   },
   "outputs": [],
   "source": [
    "import pandas\n",
    "import scipy.stats as stats\n",
    "\n",
    "# read in and clean up data\n",
    "data_frame = pandas.read_excel('current_voltage_data.xlsx')\n",
    "cleaned_data = data_frame.dropna()  # remove undefined data entries \n",
    "cleaned_data_matrix = cleaned_data.values  # get data as numpy array\n",
    "\n",
    "# perform linear regression\n",
    "linregress = stats.linregress(cleaned_data_matrix)\n",
    "\n",
    "# plot the data\n",
    "x, y = cleaned_data_matrix.transpose()\n",
    "\n",
    "fig, axes = plt.subplots()\n",
    "axes.scatter(x, y)\n",
    "axes.plot(x, linregress.slope * x + linregress.intercept, linewidth=2, color='r')\n",
    "\n",
    "cleaned_data.to_excel('output.xlsx', index=False)"
   ]
  },
  {
   "cell_type": "markdown",
   "metadata": {
    "Collapsed": "false"
   },
   "source": [
    "##  \n",
    "---"
   ]
  },
  {
   "cell_type": "markdown",
   "metadata": {
    "Collapsed": "false",
    "toc-hr-collapsed": false
   },
   "source": [
    "# Extended Exercises"
   ]
  },
  {
   "cell_type": "markdown",
   "metadata": {
    "Collapsed": "false"
   },
   "source": [
    "These exercises require you to use functionality from several of the libraries introduced above"
   ]
  },
  {
   "cell_type": "markdown",
   "metadata": {
    "Collapsed": "false"
   },
   "source": [
    "## Explore!\n",
    "\n",
    "At the start of the notebook there were just a few examples of scientific Python packages for treating different problem domains.\n",
    "\n",
    "Find a Python package that you think could be useful in your research. Try installing it and testing out some of the usage examples"
   ]
  },
  {
   "cell_type": "markdown",
   "metadata": {
    "Collapsed": "false"
   },
   "source": [
    "##  \n",
    "---"
   ]
  },
  {
   "cell_type": "markdown",
   "metadata": {
    "Collapsed": "false"
   },
   "source": [
    "## Animal Statistics"
   ]
  },
  {
   "cell_type": "markdown",
   "metadata": {
    "Collapsed": "false"
   },
   "source": [
    "The file in `populations.txt` describes the populations of hares and lynxes (and carrots) in nothern Canada over the course of 20 years.\n",
    "\n",
    "#### Tasks\n",
    "\n",
    "+ load and plot the data in `populations.txt`. Don't forget to label your axes and produce a legend!\n",
    "+ Print the mean and standard deviation of the population for each species\n",
    "+ Print which species has the largest population for each year (**hint**: `np.argmax`)\n",
    "+ Print for which years the populations of any of the species above 50000\n",
    "+ For each species, print the 2 years when their population was the lowest\n",
    "+ Plot the change in the hare population and the number of lynxes over time\n",
    "+ Calculate the correlation coefficient between the change in the hare population and the number of lynxes."
   ]
  },
  {
   "cell_type": "code",
   "execution_count": null,
   "metadata": {
    "Collapsed": "false"
   },
   "outputs": [],
   "source": []
  },
  {
   "cell_type": "markdown",
   "metadata": {
    "Collapsed": "false"
   },
   "source": [
    "#### Solution"
   ]
  },
  {
   "cell_type": "code",
   "execution_count": null,
   "metadata": {
    "Collapsed": "false"
   },
   "outputs": [],
   "source": [
    "data = np.loadtxt('populations.txt')\n",
    "\n",
    "years, hares, lynxes, carrots = data.T  # trick: columns to variables\n",
    "populations = data.T[1:]\n",
    "\n",
    "species = ('Hare', 'Lynx', 'Carrot')\n",
    "\n",
    "fig, axes = plt.subplots()\n",
    "axes.plot(years, hares, years, lynxes, years, carrots)\n",
    "axes.set_xlabel('year')\n",
    "axes.set_ylabel('population')\n",
    "axes.legend(('Hare', 'Lynx', 'Carrot'), loc=(1.05, 0.5)) "
   ]
  },
  {
   "cell_type": "code",
   "execution_count": null,
   "metadata": {
    "Collapsed": "false"
   },
   "outputs": [],
   "source": [
    "means = np.mean(populations, axis=1)\n",
    "std_devs = np.std(populations, axis=1)\n",
    "for organism, mean, std in zip(species, means, std_devs):\n",
    "    print(organism, '-- population mean:', mean, ' -- population std dev:', std)"
   ]
  },
  {
   "cell_type": "code",
   "execution_count": null,
   "metadata": {
    "Collapsed": "false"
   },
   "outputs": [],
   "source": [
    "max_idxs = np.argmax(populations, axis=0)\n",
    "for year, i in zip(years, max_idxs):\n",
    "    print('year', int(year), 'had mostly: ', species[i])"
   ]
  },
  {
   "cell_type": "code",
   "execution_count": null,
   "metadata": {
    "Collapsed": "false"
   },
   "outputs": [],
   "source": [
    "which_species, which_years = np.argwhere(populations > 50000).T\n",
    "print('the following years had > 50000 of an organism:', *years[which_years])"
   ]
  },
  {
   "cell_type": "code",
   "execution_count": null,
   "metadata": {
    "Collapsed": "false"
   },
   "outputs": [],
   "source": [
    "fig, axes = plt.subplots()\n",
    "axes.plot(years[1:], np.diff(hares), years, lynxes)\n",
    "axes.set_xlabel('year')\n",
    "axes.set_ylabel('population')\n",
    "axes.legend(('Change in Hares', 'Lynx', 'Carrot'), loc=(1.05, 0.5)) "
   ]
  },
  {
   "cell_type": "code",
   "execution_count": null,
   "metadata": {
    "Collapsed": "false"
   },
   "outputs": [],
   "source": [
    "least_populous_idxs = np.argsort(populations, axis=1)[:, :2]\n",
    "\n",
    "for organism, least_populous_years in zip(species, years[least_populous_idxs]):\n",
    "    print(organism, 'was least populous in years: ', *least_populous_years)"
   ]
  },
  {
   "cell_type": "code",
   "execution_count": null,
   "metadata": {
    "Collapsed": "false"
   },
   "outputs": [],
   "source": [
    "print('The correlation coefficient between the lynx population and the change in the Hare population is',\n",
    "      np.corrcoef(np.diff(hares), lynxes[1:])[1, 0])"
   ]
  },
  {
   "cell_type": "markdown",
   "metadata": {
    "Collapsed": "false"
   },
   "source": [
    "##  \n",
    "---"
   ]
  },
  {
   "cell_type": "markdown",
   "metadata": {
    "Collapsed": "false"
   },
   "source": [
    "## [Mandelbrot set](https://en.wikipedia.org/wiki/Mandelbrot_set)\n",
    "\n",
    "The Mandelbrot set is the set of complex numbers $c$ for which the function $f_c ( z ) = z^2 + c$ does not diverge when iterated from $z = 0$.\n",
    "\n",
    "In this exercise we will sample and vizualize the Mandelbrot set using Numpy and Matplotlib.\n",
    "\n",
    "#### Tasks\n",
    "+ write a function `mandelbrot` that takes a complex value $c$, evaluates $f_c$ 100 times starting from $0$, and returns the\n",
    "  absolute value of the result\n",
    "+ evaluate your function on a grid of complex numbers (**hint**: use numpy operations and writing `c = x + 1j * y`\n",
    "  where `x` and `y` are real)\n",
    "+ plot the result using `pyplot.imshow`\n",
    "+ improve your `mandelbrot` function so as to remove the `RuntimeWarning` that you get when evaluating it at points that \n",
    "  are not in the Mandelbrot set (what is happening here?)\n",
    "  \n",
    "#### Harder tasks\n",
    "+ make a visualisation that allows interactive zooming\n",
    "+ make the visualisation re-evaluate the points in the mandelbrot set when\n",
    "  the user zooms (so that more structure is revealed by zooming)\n",
    "+ do you think you can speed up your solution?\n",
    "\n",
    "+ use [Cython](http://cython.org/) to rewrite your `mandelbrot` function. Take advantage of multiple CPU cores when\n",
    "  evaluating the function by using [prange](http://cython.readthedocs.io/en/latest/src/userguide/parallelism.html).\n",
    "  You can use the [Cython cell magic](http://cython.readthedocs.io/en/latest/src/quickstart/build.html) to auto-compile\n",
    "  your code from within the notebook."
   ]
  },
  {
   "cell_type": "code",
   "execution_count": null,
   "metadata": {
    "Collapsed": "false"
   },
   "outputs": [],
   "source": []
  },
  {
   "cell_type": "markdown",
   "metadata": {
    "Collapsed": "true"
   },
   "source": [
    "### Solution"
   ]
  },
  {
   "cell_type": "code",
   "execution_count": null,
   "metadata": {
    "Collapsed": "false"
   },
   "outputs": [],
   "source": [
    "import numpy as np"
   ]
  },
  {
   "cell_type": "code",
   "execution_count": null,
   "metadata": {
    "Collapsed": "false"
   },
   "outputs": [],
   "source": [
    "def mandelbrot(c):\n",
    "    z = 0\n",
    "    for i in range(100):\n",
    "        z = z**2 + c\n",
    "    return np.abs(z)"
   ]
  },
  {
   "cell_type": "code",
   "execution_count": null,
   "metadata": {
    "Collapsed": "false"
   },
   "outputs": [],
   "source": [
    "x = np.linspace(-2, 1, 500)\n",
    "y = np.linspace(-1, 1, 500)\n",
    "M = x[None, :] + 1j * y[:, None]"
   ]
  },
  {
   "cell_type": "code",
   "execution_count": null,
   "metadata": {
    "Collapsed": "false"
   },
   "outputs": [],
   "source": [
    "R = mandelbrot(M)"
   ]
  },
  {
   "cell_type": "code",
   "execution_count": null,
   "metadata": {
    "Collapsed": "false"
   },
   "outputs": [],
   "source": [
    "fig, axes = plt.subplots()\n",
    "axes.imshow(R)"
   ]
  },
  {
   "cell_type": "code",
   "execution_count": null,
   "metadata": {
    "Collapsed": "false"
   },
   "outputs": [],
   "source": [
    "%load_ext Cython"
   ]
  },
  {
   "cell_type": "code",
   "execution_count": null,
   "metadata": {
    "Collapsed": "false"
   },
   "outputs": [],
   "source": [
    "%%cython --compile-args=-fopenmp --link-args=-fopenmp --annotate\n",
    "\n",
    "import numpy as np\n",
    "from cython.parallel cimport prange\n",
    "from cython cimport boundscheck\n",
    "\n",
    "cdef double mandelbrot_inner(complex c) nogil:\n",
    "    cdef complex z = 0\n",
    "    for i in range(100):\n",
    "        z = z * z + c\n",
    "    return z.real * z.real + z.imag * z.imag\n",
    "\n",
    "@boundscheck(False)\n",
    "def mandelbrot_cython(points):\n",
    "    cdef complex[:] linear_points = points.reshape(-1)\n",
    "    cdef long i, size = linear_points.shape[0]\n",
    "    cdef double[:] result = np.empty((linear_points.shape[0],), dtype=float)\n",
    "    for i in prange(size, nogil=True):\n",
    "        result[i] = mandelbrot_inner(linear_points[i])\n",
    "    return np.asarray(result).reshape(points.shape)        "
   ]
  },
  {
   "cell_type": "code",
   "execution_count": null,
   "metadata": {
    "Collapsed": "false"
   },
   "outputs": [],
   "source": [
    "x = np.linspace(-2, 1, 1000)\n",
    "y = np.linspace(-1, 1, 1000)\n",
    "M = x[None, :] + 1j * y[:, None]"
   ]
  },
  {
   "cell_type": "code",
   "execution_count": null,
   "metadata": {
    "Collapsed": "false"
   },
   "outputs": [],
   "source": [
    "%timeit mandelbrot(M)"
   ]
  },
  {
   "cell_type": "code",
   "execution_count": null,
   "metadata": {
    "Collapsed": "false"
   },
   "outputs": [],
   "source": [
    "%timeit mandelbrot_cython(M)"
   ]
  },
  {
   "cell_type": "markdown",
   "metadata": {
    "Collapsed": "false"
   },
   "source": [
    "##  \n",
    "---"
   ]
  },
  {
   "cell_type": "markdown",
   "metadata": {
    "Collapsed": "false"
   },
   "source": [
    "## [Lorenz attractor](https://en.wikipedia.org/wiki/Lorenz_system)"
   ]
  },
  {
   "cell_type": "markdown",
   "metadata": {
    "Collapsed": "false"
   },
   "source": [
    "The Lorenz system is a system of ordinary differential equations that displays chaotic solutions for certain parameter values.\n",
    "\n",
    "The system is defined by\n",
    "\n",
    "$$\n",
    "\\begin{aligned}\n",
    "\\frac{dx}{dt} &= \\sigma(y - x)\\\\\n",
    "\\frac{dy}{dt} &= x(\\rho - z) - y\\\\\n",
    "\\frac{dz}{dt} &= xy - \\beta z\n",
    "\\end{aligned}\n",
    "$$\n",
    "\n",
    "where $(x, y, z)$ are the coordinates, and $\\beta$, $\\sigma$, and $\\rho$\n",
    "are parameters.\n",
    "\n",
    "In this exercise we will numerically solve the Lorenz system, visualize the solution with Matplotlib, and explore the parameter space\n",
    "\n",
    "#### Tasks\n",
    "+ write a function, `lorenz`, that takes a 3-vector of coordinates $(x, y, z)$ and the current time, and\n",
    "  returns a 3-vector $(\\dot{x}, \\dot{y}, \\dot{z})$ (use the values $\\beta=8/3$, $\\sigma=10$, and $\\rho=28$\n",
    "  for now)\n",
    "+ use `scipy.integrate.odeint` with your `lorenz` function to solve the lorenz system\n",
    "+ plot the trajectory projected onto the $x-y$, $y-z$ and $x-z$ planes, respectively\n",
    "+ this system shows sensitivity to initial conditions; estimate the [Lyapunov exponent](https://en.wikipedia.org/wiki/Lyapunov_exponent) of the system.\n",
    "\n",
    "#### Harder Tasks\n",
    "+ create a 3D visualization instead of the 3 projected visualizations\n",
    "+ estimate the positions of the \"attractor\" points"
   ]
  },
  {
   "cell_type": "code",
   "execution_count": null,
   "metadata": {
    "Collapsed": "false"
   },
   "outputs": [],
   "source": []
  },
  {
   "cell_type": "markdown",
   "metadata": {
    "Collapsed": "false"
   },
   "source": [
    "### Solution"
   ]
  },
  {
   "cell_type": "code",
   "execution_count": null,
   "metadata": {
    "Collapsed": "false"
   },
   "outputs": [],
   "source": [
    "import scipy.integrate as spi\n",
    "beta = 8/3\n",
    "sigma = 10\n",
    "rho = 10\n",
    "\n",
    "\n",
    "def lorenz(state, t):\n",
    "    x, y, z = state\n",
    "    deriv = np.empty((3,))\n",
    "    deriv[0] = sigma * (y - x)\n",
    "    deriv[1] = x * (rho - z) - y\n",
    "    deriv[2] = x * y - beta * z\n",
    "    return deriv"
   ]
  },
  {
   "cell_type": "code",
   "execution_count": null,
   "metadata": {
    "Collapsed": "false"
   },
   "outputs": [],
   "source": [
    "times = np.linspace(0, 50, 10000)\n",
    "start = np.ones((3,))\n",
    "result = spi.odeint(lorenz, start, times)\n",
    "x, y, z = result.transpose()"
   ]
  },
  {
   "cell_type": "code",
   "execution_count": null,
   "metadata": {
    "Collapsed": "false"
   },
   "outputs": [],
   "source": [
    "fig, axes = plt.subplots()\n",
    "axes.plot(x, z)"
   ]
  },
  {
   "cell_type": "markdown",
   "metadata": {
    "Collapsed": "false"
   },
   "source": [
    "# Further reading"
   ]
  },
  {
   "cell_type": "markdown",
   "metadata": {
    "Collapsed": "false"
   },
   "source": [
    "http://www.scipy-lectures.org/index.html  -- a more in-depth and professional version of this class"
   ]
  }
 ],
 "metadata": {
  "kernelspec": {
   "display_name": "Python 3",
   "language": "python",
   "name": "python3"
  },
  "language_info": {
   "codemirror_mode": {
    "name": "ipython",
    "version": 3
   },
   "file_extension": ".py",
   "mimetype": "text/x-python",
   "name": "python",
   "nbconvert_exporter": "python",
   "pygments_lexer": "ipython3",
   "version": "3.7.3"
  }
 },
 "nbformat": 4,
 "nbformat_minor": 4
}
