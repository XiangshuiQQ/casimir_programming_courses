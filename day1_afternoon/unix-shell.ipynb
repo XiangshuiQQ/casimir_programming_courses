{
 "cells": [
  {
   "cell_type": "markdown",
   "metadata": {
    "Collapsed": "false"
   },
   "source": [
    "# Introduction to Shell"
   ]
  },
  {
   "cell_type": "markdown",
   "metadata": {
    "Collapsed": "false"
   },
   "source": [
    "This morning we were introduced to the Python programming language and the Jupyter notebook, which are powerful tools for scientific computing. This morning we are going to introduce another useful and ubiquitous tool: the shell."
   ]
  },
  {
   "cell_type": "markdown",
   "metadata": {
    "Collapsed": "false"
   },
   "source": [
    "<div class=\"alert alert-info\" data-toggle=\"collapse\" data-target=\"#note-license\">\n",
    "<h4 style=\"margin-top:0\"> License Information<i class=\"pull-right fa fa-chevron-down\"></i></h4>\n",
    "<div id=\"note-license\" class=\"collapse\">\n",
    "    \n",
    "Much of the materials for this part of the course have been inspired by, or directly taken from the [Software Carpentry](http://software-carpentry.org/) lesson \"The Unix Shell\", which is graciously provided by Software Carpentry under the permissive [CC BY 4.0 license](https://creativecommons.org/licenses/by/4.0/).\n",
    "\n",
    "The sonnets of William Shakespeare in the `sonnets/` directory are used under the conditions of the [Project Gutenberg License](https://www.gutenberg.org/wiki/Gutenberg%3AThe_Project_Gutenberg_License) (a copy of which is included in `sonnets/LICENSE.txt`.\n",
    "    \n",
    "</div>\n",
    "\n",
    "</div>"
   ]
  },
  {
   "cell_type": "markdown",
   "metadata": {
    "Collapsed": "false"
   },
   "source": [
    "## What is \"the shell\""
   ]
  },
  {
   "cell_type": "markdown",
   "metadata": {
    "Collapsed": "false"
   },
   "source": [
    "A shell is a program that allows you to interact with the computer in a REPL (read-evaluate-print loop). You type in commands, the shell interprets these commands and interacts with the rest of the computer on your behalf, then it will perhaps print some output to the screen, and then allow you to type in another command.\n",
    "\n",
    "There are many programs that act as shells, but the most common is `bash`, the \"Bourne Again SHell\". This is the shell that we are going to learn today. While each shell program has its own idiosyncrasies, the principles and most of the syntax for operating them is the same."
   ]
  },
  {
   "cell_type": "markdown",
   "metadata": {
    "Collapsed": "false"
   },
   "source": [
    "<div class=\"alert alert-info\" data-toggle=\"collapse\" data-target=\"#note-nomenclature\">\n",
    "<h4 style=\"margin-top:0\"> Note on nomenclature <i class=\"pull-right fa fa-chevron-down\"></i></h4>\n",
    "<div id=\"note-nomenclature\" class=\"collapse\">\n",
    "    \n",
    "Often you will hear the terms \"shell\", \"terminal\" and \"command line\" (cli) used interchangeably. While there are technical differences between these terms, the distinction is not important for the purposes of this course.\n",
    "   \n",
    "The term \"shell\" itself invokes the idea that the program in question acts as a thin layer around the core of the \"computer\" (operating system + other tools).\n",
    "\n",
    "</div>\n",
    "</div>"
   ]
  },
  {
   "cell_type": "markdown",
   "metadata": {
    "Collapsed": "false"
   },
   "source": [
    "## Why bother?"
   ]
  },
  {
   "cell_type": "markdown",
   "metadata": {
    "Collapsed": "false"
   },
   "source": [
    "Most of our daily computing is done using GUIs (Graphical User Interfaces) driven mainly by a mouse and, increasingly, by touch screen interfaces. Given this, why should we learn to interact with the computer using a CLI (Command Line Interface), which requires use of a keyboard and provides much less rich input and output?\n",
    "\n",
    "Here are several reasons why it is useful to have a least a basic proficiency in using the shell, in the context of scientific computing:\n",
    "\n",
    "#### **Operating in restricted environments**\n",
    "There are computers that may not provide a GUI, for example:\n",
    "  - High Performance Computing (HPC) clusters\n",
    "  - controllers for experimental equipment (e.g. raspberry pi)\n",
    "  - web servers (e.g. when deploying your website)\n",
    "\n",
    "#### **Shell is an efficient environment for manipulating files and running programs**\n",
    "The shell's whole job is to make it easy to run other programs and to interact with files on the computer.\n",
    "When running programs from the shell you can provide *arguments* that will modify the program's behaviour; This is typically more difficult or impossible when running programs by clicking on icons in a file browser.\n",
    "\n",
    "In addition the shell provides other features, such as being able to use the output of one command as the input of another, and so being able to chain simple commands together into more complex ones.\n",
    "\n",
    "#### **Writing programs that expose a CLI is very simple**\n",
    "CLI-driven programs only need to know how to accept command line \"arguments\" and how to print text to the screen.\n",
    "The operating system typically provides these mechanisms \"for free\". In Python you can access the list of arguments provided with `sys.argv` (more on this later) and can print text by using the `print` function.\n",
    "\n",
    "The consequence of this is that a lot of scientific software *only* provides a CLI. It is therefore important to learn how to use the shell to be able to operate this software."
   ]
  },
  {
   "cell_type": "markdown",
   "metadata": {
    "Collapsed": "false"
   },
   "source": [
    "# Learning Goals\n",
    "\n",
    "There are four main aims for this part of the course:\n",
    "\n",
    "#### **Be able to launch and ascertain the \"state\" of your shell by executing basic commands**\n",
    "This includes information such as which user you are logged in as, the directory in\n",
    "which you find yourself, and the files in the current directory\n",
    "\n",
    "#### **Be able to navigate the filesystem and perform basic file manipulations**\n",
    "For many people manipulating files forms the bulk of the work they will do in the shell.\n",
    "This includes copying, renaming and deleting files, as well as viewing and editing file\n",
    "contents.\n",
    "  \n",
    "#### **Be able to use the shell's productivity tools**\n",
    "This includes utilizing command completion (so that you avoid excessive typing) and searching\n",
    "through the command history (to re-use commands you previously executed). This also includes\n",
    "using more advanced shell features such as piping.\n",
    "\n",
    "#### **Be able to find documentation for CLI programs, and use the documentation to interact with these programs**\n",
    "It is not the aim of this course to give you knowledge of any specific tools (beyond the basic ones\n",
    "that are common to essentially all shell usage). This is why it is important to be able to\n",
    "effectively find and understand documentation for CLI programs, so that you can solve problems yourself."
   ]
  },
  {
   "cell_type": "markdown",
   "metadata": {
    "Collapsed": "false"
   },
   "source": [
    "# Launching a shell session and getting oriented"
   ]
  },
  {
   "cell_type": "markdown",
   "metadata": {
    "Collapsed": "false"
   },
   "source": [
    "You will usually launch a shell session from an existing graphical environment (your desktop!) by launching a \"terminal\" program that opens a window through which you can interact with the shell.\n",
    "\n",
    "The location of this terminal program will depend on your operating system (google `how do I open a terminal in  <X>` if you are unsure). Jupyter also provides a terminal program that runs in your web browser (screencast below)."
   ]
  },
  {
   "cell_type": "markdown",
   "metadata": {
    "Collapsed": "false"
   },
   "source": [
    "<video controls autoplay width=70% id=\"video-open-terminal\" src=\"screencasts/open-terminal.webm\"></video>"
   ]
  },
  {
   "cell_type": "markdown",
   "metadata": {
    "Collapsed": "false"
   },
   "source": [
    "### The command prompt"
   ]
  },
  {
   "cell_type": "markdown",
   "metadata": {
    "Collapsed": "false"
   },
   "source": [
    "After launching the terminal you will see the following:\n",
    "```\n",
    "learner@casimir:~ $\n",
    "```\n",
    "This is the shell *prompt*; it's asking you for input!\n",
    "\n",
    "If you now type `whoami` you will see this appear to the right of the prompt:\n",
    "```\n",
    "learner@casimir:~ $ whoami\n",
    "```\n",
    "\n",
    "Now hitting the \"enter\" key will tell the shell to execute the command:\n",
    "```\n",
    "learner@casimir:~ $ whoami\n",
    "learner\n",
    "learner@casimir:~ $ \n",
    "```\n",
    "The `whoami` command printed the current user (who the shell thinks we are) to the screen, and finished.\n",
    "The shell then printed another prompt, indicating that it is ready for more input.\n",
    "\n",
    "More specifically, when we hit \"enter\" after typing `whoami` the shell:\n",
    "\n",
    "\n",
    "1.    finds a program called `whoami`,\n",
    "2.    runs that program,\n",
    "3.    displays that program’s output, then\n",
    "4.    displays a new prompt to tell us that it’s ready for more commands."
   ]
  },
  {
   "cell_type": "markdown",
   "metadata": {
    "Collapsed": "false"
   },
   "source": [
    "#### Unknown commands"
   ]
  },
  {
   "cell_type": "markdown",
   "metadata": {
    "Collapsed": "false"
   },
   "source": [
    "If you try to get the shell to execute a command that it does not know about, it will print an error:"
   ]
  },
  {
   "cell_type": "markdown",
   "metadata": {
    "Collapsed": "false"
   },
   "source": [
    "```\n",
    "learner@casimir:~$ nonexistantcommand\n",
    "-bash: nonexistantcommand: command not found\n",
    "```"
   ]
  },
  {
   "cell_type": "markdown",
   "metadata": {
    "Collapsed": "false"
   },
   "source": [
    "# Navigating files and directories"
   ]
  },
  {
   "cell_type": "markdown",
   "metadata": {
    "Collapsed": "false"
   },
   "source": [
    "The shell has a notion of \"where we are\" in the computer's filesystem. This is known as the *current working directory*. The shell assumes that we want to run commands in the context of this directory unless we specify something else. For example the `ls` command, which lists files in a directory will list the files in the *current working directory* unless you specify otherwise.\n",
    "\n",
    "We can use the `pwd` command to find out what our current working directory is:\n",
    "\n",
    "```\n",
    "learner@casimir:~$ pwd\n",
    "/home/learner\n",
    "```\n",
    "\n",
    "To understand what this output means we will need to learn a bit about how the filesystem is organized."
   ]
  },
  {
   "cell_type": "markdown",
   "metadata": {
    "Collapsed": "false"
   },
   "source": [
    "*directories* (also called \"folders\") contain files and other directories. The whole filesystem forms a tree structure. The directory at the root of the tree is called (unsurprisingly) the *root directory*. It is also denoted with the character `/`.\n",
    "\n",
    "An example directory structure is shown below."
   ]
  },
  {
   "cell_type": "markdown",
   "metadata": {
    "Collapsed": "false"
   },
   "source": [
    "<img src=\"images/filesystem.svg\" width=30%></img>"
   ]
  },
  {
   "cell_type": "markdown",
   "metadata": {
    "Collapsed": "false"
   },
   "source": [
    "### Absolute Paths"
   ]
  },
  {
   "cell_type": "markdown",
   "metadata": {
    "Collapsed": "false"
   },
   "source": [
    "We can *uniquely identify* a file by giving its location relative to the root of the filesystem.This is called the *absolute path* of the file.\n",
    "\n",
    "The absolute path of a file starts with a `/` and contains the \"path\" that you would follow from the root directory to reach the file in question, with each directory separated by `/`"
   ]
  },
  {
   "cell_type": "markdown",
   "metadata": {
    "Collapsed": "false"
   },
   "source": [
    "<img src=\"images/filesystem-highlighted.svg\" width=30%></img>"
   ]
  },
  {
   "cell_type": "markdown",
   "metadata": {
    "Collapsed": "false"
   },
   "source": [
    "The path to the `a.py` file shown above would be written as\n",
    "\n",
    "```\n",
    "/home/learner/a.py\n",
    "```"
   ]
  },
  {
   "cell_type": "markdown",
   "metadata": {
    "Collapsed": "false"
   },
   "source": [
    "We can now see that the output of the `pwd` command above means that we are in the `learner` directory, which itself is in the `home` directory, which itself is in the root directory."
   ]
  },
  {
   "cell_type": "markdown",
   "metadata": {
    "Collapsed": "false"
   },
   "source": [
    "### Listing Files"
   ]
  },
  {
   "cell_type": "markdown",
   "metadata": {
    "Collapsed": "false"
   },
   "source": [
    "We can use the `ls` command to list files and directories in the current working directory:"
   ]
  },
  {
   "cell_type": "markdown",
   "metadata": {
    "Collapsed": "false"
   },
   "source": [
    "```\n",
    "learner@casimir:~$ ls \n",
    "a.py  course-materials\tf.txt  my-materials  Sync\n",
    "```"
   ]
  },
  {
   "cell_type": "markdown",
   "metadata": {
    "Collapsed": "false"
   },
   "source": [
    "This is kind of OK but not very useful — which of the above are files, and which are directories, for example?\n",
    "\n",
    "We can modify what the `ls` command does by using the *flag* `-F` (also known as a *switch* or *option*). This flag tells `ls` to add a trailing `/`  to the names of directories:"
   ]
  },
  {
   "cell_type": "markdown",
   "metadata": {
    "Collapsed": "false"
   },
   "source": [
    "```\n",
    "learner@casimir:~$ ls -F\n",
    "a.py  course-materials/  f.txt\tmy-materials/  Sync/\n",
    "```"
   ]
  },
  {
   "cell_type": "markdown",
   "metadata": {
    "Collapsed": "false"
   },
   "source": [
    "### Finding documentation and manuals"
   ]
  },
  {
   "cell_type": "markdown",
   "metadata": {
    "Collapsed": "false"
   },
   "source": [
    "`ls` has lots of flags. We can use the `--help` flag to `ls` to find out more information:"
   ]
  },
  {
   "cell_type": "markdown",
   "metadata": {
    "Collapsed": "false"
   },
   "source": [
    "```\n",
    "learner@casimir:~$ ls --help\n",
    "Usage: ls [OPTION]... [FILE]...\n",
    "List information about the FILEs (the current directory by default).\n",
    "Sort entries alphabetically if none of -cftuvSUX nor --sort is specified.\n",
    "\n",
    "Mandatory arguments to long options are mandatory for short options too.\n",
    "  -a, --all                  do not ignore entries starting with .\n",
    "  -A, --almost-all           do not list implied . and ..\n",
    "      --author               with -l, print the author of each file\n",
    "  -b, --escape               print C-style escapes for nongraphic characters\n",
    "      --block-size=SIZE      scale sizes by SIZE before printing them; e.g.,\n",
    "                               '--block-size=M' prints sizes in units of\n",
    "                               1,048,576 bytes; see SIZE format below\n",
    "  -B, --ignore-backups       do not list implied entries ending with ~\n",
    "  -c                         with -lt: sort by, and show, ctime (time of last\n",
    "                               modification of file status information);\n",
    "                               with -l: show ctime and sort by name;\n",
    "                               otherwise: sort by ctime, newest first\n",
    "  -C                         list entries by columns\n",
    "      --color[=WHEN]         colorize the output; WHEN can be 'always' (default\n",
    "                               if omitted), 'auto', or 'never'; more info below\n",
    "  -d, --directory            list directories themselves, not their contents\n",
    "  -D, --dired                generate output designed for Emacs' dired mode\n",
    "  -f                         do not sort, enable -aU, disable -ls --color\n",
    "  -F, --classify             append indicator (one of */=>@|) to entries\n",
    "      --file-type            likewise, except do not append '*'\n",
    "      --format=WORD          across -x, commas -m, horizontal -x, long -l,\n",
    "                               single-column -1, verbose -l, vertical -C\n",
    "      --full-time            like -l --time-style=full-iso\n",
    "  -g                         like -l, but do not list owner\n",
    "      --group-directories-first\n",
    "                             group directories before files;\n",
    "                               can be augmented with a --sort option, but any\n",
    "                               use of --sort=none (-U) disables grouping\n",
    "  -G, --no-group             in a long listing, don't print group names\n",
    "  -h, --human-readable       with -l and/or -s, print human readable sizes\n",
    "                               (e.g., 1K 234M 2G)\n",
    "      --si                   likewise, but use powers of 1000 not 1024\n",
    "  -H, --dereference-command-line\n",
    "                             follow symbolic links listed on the command line\n",
    "      --dereference-command-line-symlink-to-dir\n",
    "                             follow each command line symbolic link\n",
    "                               that points to a directory\n",
    "      --hide=PATTERN         do not list implied entries matching shell PATTERN\n",
    "                               (overridden by -a or -A)\n",
    "      --indicator-style=WORD  append indicator with style WORD to entry names:\n",
    "                               none (default), slash (-p),\n",
    "                               file-type (--file-type), classify (-F)\n",
    "  -i, --inode                print the index number of each file\n",
    "  -I, --ignore=PATTERN       do not list implied entries matching shell PATTERN\n",
    "  -k, --kibibytes            default to 1024-byte blocks for disk usage\n",
    "  -l                         use a long listing format\n",
    "  -L, --dereference          when showing file information for a symbolic\n",
    "                               link, show information for the file the link\n",
    "                               references rather than for the link itself\n",
    "  -m                         fill width with a comma separated list of entries\n",
    "  -n, --numeric-uid-gid      like -l, but list numeric user and group IDs\n",
    "  -N, --literal              print raw entry names (don't treat e.g. control\n",
    "                               characters specially)\n",
    "  -o                         like -l, but do not list group information\n",
    "  -p, --indicator-style=slash\n",
    "                             append / indicator to directories\n",
    "  -q, --hide-control-chars   print ? instead of nongraphic characters\n",
    "      --show-control-chars   show nongraphic characters as-is (the default,\n",
    "                               unless program is 'ls' and output is a terminal)\n",
    "  -Q, --quote-name           enclose entry names in double quotes\n",
    "      --quoting-style=WORD   use quoting style WORD for entry names:\n",
    "                               literal, locale, shell, shell-always,\n",
    "                               shell-escape, shell-escape-always, c, escape\n",
    "  -r, --reverse              reverse order while sorting\n",
    "  -R, --recursive            list subdirectories recursively\n",
    "  -s, --size                 print the allocated size of each file, in blocks\n",
    "  -S                         sort by file size, largest first\n",
    "      --sort=WORD            sort by WORD instead of name: none (-U), size (-S),\n",
    "                               time (-t), version (-v), extension (-X)\n",
    "      --time=WORD            with -l, show time as WORD instead of default\n",
    "                               modification time: atime or access or use (-u);\n",
    "                               ctime or status (-c); also use specified time\n",
    "                               as sort key if --sort=time (newest first)\n",
    "      --time-style=STYLE     with -l, show times using style STYLE:\n",
    "                               full-iso, long-iso, iso, locale, or +FORMAT;\n",
    "                               FORMAT is interpreted like in 'date'; if FORMAT\n",
    "                               is FORMAT1<newline>FORMAT2, then FORMAT1 applies\n",
    "                               to non-recent files and FORMAT2 to recent files;\n",
    "                               if STYLE is prefixed with 'posix-', STYLE\n",
    "                               takes effect only outside the POSIX locale\n",
    "  -t                         sort by modification time, newest first\n",
    "  -T, --tabsize=COLS         assume tab stops at each COLS instead of 8\n",
    "  -u                         with -lt: sort by, and show, access time;\n",
    "                               with -l: show access time and sort by name;\n",
    "                               otherwise: sort by access time, newest first\n",
    "  -U                         do not sort; list entries in directory order\n",
    "  -v                         natural sort of (version) numbers within text\n",
    "  -w, --width=COLS           set output width to COLS.  0 means no limit\n",
    "  -x                         list entries by lines instead of by columns\n",
    "  -X                         sort alphabetically by entry extension\n",
    "  -Z, --context              print any security context of each file\n",
    "  -1                         list one file per line.  Avoid '\\n' with -q or -b\n",
    "      --help     display this help and exit\n",
    "      --version  output version information and exit\n",
    "\n",
    "The SIZE argument is an integer and optional unit (example: 10K is 10*1024).\n",
    "Units are K,M,G,T,P,E,Z,Y (powers of 1024) or KB,MB,... (powers of 1000).\n",
    "\n",
    "Using color to distinguish file types is disabled both by default and\n",
    "with --color=never.  With --color=auto, ls emits color codes only when\n",
    "standard output is connected to a terminal.  The LS_COLORS environment\n",
    "variable can change the settings.  Use the dircolors command to set it.\n",
    "\n",
    "Exit status:\n",
    " 0  if OK,\n",
    " 1  if minor problems (e.g., cannot access subdirectory),\n",
    " 2  if serious trouble (e.g., cannot access command-line argument).\n",
    "\n",
    "GNU coreutils online help: <http://www.gnu.org/software/coreutils/>\n",
    "Full documentation at: <http://www.gnu.org/software/coreutils/ls>\n",
    "or available locally via: info '(coreutils) ls invocation'\n",
    "```"
   ]
  },
  {
   "cell_type": "markdown",
   "metadata": {
    "Collapsed": "false"
   },
   "source": [
    "Many other commands have a `--help` flag.\n",
    "\n",
    "Note that flags will often have a *short version*, which consists of a single `-` and a single character, and a *long version*, which consists of a `--` and several characters.\n",
    "\n",
    "If you provide a flag that a command does not support, it will print an error:"
   ]
  },
  {
   "cell_type": "markdown",
   "metadata": {
    "Collapsed": "false"
   },
   "source": [
    "```\n",
    "learner@casimir:~$ ls --nonexistant-flag\n",
    "ls: unrecognized option '--nonexistant-flag'\n",
    "Try 'ls --help' for more information.\n",
    "```"
   ]
  },
  {
   "cell_type": "markdown",
   "metadata": {
    "Collapsed": "false"
   },
   "source": [
    "You can also find help on commands by using the `man` command:"
   ]
  },
  {
   "cell_type": "markdown",
   "metadata": {
    "Collapsed": "false"
   },
   "source": [
    "```\n",
    "man ls\n",
    "```"
   ]
  },
  {
   "cell_type": "markdown",
   "metadata": {
    "Collapsed": "false"
   },
   "source": [
    "This will display the \"manual\" for the `ls` command in the terminal, which you can scroll through with the arrow keys (use `q` to quit).\n",
    "\n",
    "`man` pages are also available online at: https://linux.die.net/man/. This is often much more practical than using the `man` command."
   ]
  },
  {
   "cell_type": "markdown",
   "metadata": {
    "Collapsed": "false"
   },
   "source": [
    "While `--help` and `man` pages are certainly complete, they are often very poor at giving a feel for *how* a particular program should be used, with common usage examples. For this, *google is your friend*."
   ]
  },
  {
   "cell_type": "markdown",
   "metadata": {
    "Collapsed": "false"
   },
   "source": [
    "### Relative Paths"
   ]
  },
  {
   "cell_type": "markdown",
   "metadata": {
    "Collapsed": "false"
   },
   "source": [
    "We can also use `ls` to list the files in *other* directories than the current working directory, like so: "
   ]
  },
  {
   "cell_type": "markdown",
   "metadata": {
    "Collapsed": "false"
   },
   "source": [
    "```\n",
    "learner@casimir:~$ ls -F course-materials\n",
    "announcement.md   day1/    day2_morning/\n",
    "```"
   ]
  },
  {
   "cell_type": "markdown",
   "metadata": {
    "Collapsed": "false"
   },
   "source": [
    "We passed a directory name, `course-materials`, to `ls` as an *argument*, after the flag `-F`.\n",
    "\n",
    "We can also list the contents of `day1`, inside `course-materials`:"
   ]
  },
  {
   "cell_type": "markdown",
   "metadata": {
    "Collapsed": "false"
   },
   "source": [
    "```\n",
    "learner@casimir:~$ ls -F course-materials/day1\n",
    "babynames.txt  Introduction to python.ipynb  Projects day 1.ipynb  romeo_and_juliet.txt\n",
    "```"
   ]
  },
  {
   "cell_type": "markdown",
   "metadata": {
    "Collapsed": "false"
   },
   "source": [
    "Here we provided the directory to `ls` as a *relative path*, which does not start with a `/`,  and is to be understood as a path *relative to the current working directory*. Using relatives paths is a useful shortcut that saves quite a bit of typing."
   ]
  },
  {
   "cell_type": "markdown",
   "metadata": {
    "Collapsed": "false"
   },
   "source": [
    "There are several other shortcuts that can be used when specifying paths:\n",
    "\n",
    "+ `.` refers to the *current working directory*\n",
    "+ `..` refers to the *parent* of the current working directory\n",
    "+ `~` refers to the user's *home directory*"
   ]
  },
  {
   "cell_type": "markdown",
   "metadata": {
    "Collapsed": "false"
   },
   "source": [
    "### Moving around the filesystem"
   ]
  },
  {
   "cell_type": "markdown",
   "metadata": {
    "Collapsed": "false"
   },
   "source": [
    "Even though using relative paths adds convenience, most of the time you will want to do operations on files in a single directory. In this case it is useful to be able to change the working directory.\n",
    "\n",
    "This is accomplished using the `cd` command:"
   ]
  },
  {
   "cell_type": "markdown",
   "metadata": {
    "Collapsed": "false"
   },
   "source": [
    "```\n",
    "learner@casimir:~$ cd course-materials\n",
    "learner@casimir:~/course-materials$ \n",
    "```"
   ]
  },
  {
   "cell_type": "markdown",
   "metadata": {
    "Collapsed": "false"
   },
   "source": [
    "We changed to the `course-materials` directory that is inside our home directory, specifying it using a relative path.\n",
    "\n",
    "The `cd` command did not print anything to the screen, and the shell returned us a prompt.\n",
    "We can use the `pwd` command to check what directory we are in:"
   ]
  },
  {
   "cell_type": "markdown",
   "metadata": {
    "Collapsed": "false"
   },
   "source": [
    "```\n",
    "learner@casimir:~/course-materials$ pwd\n",
    "/home/learner/course-materials\n",
    "learner@casimir:~/course-materials$ \n",
    "```"
   ]
  },
  {
   "cell_type": "markdown",
   "metadata": {
    "Collapsed": "false"
   },
   "source": [
    "Note that the prompt also contains the current working directory between the `:` and `$`, using the shortcut `~` for the \"home directory\". Can you use this to deduce what our home directory is?\n",
    "\n",
    "Be aware that when using different systems the shell prompt may not look exactly the same."
   ]
  },
  {
   "cell_type": "markdown",
   "metadata": {
    "Collapsed": "false"
   },
   "source": [
    "We can of course use all the shortcuts we learned above when specifying paths to `cd`. In addition `cd` has the following behaviour when certain \"special\" arguments are provided:\n",
    "\n",
    "+ `cd` (no arguments) takes us back to our home directory\n",
    "+ `cd -` returns to the last directory we were in (like an \"undo\")"
   ]
  },
  {
   "cell_type": "markdown",
   "metadata": {
    "Collapsed": "false",
    "toc-hr-collapsed": false
   },
   "source": [
    "### ✓ Check Questions"
   ]
  },
  {
   "cell_type": "markdown",
   "metadata": {
    "Collapsed": "false"
   },
   "source": [
    "####  \n",
    "---"
   ]
  },
  {
   "cell_type": "markdown",
   "metadata": {
    "Collapsed": "false"
   },
   "source": [
    "Starting from `/home/learner/data/`, which of the following commands could you use to navigate to your home directory, which is `/home/learner`?\n",
    "\n",
    "1.   `cd .`\n",
    "2.   `cd /`\n",
    "3.   `cd /home/amanda`\n",
    "4.   `cd ../..`\n",
    "5.   `cd ~`\n",
    "6.   `cd home`\n",
    "7.   `cd ~/data/..`\n",
    "8.   `cd`\n",
    "9.   `cd ..`"
   ]
  },
  {
   "cell_type": "markdown",
   "metadata": {
    "Collapsed": "false"
   },
   "source": [
    "##### **Solution**"
   ]
  },
  {
   "cell_type": "markdown",
   "metadata": {
    "Collapsed": "false"
   },
   "source": [
    "1. No: `.` stands for the current directory.\n",
    "2. No: `/` stands for the root directory.\n",
    "3. No: Learner’s home directory is `/home/learner`.\n",
    "4. No: this goes up two levels, i.e. ends in `/home`.\n",
    "5. Yes: `~` stands for the user’s home directory, in this case `/home/learner`.\n",
    "6. No: this would navigate into a directory home in the current directory if it exists.\n",
    "7. Yes: unnecessarily complicated, but correct.\n",
    "8. Yes: shortcut to go back to the user’s home directory.\n",
    "9. Yes: goes up one level."
   ]
  },
  {
   "cell_type": "markdown",
   "metadata": {
    "Collapsed": "false"
   },
   "source": [
    "####  \n",
    "---"
   ]
  },
  {
   "cell_type": "markdown",
   "metadata": {
    "Collapsed": "false"
   },
   "source": [
    "Using the filesystem diagram below, if pwd displays `/home/learner`, what will `ls -F ../backup` display?\n",
    "\n",
    "1.    `../backup: No such file or directory`\n",
    "2.    `2017-07 2017-08 2017-09`\n",
    "3.    `2017-07/ 2017-08/ 2017-09/`\n",
    "4.    `base/ orig/ recent/`"
   ]
  },
  {
   "cell_type": "markdown",
   "metadata": {
    "Collapsed": "false"
   },
   "source": [
    "<img src=\"images/fs-check-question.svg\" width=30%></img>"
   ]
  },
  {
   "cell_type": "markdown",
   "metadata": {
    "Collapsed": "false"
   },
   "source": [
    "##### **Solution**"
   ]
  },
  {
   "cell_type": "markdown",
   "metadata": {
    "Collapsed": "false"
   },
   "source": [
    "1. No: there is a directory backup in `/home`.\n",
    "2. No: this is the content of `/home/learner/backup`, but with `..` we asked for one level further up.\n",
    "3. No: see previous explanation.\n",
    "4. Yes: `../backup/` refers to `/home/backup/`."
   ]
  },
  {
   "cell_type": "markdown",
   "metadata": {
    "Collapsed": "false"
   },
   "source": [
    "####  \n",
    "---"
   ]
  },
  {
   "cell_type": "markdown",
   "metadata": {
    "Collapsed": "false"
   },
   "source": [
    "Assuming a directory structure as in the above figure, if `pwd` displays `/home/backup`, and `-r` tells `ls` to display things in reverse order, what command will display:\n",
    "\n",
    "```\n",
    "recent/ orig/ base/\n",
    "```\n",
    "\n",
    "1. `ls pwd`\n",
    "2. `ls -r -F`\n",
    "3. `ls -r -F /home/backup`\n",
    "4. Either #2 or #3 above, but not #1."
   ]
  },
  {
   "cell_type": "markdown",
   "metadata": {
    "Collapsed": "true"
   },
   "source": [
    "##### **Solution**"
   ]
  },
  {
   "cell_type": "markdown",
   "metadata": {
    "Collapsed": "false"
   },
   "source": [
    "1. No: `pwd` is not the name of a directory.\n",
    "2. Yes: `ls` without directory argument lists files and directories in the current directory.\n",
    "3. Yes: uses the absolute path explicitly.\n",
    "4. Correct: see explanations above."
   ]
  },
  {
   "cell_type": "markdown",
   "metadata": {
    "Collapsed": "false"
   },
   "source": [
    "# Manipulating files and directories"
   ]
  },
  {
   "cell_type": "markdown",
   "metadata": {
    "Collapsed": "false"
   },
   "source": [
    "So now we can move around the filesystem effectively and list the contents of directories as we move around. The next step is to be able to create, read, update and delete files and directories."
   ]
  },
  {
   "cell_type": "markdown",
   "metadata": {
    "Collapsed": "false"
   },
   "source": [
    "Directories are created with the `mkdir` (make directory) command, which takes a single argument: the name of the directory to create."
   ]
  },
  {
   "cell_type": "markdown",
   "metadata": {
    "Collapsed": "false"
   },
   "source": [
    "```\n",
    "learner@casimir:~$ mkdir work\n",
    "learner@casimir:~$ \n",
    "```"
   ]
  },
  {
   "cell_type": "markdown",
   "metadata": {
    "Collapsed": "false"
   },
   "source": [
    "### Editing text files"
   ]
  },
  {
   "cell_type": "markdown",
   "metadata": {
    "Collapsed": "false"
   },
   "source": [
    "Simple! if we now run `ls -F` we will see that there is a directory called `work` in our current working directory, which we can `cd` into and create some files"
   ]
  },
  {
   "cell_type": "markdown",
   "metadata": {
    "Collapsed": "false"
   },
   "source": [
    "```\n",
    "learner@casimir:~$ cd work\n",
    "learner@casimir:~/work$ nano draft.txt\n",
    "```"
   ]
  },
  {
   "cell_type": "markdown",
   "metadata": {
    "Collapsed": "false"
   },
   "source": [
    "Above we use the `nano` command, providing the filename `draft.txt` as an argument. `nano` is a *text editor*, which will allow us to type some text and save it into the file provided as command line argument."
   ]
  },
  {
   "cell_type": "markdown",
   "metadata": {
    "Collapsed": "false"
   },
   "source": [
    "<div class=\"alert alert-info\" data-toggle=\"collapse\" data-target=\"#note-editors\">\n",
    "<h4 style=\"margin-top:0\"> Note on text editors <i class=\"pull-right fa fa-chevron-down\"></i></h4>\n",
    "<div id=\"note-editors\" class=\"collapse\">\n",
    "    \n",
    "When we say, “nano is a text editor,” we really do mean “text”: it can only work with plain character data, not tables, images, or any other human-friendly media. We use it in examples because it is one of the least complex text editors. However, because of this trait, it may not be powerful enough or flexible enough for the work you need to do after this course. On Unix systems (such as Linux and Mac OS X), many programmers use Emacs or Vim (both of which require more time to learn), or a graphical editor such as Gedit. On Windows, you may wish to use Notepad++. Windows also has a built-in editor called notepad that can be run from the command line in the same way as nano for the purposes of this lesson.\n",
    "\n",
    "</div>\n",
    "</div>"
   ]
  },
  {
   "cell_type": "markdown",
   "metadata": {
    "Collapsed": "false"
   },
   "source": [
    "<video controls autoplay width=50% id=\"video-open-terminal\" src=\"screencasts/open-editor.webm\"></video>"
   ]
  },
  {
   "cell_type": "markdown",
   "metadata": {
    "Collapsed": "false"
   },
   "source": [
    "Once we’re happy with our text, we can press Ctrl-O (press the Ctrl or Control key and, while holding it down, press the O key) to write our data to disk (we’ll be asked what file we want to save this to: press Return to accept the suggested default of draft.txt).\n",
    "\n",
    "Once our file is saved, we can use Ctrl-X to quit the editor and return to the shell."
   ]
  },
  {
   "cell_type": "markdown",
   "metadata": {
    "Collapsed": "false"
   },
   "source": [
    "<div class=\"alert alert-info\" data-toggle=\"collapse\" data-target=\"#note-control\">\n",
    "<h4 style=\"margin-top:0\"> Note on the control key <i class=\"pull-right fa fa-chevron-down\"></i></h4>\n",
    "<div id=\"note-control\" class=\"collapse\">\n",
    "   \n",
    "The Control key is also called the “Ctrl” key.\n",
    "There are various ways in which using the Control key may be described.\n",
    "For example, you may see an instruction to press the Control key and, while holding it down,\n",
    "press the X key, described as any of:\n",
    "\n",
    "+ `Control-X`\n",
    "+ `Control+X`\n",
    "+ `Ctrl-X`\n",
    "+ `Ctrl+X`\n",
    "+ `^X`\n",
    "+ `C-x`\n",
    "\n",
    "In nano, along the bottom of the screen you’ll see `^G Get Help ^O WriteOut`.\n",
    "This means that you can use Control-G to get help and Control-O to save your file.\n",
    "    \n",
    "</div>\n",
    "</div>"
   ]
  },
  {
   "cell_type": "markdown",
   "metadata": {
    "Collapsed": "false"
   },
   "source": [
    "### Naming tips for files or directories"
   ]
  },
  {
   "cell_type": "markdown",
   "metadata": {
    "Collapsed": "false"
   },
   "source": [
    "+ Don't use whitespace\n",
    "\n",
    "   The shell separates command arguments on whitespace, so having filenames with whitespace is problematic. While it *is* possible to get around this restriction, it is easier to just avoid whitespace in filenames\n",
    "     \n",
    "     \n",
    "+ Don't begin names with a `-` (dash)\n",
    "\n",
    "   Commands treat names starting with `-` as options.\n",
    "   \n",
    "   \n",
    "+ Use only letters, numbers, `.` (period) and `_` (underscore)\n",
    "\n",
    "   Many other characters have special meaning to the shell or to other programs you may invoke. This may mean that you provide unintended options to certain commands, and may make them misbehave or result in data loss"
   ]
  },
  {
   "cell_type": "markdown",
   "metadata": {
    "Collapsed": "false"
   },
   "source": [
    "### Copying, moving, and deleting files and directories"
   ]
  },
  {
   "cell_type": "markdown",
   "metadata": {
    "Collapsed": "false"
   },
   "source": [
    "We can use the `cp` command to copy a file from one place to another:"
   ]
  },
  {
   "cell_type": "markdown",
   "metadata": {
    "Collapsed": "false"
   },
   "source": [
    "```\n",
    "learner@casimir:~/work$ cp draft.txt previous-draft.txt\n",
    "learner@casimir:~/work$ ls -F\n",
    "draft.txt  previous-draft.txt\n",
    "learner@casimir:~/work$ \n",
    "```"
   ]
  },
  {
   "cell_type": "markdown",
   "metadata": {
    "Collapsed": "false"
   },
   "source": [
    "The above invocation of `cp` copied the file `draft.txt` to the file `previous-draft.txt`, creating it in the process.\n",
    "\n",
    "<div class=\"alert alert-warning\">\n",
    "    \n",
    "Caution: If the target filename to `cp` already exists, *you will overwrite it*</div>\n",
    "\n",
    "We can also copy files between directories, so to copy `draft.txt` into the parent directory we could simply do the following:\n",
    "\n",
    "```\n",
    "learner@casimir:~/work$ cp draft.txt ..\n",
    "```"
   ]
  },
  {
   "cell_type": "markdown",
   "metadata": {
    "Collapsed": "false"
   },
   "source": [
    "We can *remove* files using the `rm` command:"
   ]
  },
  {
   "cell_type": "markdown",
   "metadata": {
    "Collapsed": "false"
   },
   "source": [
    "```\n",
    "learner@casimir:~/work$ rm previous-draft.txt \n",
    "learner@casimir:~/work$ ls -F\n",
    "draft.txt\n",
    "```"
   ]
  },
  {
   "cell_type": "markdown",
   "metadata": {
    "Collapsed": "false"
   },
   "source": [
    "<div class=\"alert alert-warning\">\n",
    "\n",
    "Caution: **deleting is forever**\n",
    "\n",
    "<p>\n",
    "    \n",
    "The Unix shell doesn’t have a trash bin that we can recover deleted files from (though most graphical interfaces to Unix do). Instead, when we delete files, they are unhooked from the file system so that their storage space on disk can be recycled. Tools for finding and recovering deleted files do exist, but there’s no guarantee they’ll work in any particular situation, since the computer may recycle the file’s disk space right away.\n",
    "    \n",
    "</p>\n",
    "\n",
    "</div>"
   ]
  },
  {
   "cell_type": "markdown",
   "metadata": {
    "Collapsed": "false"
   },
   "source": [
    "by default, `rm` will not work on directories:"
   ]
  },
  {
   "cell_type": "markdown",
   "metadata": {
    "Collapsed": "false"
   },
   "source": [
    "```\n",
    "learner@casimir:~/work$ cd ..\n",
    "learner@casimir:~$ rm work\n",
    "rm: cannot remove 'work': Is a directory\n",
    "learner@casimir:~$ \n",
    "```"
   ]
  },
  {
   "cell_type": "markdown",
   "metadata": {
    "Collapsed": "false"
   },
   "source": [
    "we need to supply the `-r` flag (for *recursive*):"
   ]
  },
  {
   "cell_type": "markdown",
   "metadata": {
    "Collapsed": "false"
   },
   "source": [
    "```\n",
    "learner@casimir:~$ rm -r work\n",
    "learner@casimir:~$ \n",
    "```"
   ]
  },
  {
   "cell_type": "markdown",
   "metadata": {
    "Collapsed": "false"
   },
   "source": [
    "For extra safety, you can use the `-i` flag to `rm`, which will ask you to confirm the deletion of each of the files inside `work` in turn."
   ]
  },
  {
   "cell_type": "markdown",
   "metadata": {
    "Collapsed": "false"
   },
   "source": [
    "Now let's recreate the `work` directory and move `draft.txt` (which we previously copied into our home directory) into it.\n",
    "\n",
    "For this will use the `mv` (move) command."
   ]
  },
  {
   "cell_type": "markdown",
   "metadata": {
    "Collapsed": "false"
   },
   "source": [
    "```\n",
    "learner@casimir:~$ mkdir work\n",
    "learner@casimir:~$ mv draft.txt work\n",
    "learner@casimir:~$ ls -F work\n",
    "draft.txt\n",
    "```"
   ]
  },
  {
   "cell_type": "markdown",
   "metadata": {
    "Collapsed": "false"
   },
   "source": [
    "`cp`, `mv` and `rm` all expect *paths* as arguments. In the preceding examples we used *relative paths* to refer to files and directories in our *current working directory*, but we can also use these same programs to operate on files in locations other than our current working directory."
   ]
  },
  {
   "cell_type": "markdown",
   "metadata": {
    "Collapsed": "false"
   },
   "source": [
    "<div class=\"alert alert-info\">\n",
    "<h3>Protip: <b>shell autocompletion</b></h3>\n",
    "\n",
    "If your file and directory names are descriptive (and they should be!) they may become somewhat long and cumbersome to type manually.\n",
    "\n",
    "  \n",
    "Luckily the shell provides *autocompletion* for paths. While typing out a filename, simply hit the Tab key to have the shell autocomplete the path for you. If the shell cannot unambiguously determine which file you want, it will not autocomplete; if you hit the Tab key a second time it will print the possible autocompletion options. You will then need to carry on typing the filename until the shell is able to determine which one you mean, at which point you can hit Tab again to have the shell autocomplete.\n",
    "\n",
    "\n",
    "<video controls autoplay width=70% id=\"video-open-terminal\" src=\"screencasts/tab-completion.webm\"></video>\n",
    "</div>"
   ]
  },
  {
   "cell_type": "markdown",
   "metadata": {
    "Collapsed": "false"
   },
   "source": [
    "<div class=\"alert alert-info\">\n",
    "<h3>Protip: <b>shell history</b></h3>\n",
    "\n",
    "Now that we are composing commands into more complicated ones we shall look at another shell productivity tool: *history*.\n",
    "\n",
    "The shell keeps around a history of all the commands that you send to it (this is configurable but usually defaults to ~1000 commands). Pressing the Up Arrow key at a blank prompt will allow you to cycle through your most recently executed commands. Before executing a command from the history, you also have the opportunity to edit it. This is incredibly useful if you are performing repetitive tasks.\n",
    "\n",
    "You can also use the `history` command to print out the command history to the screen\n",
    "\n",
    "It is also possible to *search through the command history*. To activate this, enter `Ctrl-R` and begin typing the start of the command that you are looking for. The shell will display the match that occured most recently in the history, and you can press `Ctrl-R` to cycle through the matches further back in time. Pressing any other key will stop the search, with the selected command already typed for you on the command line\n",
    "\n",
    "\n",
    "<video controls autoplay width=50% id=\"video-open-terminal\" src=\"screencasts/search.webm\"></video>\n",
    "</div>"
   ]
  },
  {
   "cell_type": "markdown",
   "metadata": {
    "Collapsed": "false"
   },
   "source": [
    "### ✓ Check questions"
   ]
  },
  {
   "cell_type": "markdown",
   "metadata": {
    "Collapsed": "false"
   },
   "source": [
    "####  \n",
    "---"
   ]
  },
  {
   "cell_type": "markdown",
   "metadata": {
    "Collapsed": "false"
   },
   "source": [
    "We have seen how to create text files using the `nano` editor. Now, try the following command in your home directory:\n",
    "\n",
    "```\n",
    "touch my_file.txt\n",
    "```\n",
    "\n",
    "What did the `touch` command do? When you look at your home directory using the GUI file explorer, does the file show up?\n",
    "\n",
    "Use `ls -l` to inspect the files. How large is `my_file.txt`?\n",
    "\n",
    "When might you want to create a file this way?"
   ]
  },
  {
   "cell_type": "markdown",
   "metadata": {
    "Collapsed": "true"
   },
   "source": [
    "##### **Solution**"
   ]
  },
  {
   "cell_type": "markdown",
   "metadata": {
    "Collapsed": "true"
   },
   "source": [
    "1. The touch command generates a new file called `my_file.txt` in your home directory. If you are in your home directory, you can observe this newly generated file by typing `ls` at the command line prompt. `my_file.txt` can also be viewed in your GUI file explorer.\n",
    "2. When you inspect the file with `ls -l`, note that the size of `my_file.txt` is 0kb. In other words, it contains no data. If you open `my_file.txt` using your text editor it is blank.\n",
    "3. Some programs do not generate output files themselves, but instead require that empty files have already been generated. When the program is run, it searches for an existing file to populate with its output. The touch command allows you to efficiently generate a blank text file to be used by such programs."
   ]
  },
  {
   "cell_type": "markdown",
   "metadata": {
    "Collapsed": "false",
    "toc-hr-collapsed": false
   },
   "source": [
    "####  \n",
    "---"
   ]
  },
  {
   "cell_type": "markdown",
   "metadata": {
    "Collapsed": "false"
   },
   "source": [
    "Suppose that you created a `.txt` file in your current directory to contain a list of the statistical tests you will need to do to analyze your data, and named it: `statstics.txt`\n",
    "\n",
    "After creating and saving this file you realize you misspelled the filename! You want to correct the mistake, which of the following commands could you use to do so?\n",
    "\n",
    "1.    `cp statstics.txt statistics.txt`\n",
    "2.    `mv statstics.txt statistics.txt`\n",
    "3.    `mv statstics.txt .`\n",
    "4.    `cp statstics.txt .`"
   ]
  },
  {
   "cell_type": "markdown",
   "metadata": {
    "Collapsed": "true"
   },
   "source": [
    "##### **Solution**"
   ]
  },
  {
   "cell_type": "markdown",
   "metadata": {
    "Collapsed": "false"
   },
   "source": [
    "1. No. While this would create a file with the correct name, the incorrectly named file still exists in the directory and would need to be deleted.\n",
    "2. Yes, this would work to rename the file.\n",
    "3. No, the period(.) indicates where to move the file, but does not provide a new file name; identical file names cannot be created.\n",
    "4.   No, the period(.) indicates where to copy the file, but does not provide a new file name; identical file names cannot be created."
   ]
  },
  {
   "cell_type": "markdown",
   "metadata": {
    "Collapsed": "false"
   },
   "source": [
    "####  \n",
    "---"
   ]
  },
  {
   "cell_type": "markdown",
   "metadata": {
    "Collapsed": "false"
   },
   "source": [
    "What is the output of the closing `ls` command in the sequence shown below?\n",
    "\n",
    "```\n",
    "learner@casimir:~/data$ pwd\n",
    "/home/learner/data\n",
    "learner@casimir:~/data$ ls\n",
    "proteins.dat\n",
    "learner@casimir:~/data$ mkdir recombine\n",
    "learner@casimir:~/data$ mv proteins.dat recombine\n",
    "learner@casimir:~/data$ cp recombine/proteins.dat ../proteins-saved.dat\n",
    "learner@casimir:~/data$ ls\n",
    "```\n",
    "\n",
    "1.    `proteins-saved.dat recombine`\n",
    "2.    `recombine`\n",
    "3.    `proteins.dat recombine`\n",
    "4.    `proteins-saved.dat`"
   ]
  },
  {
   "cell_type": "markdown",
   "metadata": {
    "Collapsed": "true"
   },
   "source": [
    "##### **Solution**"
   ]
  },
  {
   "cell_type": "markdown",
   "metadata": {
    "Collapsed": "false"
   },
   "source": [
    "We start in the `/home/learner/data` directory, and create a new folder called recombine. The second line moves (`mv`) the file `proteins.dat` to the new folder (recombine). The third line makes a copy of the file we just moved. The tricky part here is where the file was copied to. Recall that `..` means “go up a level”, so the copied file is now in `/home/learner`. Notice that `..` is interpreted with respect to the current working directory, not with respect to the location of the file being copied. So, the only thing that will show using `ls` (in `/home/learner/data`) is the recombine folder.\n",
    "    \n",
    "\n",
    "1. No, see explanation above. `proteins-saved.dat` is located at `/home/learner`\n",
    "2. Yes.\n",
    "3. No, see explanation above. `proteins.dat` is located at `/home/learner/data/recombine`\n",
    "4. No, see explanation above. `proteins-saved.dat` is located at `/home/learner`"
   ]
  },
  {
   "cell_type": "markdown",
   "metadata": {
    "Collapsed": "false"
   },
   "source": [
    "####  \n",
    "---"
   ]
  },
  {
   "cell_type": "markdown",
   "metadata": {
    "Collapsed": "false"
   },
   "source": [
    "You are working on a project and see that your files aren’t very well organized:\n",
    "\n",
    "```\n",
    "learner@casimir:~$ ls -F\n",
    "analyzed/  fructose.dat    raw/   sucrose.dat\n",
    "```\n",
    "\n",
    "The `fructose.dat` and `sucrose.dat` files contain output from your data analysis. What command(s) covered so far do you need to run so that the commands below will produce the output shown?\n",
    "\n",
    "```\n",
    "learner@casimir:~$ ls -F\n",
    "analyzed/   raw/\n",
    "learner@casimir:~$ ls -F ls analyzed\n",
    "fructose.dat    sucrose.dat\n",
    "```"
   ]
  },
  {
   "cell_type": "markdown",
   "metadata": {
    "Collapsed": "true"
   },
   "source": [
    "##### **Solution**"
   ]
  },
  {
   "cell_type": "markdown",
   "metadata": {
    "Collapsed": "false"
   },
   "source": [
    "`mv *.dat analyzed`\n",
    "\n",
    "You need to move your files `fructose.dat` and `sucrose.dat` to the `analyzed` directory. The shell will expand `*.dat` to match all `.dat` files in the current directory. The `mv` command then moves the list of `.dat `files to the `analyzed` directory."
   ]
  },
  {
   "cell_type": "markdown",
   "metadata": {
    "Collapsed": "false"
   },
   "source": [
    "####  \n",
    "---"
   ]
  },
  {
   "cell_type": "markdown",
   "metadata": {
    "Collapsed": "false"
   },
   "source": [
    "After running the following commands, you realize that you put the files `sucrose.dat` and `maltose.dat` into the wrong folder:\n",
    "\n",
    "```\n",
    "learner@casimir:~$ ls -F\n",
    "raw/ analyzed/\n",
    "learner@casimir:~$ ls -F analyzed\n",
    "fructose.dat glucose.dat maltose.dat sucrose.dat\n",
    "learner@casimir:~$ cd raw/\n",
    "```\n",
    "\n",
    "Fill in the blanks to move these files to the current folder (i.e., the one you are currently in):\n",
    "\n",
    "```\n",
    "learner@casimir:~/raw$ mv ___/sucrose.dat  ___/maltose.dat ___\n",
    "```"
   ]
  },
  {
   "cell_type": "markdown",
   "metadata": {
    "Collapsed": "true"
   },
   "source": [
    "##### **Solution**"
   ]
  },
  {
   "cell_type": "markdown",
   "metadata": {
    "Collapsed": "false"
   },
   "source": [
    "`mv ../analyzed/sucrose.dat ../analyzed/maltose.dat .`\n",
    "\n",
    "Recall that `..` refers to the parent directory (i.e. one above the current directory) and that `.` refers to the current directory."
   ]
  },
  {
   "cell_type": "markdown",
   "metadata": {
    "Collapsed": "false"
   },
   "source": [
    "# Advanced topics\n"
   ]
  },
  {
   "cell_type": "markdown",
   "metadata": {
    "Collapsed": "false"
   },
   "source": [
    "# Joining commands together"
   ]
  },
  {
   "cell_type": "markdown",
   "metadata": {
    "Collapsed": "false"
   },
   "source": [
    "Now that we know a few basic commands, we can finally look at the shell's most powerful feature: the ease with which it lets us combine existing programs in new ways.\n",
    "\n",
    "In the `sonnets` directory (next to this notebook) there is a collection of files containing the sonnets of William Shakespeare, which we will use in what follows."
   ]
  },
  {
   "cell_type": "markdown",
   "metadata": {
    "Collapsed": "false"
   },
   "source": [
    "```\n",
    "learner@casimir:~$ pwd\n",
    "/home/learner\n",
    "learner@casimir:~$ cp -r day2_morning/sonnets .\n",
    "learner@casimir:~$ cd sonnets\n",
    "learner@casimir:~/sonnets$ \n",
    "```\n"
   ]
  },
  {
   "cell_type": "markdown",
   "metadata": {
    "Collapsed": "false"
   },
   "source": [
    "In this directory there are a collection of files with names like `sonnet_001.txt` and `sonnet_124.txt`, each with the corresponding Shakespeare sonnet in them.\n",
    "\n",
    "We can use the `wc` (word count) command with the `-w` flag to get the number of words in each of these files:"
   ]
  },
  {
   "cell_type": "markdown",
   "metadata": {
    "Collapsed": "false"
   },
   "source": [
    "```\n",
    "learner@casimir:~/sonnets$ wc -w sonnet_*.txt\n",
    "  106 sonnet_001.txt\n",
    "  115 sonnet_002.txt\n",
    "  115 sonnet_003.txt\n",
    "  104 sonnet_004.txt\n",
    "  104 sonnet_005.txt\n",
    "  110 sonnet_006.txt\n",
    "  100 sonnet_007.txt\n",
    "  110 sonnet_008.txt\n",
    "  118 sonnet_009.txt\n",
    "  114 sonnet_010.txt\n",
    "  116 sonnet_011.txt\n",
    "  118 sonnet_012.txt\n",
    "  110 sonnet_013.txt\n",
    "  112 sonnet_014.txt\n",
    "  111 sonnet_015.txt\n",
    "  110 sonnet_016.txt\n",
    "  123 sonnet_017.txt\n",
    "  114 sonnet_018.txt\n",
    "  115 sonnet_019.txt\n",
    "  114 sonnet_020.txt\n",
    "  117 sonnet_021.txt\n",
    "  122 sonnet_022.txt\n",
    "  114 sonnet_023.txt\n",
    "  120 sonnet_024.txt\n",
    "  108 sonnet_025.txt\n",
    "  118 sonnet_026.txt\n",
    "  110 sonnet_027.txt\n",
    "  116 sonnet_028.txt\n",
    "  115 sonnet_029.txt\n",
    "  116 sonnet_030.txt\n",
    "  113 sonnet_031.txt\n",
    "  114 sonnet_032.txt\n",
    "  110 sonnet_033.txt\n",
    "  120 sonnet_034.txt\n",
    "  106 sonnet_035.txt\n",
    "  113 sonnet_036.txt\n",
    "  116 sonnet_037.txt\n",
    "  114 sonnet_038.txt\n",
    "  119 sonnet_039.txt\n",
    "  121 sonnet_040.txt\n",
    "  110 sonnet_041.txt\n",
    "  130 sonnet_042.txt\n",
    "  122 sonnet_043.txt\n",
    "  117 sonnet_044.txt\n",
    "  105 sonnet_045.txt\n",
    "  115 sonnet_046.txt\n",
    "  123 sonnet_047.txt\n",
    "  117 sonnet_048.txt\n",
    "  114 sonnet_049.txt\n",
    "  118 sonnet_050.txt\n",
    "  117 sonnet_051.txt\n",
    "  109 sonnet_052.txt\n",
    "  107 sonnet_053.txt\n",
    "  112 sonnet_054.txt\n",
    "  106 sonnet_055.txt\n",
    "  112 sonnet_056.txt\n",
    "  117 sonnet_057.txt\n",
    "  112 sonnet_058.txt\n",
    "  109 sonnet_059.txt\n",
    "  108 sonnet_060.txt\n",
    "  121 sonnet_061.txt\n",
    "  105 sonnet_062.txt\n",
    "  110 sonnet_063.txt\n",
    "  111 sonnet_064.txt\n",
    "  112 sonnet_065.txt\n",
    "   87 sonnet_066.txt\n",
    "  106 sonnet_067.txt\n",
    "  108 sonnet_068.txt\n",
    "  119 sonnet_069.txt\n",
    "  110 sonnet_070.txt\n",
    "  122 sonnet_071.txt\n",
    "  118 sonnet_072.txt\n",
    "  121 sonnet_073.txt\n",
    "  113 sonnet_074.txt\n",
    "  117 sonnet_075.txt\n",
    "  114 sonnet_076.txt\n",
    "  107 sonnet_077.txt\n",
    "  110 sonnet_078.txt\n",
    "  117 sonnet_079.txt\n",
    "  114 sonnet_080.txt\n",
    "  116 sonnet_081.txt\n",
    "  105 sonnet_082.txt\n",
    "  116 sonnet_083.txt\n",
    "  114 sonnet_084.txt\n",
    "  110 sonnet_085.txt\n",
    "  110 sonnet_086.txt\n",
    "  118 sonnet_087.txt\n",
    "  112 sonnet_088.txt\n",
    "  112 sonnet_089.txt\n",
    "  121 sonnet_090.txt\n",
    "  114 sonnet_091.txt\n",
    "  120 sonnet_092.txt\n",
    "  114 sonnet_093.txt\n",
    "  106 sonnet_094.txt\n",
    "  112 sonnet_095.txt\n",
    "  120 sonnet_096.txt\n",
    "  107 sonnet_097.txt\n",
    "  118 sonnet_098.txt\n",
    "  125 sonnet_099.txt\n",
    "  111 sonnet_100.txt\n",
    "  114 sonnet_101.txt\n",
    "  117 sonnet_102.txt\n",
    "  117 sonnet_103.txt\n",
    "  117 sonnet_104.txt\n",
    "  105 sonnet_105.txt\n",
    "  110 sonnet_106.txt\n",
    "  113 sonnet_107.txt\n",
    "  115 sonnet_108.txt\n",
    "  116 sonnet_109.txt\n",
    "  119 sonnet_110.txt\n",
    "  110 sonnet_111.txt\n",
    "  114 sonnet_112.txt\n",
    "  117 sonnet_113.txt\n",
    "  114 sonnet_114.txt\n",
    "  115 sonnet_115.txt\n",
    "  109 sonnet_116.txt\n",
    "  110 sonnet_117.txt\n",
    "  112 sonnet_118.txt\n",
    "  113 sonnet_119.txt\n",
    "  117 sonnet_120.txt\n",
    "  115 sonnet_121.txt\n",
    "  105 sonnet_122.txt\n",
    "  116 sonnet_123.txt\n",
    "  109 sonnet_124.txt\n",
    "  105 sonnet_125.txt\n",
    "   96 sonnet_126.txt\n",
    "  111 sonnet_127.txt\n",
    "  111 sonnet_128.txt\n",
    "  110 sonnet_129.txt\n",
    "  123 sonnet_130.txt\n",
    "  119 sonnet_131.txt\n",
    "  114 sonnet_132.txt\n",
    "  122 sonnet_133.txt\n",
    "  121 sonnet_134.txt\n",
    "  116 sonnet_135.txt\n",
    "  124 sonnet_136.txt\n",
    "  124 sonnet_137.txt\n",
    "  117 sonnet_138.txt\n",
    "  120 sonnet_139.txt\n",
    "  118 sonnet_140.txt\n",
    "  118 sonnet_141.txt\n",
    "  117 sonnet_142.txt\n",
    "  119 sonnet_143.txt\n",
    "  113 sonnet_144.txt\n",
    "   97 sonnet_145.txt\n",
    "  112 sonnet_146.txt\n",
    "  107 sonnet_147.txt\n",
    "  123 sonnet_148.txt\n",
    "  119 sonnet_149.txt\n",
    "  118 sonnet_150.txt\n",
    "  119 sonnet_151.txt\n",
    "  124 sonnet_152.txt\n",
    "  109 sonnet_153.txt\n",
    "  107 sonnet_154.txt\n",
    "17516 total\n",
    "```"
   ]
  },
  {
   "cell_type": "markdown",
   "metadata": {
    "Collapsed": "false"
   },
   "source": [
    "We used the *pattern* `sonnet_*.txt`, where the `*` is a *wildcard* that matches any number of characters, to match all the sonnet files. We did this to avoid counting the `LICENSE.txt` file.\n",
    "\n",
    "By default `wc` prints several pieces of information about each file it receives as argument: line, word and character counts. On the last line are the total lines, words and characters.\n",
    "\n",
    "\n",
    "This is a lot of output — it fills up more than one screen of text!"
   ]
  },
  {
   "cell_type": "markdown",
   "metadata": {
    "Collapsed": "false"
   },
   "source": [
    "### Output redirection"
   ]
  },
  {
   "cell_type": "markdown",
   "metadata": {
    "Collapsed": "false"
   },
   "source": [
    "We can *redirect* the output of the command to a file like so:\n",
    "\n",
    "\n",
    "```\n",
    "learner@casimir:~/sonnets$ wc -w sonnet_*.txt > word_counts.txt\n",
    "learner@casimir:~/sonnets$\n",
    "```"
   ]
  },
  {
   "cell_type": "markdown",
   "metadata": {
    "Collapsed": "false"
   },
   "source": [
    "the character `>` used in this way is interpreted specially by the shell. The filename to the right of the `>` indicates where the output of the command on the left of the `>` should go.  The shell will create the file if it doesn’t exist. If the file exists, it will be silently overwritten, which may lead to data loss and thus requires some caution. "
   ]
  },
  {
   "cell_type": "markdown",
   "metadata": {
    "Collapsed": "false"
   },
   "source": [
    "The sequence `>>` also has a special meaning. It means to redirect output (as with `>`), but to *append* to the file on the right, rather than to overwrite."
   ]
  },
  {
   "cell_type": "markdown",
   "metadata": {
    "Collapsed": "false"
   },
   "source": [
    "Imagine now that we wanted to find which sonnet has the most words in it. Sure we can manually inspect `word_counts.txt`, but surely there's a better way?\n",
    "\n",
    "There is a command called `sort` that we can use to sort the lines of `word_counts.txt`. The `-n` flag to `sort` specifies that we should compare lines by interpreting them as integers."
   ]
  },
  {
   "cell_type": "markdown",
   "metadata": {
    "Collapsed": "false"
   },
   "source": [
    "```\n",
    "learner@casimir:~/sonnets$ sort -n word_counts.txt > sorted_word_counts.txt\n",
    "learner@casimir:~/sonnets$\n",
    "```"
   ]
  },
  {
   "cell_type": "markdown",
   "metadata": {
    "Collapsed": "false"
   },
   "source": [
    "Then we can use the `tail` command to print only the last few lines of `sorted_word_counts.txt`"
   ]
  },
  {
   "cell_type": "markdown",
   "metadata": {
    "Collapsed": "false"
   },
   "source": [
    "```\n",
    "learner@casimir:~/sonnets$ tail sorted_word_counts.txt \n",
    "  123 sonnet_017.txt\n",
    "  123 sonnet_047.txt\n",
    "  123 sonnet_130.txt\n",
    "  123 sonnet_148.txt\n",
    "  124 sonnet_136.txt\n",
    "  124 sonnet_137.txt\n",
    "  124 sonnet_152.txt\n",
    "  125 sonnet_099.txt\n",
    "  130 sonnet_042.txt\n",
    "17516 total\n",
    "learner@casimir:~/sonnets$ \n",
    "```"
   ]
  },
  {
   "cell_type": "markdown",
   "metadata": {
    "Collapsed": "false"
   },
   "source": [
    "### Pipes"
   ]
  },
  {
   "cell_type": "markdown",
   "metadata": {
    "Collapsed": "false"
   },
   "source": [
    "This is all very well, but somewhat cumbersome if we don't want to keep all these intermediate files around.\n",
    "\n",
    "We can do this more succinctly by running `sort` and `tail` together:"
   ]
  },
  {
   "cell_type": "markdown",
   "metadata": {
    "Collapsed": "false"
   },
   "source": [
    "```\n",
    "learner@casimir:~/sonnets$ sort -n word_counts.txt | tail\n",
    "  123 sonnet_017.txt\n",
    "  123 sonnet_047.txt\n",
    "  123 sonnet_130.txt\n",
    "  123 sonnet_148.txt\n",
    "  124 sonnet_136.txt\n",
    "  124 sonnet_137.txt\n",
    "  124 sonnet_152.txt\n",
    "  125 sonnet_099.txt\n",
    "  130 sonnet_042.txt\n",
    "17516 total\n",
    "learner@casimir:~/sonnets$ \n",
    "```"
   ]
  },
  {
   "cell_type": "markdown",
   "metadata": {
    "Collapsed": "false"
   },
   "source": [
    "The vertical bar, `|`, between the two commands is called a *pipe*. It tells the shell that we want to use the output of the command on the left as the input to the command on the right."
   ]
  },
  {
   "cell_type": "markdown",
   "metadata": {
    "Collapsed": "false"
   },
   "source": [
    "We are, of course, not limited to using a single pipe in a command, so we can also pipe the input of `wc` into `sort`, and then the output of `sort` into `tail`:"
   ]
  },
  {
   "cell_type": "markdown",
   "metadata": {
    "Collapsed": "false"
   },
   "source": [
    "```\n",
    "learner@casimir:~/sonnets$ wc -w sonnet_*.txt | sort -n | tail\n",
    "  123 sonnet_017.txt\n",
    "  123 sonnet_047.txt\n",
    "  123 sonnet_130.txt\n",
    "  123 sonnet_148.txt\n",
    "  124 sonnet_136.txt\n",
    "  124 sonnet_137.txt\n",
    "  124 sonnet_152.txt\n",
    "  125 sonnet_099.txt\n",
    "  130 sonnet_042.txt\n",
    "17516 total\n",
    "```"
   ]
  },
  {
   "cell_type": "markdown",
   "metadata": {
    "Collapsed": "false"
   },
   "source": [
    "### What is actually going on"
   ]
  },
  {
   "cell_type": "markdown",
   "metadata": {
    "Collapsed": "false"
   },
   "source": [
    "Here's what actually happens behind the scenes when we create a pipe. When a computer runs a program — any program — it creates a *process* in memory to hold the program's software and its current state. Every process has an input channel called *standard input*. (By this point, you may be surprised that the name is so memorable, but don't worry: most programmers call it `stdin`). Every process also has a default output channel called *standard output* (or `stdout`). A second output channel called *standard error* (`stderr`) also exists. This channel is typically used for error or diagnostic messages, and it allows a user to pipe the output of one program into another while still receiving error messages in the terminal.\n",
    "\n",
    "The shell is actually just another program. Under normal circumstances, whatever we type on the keyboard is sent to the shell on its standard input, and whatever it produces on standard output is displayed on our screen. When we tell the shell to run a program, it creates a new process and temporarily sends whatever we type on our keyboard to that process’s standard input, and whatever the process sends to standard output to the screen.\n",
    "\n",
    "Here’s what happens when we run `wc -l sonnet_*./txt > word_counts.txt`. The shell starts by telling the computer to create a new process to run the `wc` program. Since we've provided some filenames as arguments, `wc` reads from them instead of from standard input. And since we’ve used `>` to redirect output to a file, the shell connects the process’s standard output to that file.\n",
    "\n",
    "If we run `wc -l sonnet_*.txt | sort -n` instead, the shell creates two processes (one for each process in the pipe) so that `wc` and `sort` run *simultaneously*. The standard output of wc is fed directly to the standard input of sort; since there’s no redirection with `>`, `sort`'s output goes to the screen. And if we run `wc -l sonnet_*.txt | sort -n | tail`, we get three processes with data flowing from the files, through `wc` to `sort`, and from `sort` through `tail` to the screen."
   ]
  },
  {
   "cell_type": "markdown",
   "metadata": {
    "Collapsed": "false"
   },
   "source": [
    "<img src=\"images/pipes.svg\" width=60%></img>"
   ]
  },
  {
   "cell_type": "markdown",
   "metadata": {
    "Collapsed": "false"
   },
   "source": [
    "### ✓ Check Questions"
   ]
  },
  {
   "cell_type": "markdown",
   "metadata": {
    "Collapsed": "false"
   },
   "source": [
    "####  \n",
    "---"
   ]
  },
  {
   "cell_type": "markdown",
   "metadata": {
    "Collapsed": "false"
   },
   "source": [
    "What is the difference between:\n",
    "\n",
    "```\n",
    "learner@casimir:~$ echo hello > testfile01.txt\n",
    "```\n",
    "\n",
    "and:\n",
    "\n",
    "```\n",
    "learner@casimir:~$ echo hello >> testfile02.txt\n",
    "```\n",
    "\n",
    "Hint: Try executing each command twice in a row and then examining the output files."
   ]
  },
  {
   "cell_type": "markdown",
   "metadata": {
    "Collapsed": "false"
   },
   "source": [
    "##### **Solution**"
   ]
  },
  {
   "cell_type": "markdown",
   "metadata": {
    "Collapsed": "false"
   },
   "source": [
    "The first command (wtih `>`) *overwrites* any content in `testfile01.txt`, whereas the second command (with `>>`)\n",
    "*appends* to the existing content of `testfile02.txt`."
   ]
  },
  {
   "cell_type": "markdown",
   "metadata": {
    "Collapsed": "false"
   },
   "source": [
    "####  \n",
    "---"
   ]
  },
  {
   "cell_type": "markdown",
   "metadata": {
    "Collapsed": "false"
   },
   "source": [
    "In our current directory, we want to find the 3 files which have the least number of lines. Which command listed below would work?\n",
    "\n",
    "1.    `wc -l * > sort -n > head -n 3`\n",
    "2.    `wc -l * | sort -n | head -n 1-3`\n",
    "3.    `wc -l * | head -n 3 | sort -n`\n",
    "4.    `wc -l * | sort -n | head -n 3`"
   ]
  },
  {
   "cell_type": "markdown",
   "metadata": {
    "Collapsed": "true"
   },
   "source": [
    "##### **Solution**"
   ]
  },
  {
   "cell_type": "markdown",
   "metadata": {
    "Collapsed": "false"
   },
   "source": [
    "Option 4 is the solution. The pipe character `|` is used to feed the standard output from one process to the standard input of another. `>` is used to redirect standard output to a file.\n"
   ]
  },
  {
   "cell_type": "markdown",
   "metadata": {
    "Collapsed": "false"
   },
   "source": [
    "####  \n",
    "---"
   ]
  },
  {
   "cell_type": "markdown",
   "metadata": {
    "Collapsed": "false"
   },
   "source": [
    "A file called `animals.txt` contains the following data:\n",
    "\n",
    "```\n",
    "2012-11-05,deer\n",
    "2012-11-05,rabbit\n",
    "2012-11-05,raccoon\n",
    "2012-11-06,rabbit\n",
    "2012-11-06,deer\n",
    "2012-11-06,fox\n",
    "2012-11-07,rabbit\n",
    "2012-11-07,bear\n",
    "```\n",
    "\n",
    "What text passes through each of the pipes and the final redirect in the pipeline below?\n",
    "\n",
    "```\n",
    "learner@casimir:~$ cat animals.txt | head -n 5 | tail -n 3 | sort -r > final.txt\n",
    "```\n",
    "\n",
    "Hint: build the pipeline up one command at a time to test your understanding."
   ]
  },
  {
   "cell_type": "markdown",
   "metadata": {
    "Collapsed": "true"
   },
   "source": [
    "##### **Solution**"
   ]
  },
  {
   "cell_type": "markdown",
   "metadata": {
    "Collapsed": "false"
   },
   "source": [
    "The contents of `animals.txt` passes verbatim through the first pipe:\n",
    "\n",
    "```\n",
    "2012-11-05,deer\n",
    "2012-11-05,rabbit\n",
    "2012-11-05,raccoon\n",
    "2012-11-06,rabbit\n",
    "2012-11-06,deer\n",
    "2012-11-06,fox\n",
    "2012-11-07,rabbit\n",
    "2012-11-07,bear\n",
    "```\n",
    "\n",
    "Only the first 5 lines passes through the second pipe:\n",
    "\n",
    "```\n",
    "2012-11-05,deer\n",
    "2012-11-05,rabbit\n",
    "2012-11-05,raccoon\n",
    "2012-11-06,rabbit\n",
    "2012-11-06,deer\n",
    "```\n",
    "\n",
    "The last 3 lines of the first 5 lines (i.e. lines 3, 4, and 5) pass through the third pipe:\n",
    "\n",
    "```\n",
    "2012-11-05,raccoon\n",
    "2012-11-06,rabbit\n",
    "2012-11-06,deer\n",
    "```\n",
    "\n",
    "The last command sorts the lines in reverse lexicographic ordering:\n",
    "\n",
    "```\n",
    "2012-11-06,rabbit\n",
    "2012-11-06,deer\n",
    "2012-11-05,raccoon\n",
    "```\n",
    "\n",
    "And writes this into the file `final.txt`."
   ]
  },
  {
   "cell_type": "markdown",
   "metadata": {
    "Collapsed": "false"
   },
   "source": [
    "# Writing CLI programs"
   ]
  },
  {
   "cell_type": "markdown",
   "metadata": {
    "Collapsed": "false"
   },
   "source": [
    "So far we have used commands that are already installed on our system. Because the shell is a general purpose tool for launching programs, it should come as no surprise that it is also possible to write your own programs, with which you can interact from the shell."
   ]
  },
  {
   "cell_type": "markdown",
   "metadata": {
    "Collapsed": "false"
   },
   "source": [
    "### Shell scripts"
   ]
  },
  {
   "cell_type": "markdown",
   "metadata": {
    "Collapsed": "false"
   },
   "source": [
    "The simplest way to write such a program is just to put a bunch of shell commands into a file, one per line:"
   ]
  },
  {
   "cell_type": "markdown",
   "metadata": {
    "Collapsed": "false"
   },
   "source": [
    "```\n",
    "echo \"The longest of the Shakespeare sonnets are:\"\n",
    "\n",
    "# print the 4 longest Shakespeare sonnets, and a summary line about all the sonnets\n",
    "wc -l sonnet_*.txt | sort -n | tail -5\n",
    "```"
   ]
  },
  {
   "cell_type": "markdown",
   "metadata": {
    "Collapsed": "false"
   },
   "source": [
    "We name this file `commands.sh`, and we can run the commands using the `bash` command (we get the shell to call an instance of itself):"
   ]
  },
  {
   "cell_type": "markdown",
   "metadata": {
    "Collapsed": "false"
   },
   "source": [
    "```\n",
    "learner@casimir:~/sonnets$ bash commands.sh \n",
    "The longest of the Shakespeare sonnets are:\n",
    "   13 sonnet_152.txt\n",
    "   13 sonnet_153.txt\n",
    "   13 sonnet_154.txt\n",
    "   14 sonnet_099.txt\n",
    " 2001 total\n",
    "learner@casimir:~/sonnets$ \n",
    "```"
   ]
  },
  {
   "cell_type": "markdown",
   "metadata": {
    "Collapsed": "false"
   },
   "source": [
    "In the above we explicitly said that we wanted the `bash` program to interpret and execute the commands contained in the `commands.sh` file.\n",
    "\n",
    "This is all very well, but what if we give this script to somebody else? We have to also tell them that they need to run it by providing it as an argument to `bash`. Is there a better way?\n",
    "\n",
    "It turns out there is. When you execute a command in the shell, the shell will look for a file with that name, will open it and will attempt to interpret what is inside. Commands such as `ls` are binary files that the shell can ask the operating system to execute directly, however the shell can also interpret text files.\n",
    "\n",
    "If the first line of a program file starts with the special character sequence `#!` (pronounced \"shebang\"), followed by the path to *another* program, the shell will attempt to use *that* program to interpret and execute the contents of *this* program, by passing the remaining contents of the program file on the standard input of the program specified after the shebang.\n",
    "\n",
    "We should thus modify our script to be:"
   ]
  },
  {
   "cell_type": "markdown",
   "metadata": {
    "Collapsed": "false"
   },
   "source": [
    "```\n",
    "#!/bin/bash\n",
    "\n",
    "echo \"The longest of the Shakespeare sonnets are:\"\n",
    "\n",
    "# print the 4 longest Shakespeare sonnets, and a summary line about all the sonnets\n",
    "wc -l sonnet_*.txt | sort -n | tail -5\n",
    "```"
   ]
  },
  {
   "cell_type": "markdown",
   "metadata": {
    "Collapsed": "false"
   },
   "source": [
    "We can now run our script just by executing the command `./commands.sh`.\n",
    "\n",
    "We need the leading `./` to tell the shell to look in the current directory for the program; by default the shell looks in several special places (such as `/bin` and `/usr/bin`) for programs, but *not* in the current working directory."
   ]
  },
  {
   "cell_type": "markdown",
   "metadata": {
    "Collapsed": "false"
   },
   "source": [
    "```\n",
    "learner@casimir:~/sonnets$ ./commands.sh\n",
    "-bash: ./commands.sh: Permission denied\n",
    "```"
   ]
  },
  {
   "cell_type": "markdown",
   "metadata": {
    "Collapsed": "false"
   },
   "source": [
    "An error! the shell told us that we do not have permission to execute `commands.sh`. Why is this?"
   ]
  },
  {
   "cell_type": "markdown",
   "metadata": {
    "Collapsed": "false"
   },
   "source": [
    "## Permissions"
   ]
  },
  {
   "cell_type": "markdown",
   "metadata": {
    "Collapsed": "false"
   },
   "source": [
    "Every file and directory has a certain set of *permissions* associated with it. We can inspect these permissions using `ls` with the `-l` flag"
   ]
  },
  {
   "cell_type": "markdown",
   "metadata": {
    "Collapsed": "false"
   },
   "source": [
    "```\n",
    "learner@casimir:~/sonnets$ ls -l commands.sh\n",
    "-rw-r--r-- 1 learner users 188 Nov  4 12:54 commands.sh\n",
    "```"
   ]
  },
  {
   "cell_type": "markdown",
   "metadata": {
    "Collapsed": "false"
   },
   "source": [
    "<img src=\"images/ls_output.svg\" width=80%></img>"
   ]
  },
  {
   "cell_type": "markdown",
   "metadata": {
    "Collapsed": "false"
   },
   "source": [
    "---"
   ]
  },
  {
   "cell_type": "markdown",
   "metadata": {
    "Collapsed": "false"
   },
   "source": [
    "<img src=\"images/permissions.svg\" width=45%></img>"
   ]
  },
  {
   "cell_type": "markdown",
   "metadata": {
    "Collapsed": "false"
   },
   "source": [
    "So we cannot execute `commands.sh` because we have not set the `x` permission.\n",
    "\n",
    "We can do so with the `chmod` command:"
   ]
  },
  {
   "cell_type": "markdown",
   "metadata": {
    "Collapsed": "false"
   },
   "source": [
    "```\n",
    "learner@casimir:~/sonnets$ chmod +x commands.sh \n",
    "learner@casimir:~/sonnets$ ls -l commands.sh \n",
    "-rwxr-xr-x 1 learner users 188 Nov  4 12:54 commands.sh\n",
    "learner@casimir:~/sonnets$ \n",
    "```"
   ]
  },
  {
   "cell_type": "markdown",
   "metadata": {
    "Collapsed": "false"
   },
   "source": [
    "We just gave the owner user, users in the file's group and everyone else permission  to execute `commands.sh`.\n",
    "\n",
    "Now we can execute `commands.sh` directly:"
   ]
  },
  {
   "cell_type": "markdown",
   "metadata": {
    "Collapsed": "false"
   },
   "source": [
    "```\n",
    "learner@casimir:~/sonnets$ ./commands.sh \n",
    "The longest of the Shakespeare sonnets are:\n",
    "   13 sonnet_152.txt\n",
    "   13 sonnet_153.txt\n",
    "   13 sonnet_154.txt\n",
    "   14 sonnet_099.txt\n",
    " 2001 total\n",
    "learner@casimir:~/sonnets$ \n",
    "```"
   ]
  },
  {
   "cell_type": "markdown",
   "metadata": {
    "Collapsed": "false"
   },
   "source": [
    "## Python scripts"
   ]
  },
  {
   "cell_type": "markdown",
   "metadata": {
    "Collapsed": "false"
   },
   "source": [
    "In the above we provided `/bin/bash` as the interpreter for our shell script in the shebang line.\n",
    "\n",
    "Similarly, we can provide `python` as an interpreter for our python scripts, if we wish to invoke them directly from the command line.\n",
    "\n",
    "In the computational environment provided for this course, the python interpreter is found at `/opt/conda/bin/python`,\n",
    "so our shebang line for Python scripts should be:\n",
    "\n",
    "```\n",
    "#!/opt/conda/bin/python\n",
    "```"
   ]
  },
  {
   "cell_type": "markdown",
   "metadata": {
    "Collapsed": "false"
   },
   "source": [
    "Let's try and make a poor-man's clone of the `echo` command in Python.\n",
    "\n",
    "The Python `sys` module has a property called `argv`, which is a list of arguments that were provided to the script on the command line. `echo` just takes its arguments and prints them to `stdout`, so in Python we could implement this as:"
   ]
  },
  {
   "cell_type": "markdown",
   "metadata": {
    "Collapsed": "false"
   },
   "source": [
    "```\n",
    "#!/opt/conda/bin/python\n",
    "\n",
    "import sys\n",
    "\n",
    "# remove the program name from 'argv'\n",
    "arguments = sys.argv[1:]\n",
    "\n",
    "print(' '.join(arguments))\n",
    "```"
   ]
  },
  {
   "cell_type": "markdown",
   "metadata": {
    "Collapsed": "false"
   },
   "source": [
    "We can save this as `echo.py`, add execute permissions with `chmod`, and run it:"
   ]
  },
  {
   "cell_type": "markdown",
   "metadata": {
    "Collapsed": "false"
   },
   "source": [
    "```\n",
    "learner@casimir:~$ ./echo.py hello world\n",
    "hello world\n",
    "```"
   ]
  },
  {
   "cell_type": "markdown",
   "metadata": {
    "Collapsed": "false"
   },
   "source": [
    "---\n",
    "\n"
   ]
  },
  {
   "cell_type": "markdown",
   "metadata": {
    "Collapsed": "false"
   },
   "source": [
    "### Python or Bash?"
   ]
  },
  {
   "cell_type": "markdown",
   "metadata": {
    "Collapsed": "false"
   },
   "source": [
    "Now we've seen how you can make scripts in Bash and Python that you can run from the command line.\n",
    "\n",
    "If you just need to chain a few shell commands together, a Bash script is probably the simplest way to do this.\n",
    "\n",
    "If, however, you find yourself needing more complicated logic (conditionals and loops) we **strongly recommend** to write a Python script to do the job for you. While `if` and `for` are possible from the shell, they are very unintuitive and difficult to write in a robust way.\n",
    "\n",
    "The [`os`](https://docs.python.org/3/library/os.html) and [`shutil`](https://docs.python.org/3/library/shutil.html) modules in the Python standard library provide shell-like functionality for manipulating files and changing directory.\n",
    "If you ever find that you really need to call a shell command, you can use the [`subprocess`](https://docs.python.org/3/library/subprocess.html) module and parse the command output."
   ]
  },
  {
   "cell_type": "markdown",
   "metadata": {
    "Collapsed": "false"
   },
   "source": [
    "### Making a better CLI for `echo.py` "
   ]
  },
  {
   "cell_type": "markdown",
   "metadata": {
    "Collapsed": "false"
   },
   "source": [
    "`echo.py` as it is written does not provide a very good CLI. Notably it does not have any documentation accessible from the command line:"
   ]
  },
  {
   "cell_type": "markdown",
   "metadata": {
    "Collapsed": "false"
   },
   "source": [
    "```\n",
    "learner@casimir:~$ ./echo.py --help\n",
    "--help\n",
    "learner@casimir:~$ \n",
    "```"
   ]
  },
  {
   "cell_type": "markdown",
   "metadata": {
    "Collapsed": "false"
   },
   "source": [
    "This means that anyone who merely wants to *use* our script will need to go digging round in the source code.\n",
    "\n",
    "The `argparse` module in the Python standard library provides tools for making nice CLIs:"
   ]
  },
  {
   "cell_type": "markdown",
   "metadata": {
    "Collapsed": "false"
   },
   "source": [
    "```\n",
    "#!/opt/conda/bin/python\n",
    "\n",
    "import argparse\n",
    "\n",
    "parser = argparse.ArgumentParser(description='Echo arguments to stdout')\n",
    "parser.add_argument('word', nargs='*', help=\"word to print\")\n",
    "\n",
    "args = parser.parse_args()\n",
    "\n",
    "print(' '.join(args.word))\n",
    "```"
   ]
  },
  {
   "cell_type": "markdown",
   "metadata": {
    "Collapsed": "false"
   },
   "source": [
    "It gives you things like automatic help-page generation:"
   ]
  },
  {
   "cell_type": "markdown",
   "metadata": {
    "Collapsed": "false"
   },
   "source": [
    "```\n",
    "learner@casimir:~$ ./echo.py --help\n",
    "usage: echo.py [-h] [word [word ...]]\n",
    "\n",
    "Echo arguments to stdout\n",
    "\n",
    "positional arguments:\n",
    "  word        word to print\n",
    "\n",
    "optional arguments:\n",
    "  -h, --help  show this help message and exit\n",
    "learner@casimir:~$ \n",
    "```"
   ]
  },
  {
   "cell_type": "markdown",
   "metadata": {
    "Collapsed": "false"
   },
   "source": [
    "And reasonable error messages if an unrecognized argument is provided:"
   ]
  },
  {
   "cell_type": "markdown",
   "metadata": {
    "Collapsed": "false"
   },
   "source": [
    "```\n",
    "learner@casimir:~$ ./echo.py --options\n",
    "usage: echo.py [-h] [word [word ...]]\n",
    "echo.py: error: unrecognized arguments: --options\n",
    "learner@casimir:~$\n",
    "```"
   ]
  },
  {
   "cell_type": "markdown",
   "metadata": {
    "Collapsed": "false"
   },
   "source": [
    "## ✓ Check questions"
   ]
  },
  {
   "cell_type": "markdown",
   "metadata": {
    "Collapsed": "false"
   },
   "source": [
    "Explain how each of the following commands differ:\n",
    "\n",
    "1. `python ./echo.py`\n",
    "2. `./echo.py`\n",
    "3. `cat echo.py | python`\n",
    "4. `python < echo.py`"
   ]
  },
  {
   "cell_type": "markdown",
   "metadata": {
    "Collapsed": "true"
   },
   "source": [
    "##### **Solutions**"
   ]
  },
  {
   "cell_type": "markdown",
   "metadata": {
    "Collapsed": "false"
   },
   "source": [
    "1. The `python` command is launched with a single argument, `./echo.py`. `python` treats its first argument as the path to a file. `python` then opens the file `./echo.py`, reads, and interprets the contents as Python code\n",
    "2. The shell opens the file `./echo.py` and reads the first line. It sees that there is a valid shebang line, and runs the program specified there (`/opt/conta/bin/python`). It then passes the rest of the contents of `./echo.py` on the `stdin` stream of the new Python process it just launched.\n",
    "3. The shell runs the `cat` and `python` commands simultaneously, and attaches the `stdout` stream of `cat` to the `stdin` stream of `python`. `cat` prints the contents of the file provided as argument to its `stdout` stream. The file contents are then provided to `python` on its `stdin` stream. `python` then interprets and executes the contents as Python code.\n",
    "4. The shell opens the `echo.py` file and puts the contents into the `stdin` stream of the `python` command. `python` then interprets and executes the contents as Python code."
   ]
  },
  {
   "cell_type": "markdown",
   "metadata": {
    "Collapsed": "false"
   },
   "source": [
    "# Installing software"
   ]
  },
  {
   "cell_type": "markdown",
   "metadata": {
    "Collapsed": "false"
   },
   "source": [
    "Now we know how to run existing software from the command line and how to write our own command-line driven software. In this section we will cover the basics of installing software from the command line.\n",
    "\n",
    "This is the bare minimum of what will be required for this course, we will not cover installing software from source code distributions etc."
   ]
  },
  {
   "cell_type": "markdown",
   "metadata": {
    "Collapsed": "false"
   },
   "source": [
    "## Installing Python packages"
   ]
  },
  {
   "cell_type": "markdown",
   "metadata": {
    "Collapsed": "false"
   },
   "source": [
    "There are 2 tools that you need to be aware of for installing Python packages onto your computer: `pip` and `conda`.\n",
    "\n",
    "`pip` is the official Python package manager, and comes installed by default with all distributions of Python. It downloads and installs packages from PyPI (Python Package Index): https://pypi.python.org\n",
    "\n",
    "`conda` is the package manager for the Anaconda Python distribution (which we are using for this course). It downloads and installs packages from the Anaconda website:  https://repo.continuum.io/pkgs/\n",
    "\n",
    "Anyone who distributes their Python package will (in the overwhelmingly majority of cases) first put it on PyPI, as this is the place that is visible to and known by the most people. For this reason PyPI can be considered the \"canonical\" place to get the most up to date versions of packages.\n",
    "\n",
    "The caveat to this is that PyPI and `pip` do not know anything about dependencies *external to the Python ecosystem*. This means that if the Python package that you want to use depends on some external library not written in python, then you will need to install this yourself by some other means (see below). `conda`, on the other hand, *does* have non-Python packages. The disadvantage of `conda` is that not all packages available on PyPI will have corresponding `conda` packages, or the `conda` packages available may not be up to date with the latest version available on PyPI.\n",
    "\n",
    "To make the situation even *more* complicated, somtimes packages on PyPI will come with the non-Python dependencies already linked (i.e. things will \"just work\"). This is typical of the more widely used packages, which are looking for a smoother user experience (e.g. [opencv](https://pypi.python.org/pypi/opencv-python) and [ZeroMQ](https://pypi.python.org/pypi/pyzmq/)).\n",
    "\n",
    "\n",
    "If you think all this is insane, you are in good company."
   ]
  },
  {
   "cell_type": "markdown",
   "metadata": {
    "Collapsed": "false"
   },
   "source": [
    "#### TL; DR"
   ]
  },
  {
   "cell_type": "markdown",
   "metadata": {
    "Collapsed": "false"
   },
   "source": [
    "For the purposes of this course you can just find a package by searching [PyPI](https://pypi.python.org) to find the package name you want, and then\n",
    "```\n",
    "pip install my-sweet-package\n",
    "```"
   ]
  },
  {
   "cell_type": "markdown",
   "metadata": {
    "Collapsed": "false"
   },
   "source": [
    "## Installing other packages"
   ]
  },
  {
   "cell_type": "markdown",
   "metadata": {
    "Collapsed": "false"
   },
   "source": [
    "All Linux distros come with a *package manager* pre-installed. There are also package managers for OSX and Windows, but they will probably be less-used: https://en.wikipedia.org/wiki/List_of_software_package_management_systems\n",
    "\n",
    "The package manager handles installing and updating all the programs and libraries on the computer, taking into account all the dependencies.\n",
    "\n",
    "Package managers do typically have many Python packages in their repositories, but due to the typically long vetting procedure and release schedule, they often only have out of date versions. This is why we recommend to use `pip` or `conda` to install your Python packages.\n",
    "\n",
    "You will need to use the distribution's package manager for everything else. In this course we have an environment based on Ubuntu 16.04, which uses the `apt` package manager. There is an exhaustive list of packages available online: https://packages.ubuntu.com/xenial/"
   ]
  },
  {
   "cell_type": "markdown",
   "metadata": {
    "Collapsed": "false"
   },
   "source": [
    "To install a package `my-sweet-package` we say\n",
    "\n",
    "```\n",
    "apt-get install my-sweet-package\n",
    "```"
   ]
  },
  {
   "cell_type": "markdown",
   "metadata": {
    "Collapsed": "false"
   },
   "source": [
    "Running this produces the following:\n",
    "\n",
    "```\n",
    "learner@casimir:~$ apt-get install my-sweet-package\n",
    "E: Could not open lock file /var/lib/dpkg/lock - open (13: Permission denied)\n",
    "E: Unable to lock the administration directory (/var/lib/dpkg/), are you root?\n",
    "```"
   ]
  },
  {
   "cell_type": "markdown",
   "metadata": {
    "Collapsed": "false"
   },
   "source": [
    "`apt-get` complains that it cannot install the package because we do not have sufficient permissions. This is because we are running `apt-get` as our regular user, `learner`, who does not have write permissions on the directories into which `apt-get` wants to install things.\n",
    "\n",
    "We can use the `sudo` command to execute things as the super user, `root`:"
   ]
  },
  {
   "cell_type": "markdown",
   "metadata": {
    "Collapsed": "false"
   },
   "source": [
    "```\n",
    "sudo apt-get install my-sweet-package\n",
    "```"
   ]
  },
  {
   "cell_type": "markdown",
   "metadata": {
    "Collapsed": "false"
   },
   "source": [
    "The first argument to `sudo` is the command to run as `root`, and the remaining arguments are passed to that command."
   ]
  }
 ],
 "metadata": {
  "kernelspec": {
   "display_name": "Python 3",
   "language": "python",
   "name": "python3"
  },
  "language_info": {
   "codemirror_mode": {
    "name": "ipython",
    "version": 3
   },
   "file_extension": ".py",
   "mimetype": "text/x-python",
   "name": "python",
   "nbconvert_exporter": "python",
   "pygments_lexer": "ipython3",
   "version": "3.7.3"
  }
 },
 "nbformat": 4,
 "nbformat_minor": 4
}
