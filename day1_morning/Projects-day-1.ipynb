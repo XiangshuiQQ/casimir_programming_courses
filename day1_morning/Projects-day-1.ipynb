{
 "cells": [
  {
   "cell_type": "markdown",
   "metadata": {
    "Collapsed": "false"
   },
   "source": [
    "# List of projects for day 1"
   ]
  },
  {
   "cell_type": "markdown",
   "metadata": {
    "Collapsed": "false"
   },
   "source": [
    "## 1. Basic exercises\n",
    "\n",
    "#### <font color='darkred'>Level: Beginner<font color='black'>"
   ]
  },
  {
   "cell_type": "markdown",
   "metadata": {
    "Collapsed": "false"
   },
   "source": [
    "Here are some very basic exercises for the fundamentals of python"
   ]
  },
  {
   "cell_type": "markdown",
   "metadata": {
    "Collapsed": "false"
   },
   "source": [
    "### Play with the notebook"
   ]
  },
  {
   "cell_type": "markdown",
   "metadata": {
    "Collapsed": "false"
   },
   "source": [
    "Take the notebook used for the introduction top python and play with the examples."
   ]
  },
  {
   "cell_type": "markdown",
   "metadata": {
    "Collapsed": "false"
   },
   "source": [
    "### Lists and loops"
   ]
  },
  {
   "cell_type": "markdown",
   "metadata": {
    "Collapsed": "false"
   },
   "source": [
    "#### Write code for printing out a multiplcation table in the form\n",
    "  \n",
    "  ```\n",
    "   Multiplication table for 3:\n",
    "   1 x 3 = 3\n",
    "   2 x 3 = 6\n",
    "   ...\n",
    "   ```"
   ]
  },
  {
   "cell_type": "code",
   "execution_count": 74,
   "metadata": {
    "Collapsed": "false"
   },
   "outputs": [
    {
     "name": "stdout",
     "output_type": "stream",
     "text": [
      "3\n",
      "6\n",
      "9\n",
      "12\n",
      "15\n"
     ]
    }
   ],
   "source": [
    "for j in range (1,6):\n",
    "    i = j+1\n",
    "    print (j*3)\n",
    "    \n",
    "    "
   ]
  },
  {
   "cell_type": "markdown",
   "metadata": {
    "Collapsed": "true"
   },
   "source": [
    "##### **Solution**"
   ]
  },
  {
   "cell_type": "code",
   "execution_count": null,
   "metadata": {
    "Collapsed": "false"
   },
   "outputs": [],
   "source": [
    "def print_multiplication_table(n, max_multiplier=12):\n",
    "    print('Multiplication table for', n)\n",
    "    for i in range(1, max_multiplier + 1):\n",
    "        print(i, 'x', n, '=', i * n)\n",
    "        \n",
    "print_multiplication_table(3)"
   ]
  },
  {
   "cell_type": "markdown",
   "metadata": {
    "Collapsed": "false"
   },
   "source": [
    "#### Fill a list with numbers from 0 to 10 (including 10). Write another loop to add up all the numbers in the list "
   ]
  },
  {
   "cell_type": "code",
   "execution_count": 106,
   "metadata": {
    "Collapsed": "false"
   },
   "outputs": [
    {
     "name": "stdout",
     "output_type": "stream",
     "text": [
      "1\n",
      "0.0\n"
     ]
    }
   ],
   "source": [
    "def Multiply(n):\n",
    "    m = n*(n-1)/2\n",
    "    print (m)\n",
    "Mply = Multiply\n",
    "list = [0, 1, 2, 3, 4, 5, 6, 7, 8, 9, 10]\n",
    "n = list.count(1)\n",
    "print (n)\n",
    "Mply (n)\n",
    "        \n",
    "        \n",
    "\n",
    "        \n",
    "        \n",
    "   \n",
    "        \n",
    "    \n"
   ]
  },
  {
   "cell_type": "markdown",
   "metadata": {
    "Collapsed": "false"
   },
   "source": [
    "##### **Solution**"
   ]
  },
  {
   "cell_type": "code",
   "execution_count": null,
   "metadata": {
    "Collapsed": "false"
   },
   "outputs": [],
   "source": [
    "lst = list(range(11))\n",
    "\n",
    "sum_of_lst = 0\n",
    "for number in lst:\n",
    "    sum_of_lst += number\n",
    "\n",
    "## or, more concisely\n",
    "\n",
    "sum_of_lst = sum(range(11))"
   ]
  },
  {
   "cell_type": "markdown",
   "metadata": {
    "Collapsed": "false"
   },
   "source": [
    "#### Write code to print a pattern of `*` as follows:\n",
    "  \n",
    "  ```\n",
    "  *\n",
    "  * *\n",
    "  * * *\n",
    "  * * * *\n",
    "  * * *\n",
    "  * *\n",
    "  *\n",
    "  ```\n",
    "  "
   ]
  },
  {
   "cell_type": "code",
   "execution_count": 83,
   "metadata": {
    "Collapsed": "false"
   },
   "outputs": [
    {
     "name": "stdout",
     "output_type": "stream",
     "text": [
      "\n",
      "*\n",
      "**\n",
      "***\n",
      "****\n",
      "***\n",
      "**\n",
      "*\n",
      "\n"
     ]
    }
   ],
   "source": [
    "for nstars in range(5):\n",
    "    print ('*'*nstars)\n",
    "for mstars in reversed(range(4)):\n",
    "    print ('*'* mstars)"
   ]
  },
  {
   "cell_type": "markdown",
   "metadata": {
    "Collapsed": "true"
   },
   "source": [
    "##### **Solution**"
   ]
  },
  {
   "cell_type": "code",
   "execution_count": null,
   "metadata": {
    "Collapsed": "false"
   },
   "outputs": [],
   "source": [
    "for nstars in range(5):\n",
    "    print('* ' * nstars)\n",
    "\n",
    "for nstars in reversed(range(4)):\n",
    "    print('* ' * nstars)\n",
    "\n",
    "# or, more concisely\n",
    "\n",
    "from itertools import chain\n",
    "\n",
    "for nstars in chain(range(5), reversed(range(4))):\n",
    "    print('* ' * nstars)"
   ]
  },
  {
   "cell_type": "markdown",
   "metadata": {
    "Collapsed": "false"
   },
   "source": [
    "#### Can you generalize your code such that you can print such a pattern for any number of rows?"
   ]
  },
  {
   "cell_type": "code",
   "execution_count": null,
   "metadata": {
    "Collapsed": "false"
   },
   "outputs": [],
   "source": []
  },
  {
   "cell_type": "markdown",
   "metadata": {
    "Collapsed": "true"
   },
   "source": [
    "##### **Solution**"
   ]
  },
  {
   "cell_type": "code",
   "execution_count": null,
   "metadata": {
    "Collapsed": "false"
   },
   "outputs": [],
   "source": [
    "from itertools import chain\n",
    "\n",
    "# We could use 'range(n - 1, 0, -1)' rather than 'reversed(range(n))'\n",
    "def print_triangle(n):\n",
    "    for nstars in chain(range(n + 1), reversed(range(n))):\n",
    "        print('* ' * nstars)\n",
    "\n",
    "print_triangle(10)"
   ]
  },
  {
   "cell_type": "markdown",
   "metadata": {
    "Collapsed": "false"
   },
   "source": [
    "### If, if, if, ....\n",
    "\n",
    "In this exercise you will be making geometric pictures using `if`-clauses. To this end you will program a python function `f(x, y)` that takes inputs `x` and `y` ranging from 0 to 10, and that returns a number from 0 to 5. This function can then be plotted in a color plot.\n",
    "\n",
    "The color plot we have prepared for you in a helper function (you will learn in day 2 about how to plot things in python):"
   ]
  },
  {
   "cell_type": "code",
   "execution_count": null,
   "metadata": {
    "Collapsed": "false"
   },
   "outputs": [],
   "source": [
    "from helpers import plot_function"
   ]
  },
  {
   "cell_type": "markdown",
   "metadata": {
    "Collapsed": "false"
   },
   "source": [
    "As an example, let's make a function that returns one value if `x < 5`, and another for `x >= 5`:"
   ]
  },
  {
   "cell_type": "code",
   "execution_count": null,
   "metadata": {
    "Collapsed": "false"
   },
   "outputs": [],
   "source": [
    "def f(x, y):\n",
    "    if x < 5:\n",
    "        return 1\n",
    "    else:\n",
    "        return 4"
   ]
  },
  {
   "cell_type": "markdown",
   "metadata": {
    "Collapsed": "false"
   },
   "source": [
    "We can now use the helper `plot_function` to represent our function `f(x, y)` as a color plot:"
   ]
  },
  {
   "cell_type": "code",
   "execution_count": null,
   "metadata": {
    "Collapsed": "false",
    "scrolled": true
   },
   "outputs": [],
   "source": [
    "plot_function(f)"
   ]
  },
  {
   "cell_type": "markdown",
   "metadata": {
    "Collapsed": "false"
   },
   "source": [
    "#### Write your own `f(x, y)` to reproduce pictures like the ones given below"
   ]
  },
  {
   "cell_type": "markdown",
   "metadata": {
    "Collapsed": "false"
   },
   "source": [
    "<img src='if_figure.png' size=1000px>"
   ]
  },
  {
   "cell_type": "markdown",
   "metadata": {
    "Collapsed": "true"
   },
   "source": [
    "##### **Solutions**"
   ]
  },
  {
   "cell_type": "code",
   "execution_count": null,
   "metadata": {
    "Collapsed": "false"
   },
   "outputs": [],
   "source": [
    "def f(x, y):\n",
    "    if x < 4:\n",
    "        return 0\n",
    "    elif y > 5:\n",
    "        return 2\n",
    "    else:\n",
    "        return 1\n",
    "\n",
    "plot_function(f)"
   ]
  },
  {
   "cell_type": "code",
   "execution_count": null,
   "metadata": {
    "Collapsed": "false"
   },
   "outputs": [],
   "source": [
    "def f(x, y):\n",
    "    if y > 8:\n",
    "        return 2\n",
    "    elif x < 2:\n",
    "        return 4\n",
    "    else:\n",
    "        return 5\n",
    "\n",
    "plot_function(f)"
   ]
  },
  {
   "cell_type": "code",
   "execution_count": null,
   "metadata": {
    "Collapsed": "false"
   },
   "outputs": [],
   "source": [
    "def f(x, y):\n",
    "    if x < 5:\n",
    "        return 2 if y > 5 else 0  # use of if-expressions to save a few lines: is this more readable?\n",
    "    else:\n",
    "        return 4 if y > 5 else 3\n",
    "\n",
    "plot_function(f)"
   ]
  },
  {
   "cell_type": "code",
   "execution_count": null,
   "metadata": {
    "Collapsed": "false"
   },
   "outputs": [],
   "source": [
    "def inside_square(x, y, width, center=5):\n",
    "    x = x - center\n",
    "    y = y - center\n",
    "    return abs(x) < width / 2 and abs(y) < width / 2\n",
    "\n",
    "def f(x, y):\n",
    "    if inside_square(x, y, width=2):\n",
    "        return 3\n",
    "    elif inside_square(x, y, width=6):\n",
    "        return 2\n",
    "    else:\n",
    "        return 0\n",
    "\n",
    "plot_function(f)"
   ]
  },
  {
   "cell_type": "code",
   "execution_count": null,
   "metadata": {
    "Collapsed": "false"
   },
   "outputs": [],
   "source": [
    "def inside_circle(x, y, radius, center=5):\n",
    "    x = x - center\n",
    "    y = y - center\n",
    "    return x**2 + y**2 < radius**2\n",
    "\n",
    "def f(x, y):\n",
    "    if inside_circle(x, y, radius=2):\n",
    "        return 4\n",
    "    else:\n",
    "        return 0\n",
    "\n",
    "plot_function(f)"
   ]
  },
  {
   "cell_type": "code",
   "execution_count": null,
   "metadata": {
    "Collapsed": "false"
   },
   "outputs": [],
   "source": [
    "def in_upper_diagonal(x, y):\n",
    "    return x < y\n",
    "\n",
    "# Code re-use 'inside_circle' from previous case\n",
    "def f(x, y):\n",
    "    if inside_circle(x, y, radius=2):\n",
    "        return 1 if in_upper_diagonal(x, y) else 4\n",
    "    elif inside_circle(x, y, radius=3):\n",
    "        return 5 if in_upper_diagonal(x, y) else 3\n",
    "    else:\n",
    "        return 4 if in_upper_diagonal(x, y) else 2\n",
    "\n",
    "\n",
    "plot_function(f)"
   ]
  },
  {
   "cell_type": "markdown",
   "metadata": {
    "Collapsed": "false"
   },
   "source": [
    "## 2. Programming for biologists\n",
    "\n",
    "#### <font color='darkred'>Level: Beginner<font color='black'>"
   ]
  },
  {
   "cell_type": "markdown",
   "metadata": {
    "Collapsed": "false"
   },
   "source": [
    "Here are two basic problems from a python programming course expecially [aimed at biologists](http://www.programmingforbiologists.org)"
   ]
  },
  {
   "cell_type": "markdown",
   "metadata": {
    "Collapsed": "false"
   },
   "source": [
    "### Body mass of dinosaurs\n",
    "\n",
    "The length of an organism is typically strongly correlated with it's body mass. This is useful because it allows us to estimate the mass of an organism even if we only know its length. This relationship generally takes the form:\n",
    "\n",
    "$$ \\text{Mass} = a * \\text{Length}^b$$\n",
    "\n",
    "Where the parameters $a$ and $b$ vary among groups, mass is given in kg, and length in m. This allometric approach is regularly used to estimate the mass of dinosaurs since we cannot weigh something that is only preserved as bones.\n",
    "\n",
    "Different values of $a$ and $b$ are for example ([Seebacher 2001](http://www.jstor.org/stable/4524171\n",
    "))\n",
    "\n",
    "[Therapoda](https://en.wikipedia.org/wiki/Theropoda) (e.g. T-rex): $a=0.73$, $b=3.63$\n",
    "[Sauropoda](https://en.wikipedia.org/wiki/Sauropoda) (e.g. Brachiosaurus): $a = 214.44$, $b = 1.46$\n",
    "\n",
    "get_mass_from_length() that estimates the mass of an organism in kg based on it's length in meters by taking length, a, and b as parameters. To be clear we want to pass the function all 3 values that it needs to estimate a mass as parameters. This makes it much easier to reuse for all species.\n",
    "\n",
    "Use this function to compute the mass of [T-rex Trix](https://en.wikipedia.org/wiki/Trix_(dinosaur)) on display in Naturalis, Leiden, which is 13 meters long. \n",
    "Compare to the [Camarasaurus](https://www.naturalis.nl/nl/kennis/collectie/topstukken/camarasaurusskelet/) they have there, too."
   ]
  },
  {
   "cell_type": "markdown",
   "metadata": {
    "Collapsed": "true"
   },
   "source": [
    "##### **Solution**"
   ]
  },
  {
   "cell_type": "code",
   "execution_count": null,
   "metadata": {
    "Collapsed": "false"
   },
   "outputs": [],
   "source": [
    "def get_mass_from_length(a, b, length):\n",
    "    return a * length ** b\n",
    "\n",
    "t_rex = get_mass_from_length(a=0.73, b=3.63, length=13)\n",
    "camarasaurus = get_mass_from_length(a=214.44, b=1.46, length=20)"
   ]
  },
  {
   "cell_type": "markdown",
   "metadata": {
    "Collapsed": "false"
   },
   "source": [
    "### DNA vs RNA\n",
    "\n",
    "Write a function, `dna_or_rna(sequence`), that determines if a sequence of base pairs is DNA, RNA, or if it is not possible to tell given the sequence provided. Since all the function will know about the material is the sequence the only way to tell the difference between DNA and RNA is that RNA has the base Uracil (u) instead of the base Thymine (t). Have the function return one of three outputs: 'DNA', 'RNA', or 'UNKNOWN'. Use the function and a for loop to print the type of the sequences in the following list."
   ]
  },
  {
   "cell_type": "code",
   "execution_count": 93,
   "metadata": {
    "Collapsed": "false"
   },
   "outputs": [],
   "source": [
    "sequences = ['ttgaatgccttacaactgatcattacacaggcggcatgaagcaaaaatatactgtgaaccaatgcaggcg',\n",
    "             'gauuauuccccacaaagggagugggauuaggagcugcaucauuuacaagagcagaauguuucaaaugcau',\n",
    "             'gaaagcaagaaaaggcaggcgaggaagggaagaagggggggaaacc',\n",
    "             'guuuccuacaguauuugaugagaaugagaguuuacuccuggaagauaauauuagaauguuuacaacugcaccugaucagguggauaaggaagaugaagacu',\n",
    "             'gauaaggaagaugaagacuuucaggaaucuaauaaaaugcacuccaugaauggauucauguaugggaaucagccggguc']"
   ]
  },
  {
   "cell_type": "markdown",
   "metadata": {
    "Collapsed": "false"
   },
   "source": [
    "Optional: For a little extra challenge make your function work with both upper and lower case letters, or even strings with mixed capitalization"
   ]
  },
  {
   "cell_type": "markdown",
   "metadata": {
    "Collapsed": "true"
   },
   "source": [
    "##### **Solution**"
   ]
  },
  {
   "cell_type": "code",
   "execution_count": null,
   "metadata": {
    "Collapsed": "false"
   },
   "outputs": [],
   "source": [
    "def dna_or_rna(sequence):\n",
    "    sequence = sequence.lower()  # normalize to lowercase\n",
    "    if 'u' in sequence:\n",
    "        return 'RNA'\n",
    "    elif 't' in sequence:\n",
    "        return 'DNA'\n",
    "    else:\n",
    "        return 'UNKNOWN'\n",
    "\n",
    "for s in sequences:\n",
    "    print(dna_or_rna(s), ':', s)"
   ]
  },
  {
   "cell_type": "markdown",
   "metadata": {
    "Collapsed": "false"
   },
   "source": [
    "## 3. Project Euler\n",
    "\n",
    "#### <font color='darkred'>Level: Beginner - as complicated as you want<font color='black'>\n",
    "\n",
    "Go to https://projecteuler.net/. It's a website offering a collection of mathy programming challenges, starting from very simple ones and ending with very hard ones. The first 10-20 problems are a great playground for playing with a new programming language. The problems above 50-100 require advanced knowledge of math and algorithms.\n",
    "\n",
    "Let's have a look at the [first problem](https://projecteuler.net/problem=1):\n",
    "\n",
    "    Problem 1\n",
    "    \n",
    "    If we list all the natural numbers below 10 that are multiples of 3 or 5, we get 3, 5, 6 and 9. The sum of these multiples is 23.\n",
    "\n",
    "    Find the sum of all the multiples of 3 or 5 below 1000.\n",
    "\n",
    "How can you implement this on a computer? You have to loop over all the numbers and check if they are\n",
    "divisible by 3 or 5. If yes, you add the number. \n",
    "\n",
    "If you would like to have some more hints, click  <a href=\"#hinteuler1\" data-toggle=\"collapse\">here</a>.\n",
    "\n",
    "<div id=\"hinteuler1\" class=\"collapse\">\n",
    "To loop over all the numbers below 1000, you can use a `for i in range(1000)` loop. To check if\n",
    "a number is divisible by 3 or 5, use an `if` expression, and you can use `i % 3 == 0` to check if a number\n",
    "is divisible by 3, for example. Finally, you should define a variable `total = 0` before the loop, and\n",
    "add numbers to this variable inside the loop!\n",
    "</div>\n",
    "\n",
    "In similar ways, you can tackle the other Euler problems!\n",
    "\n"
   ]
  },
  {
   "cell_type": "markdown",
   "metadata": {
    "Collapsed": "false"
   },
   "source": [
    "## 4. Cryptography "
   ]
  },
  {
   "cell_type": "markdown",
   "metadata": {
    "Collapsed": "false"
   },
   "source": [
    "### Caesar's cipher - trial and error\n",
    "\n",
    "#### <font color='darkred'>Level: Beginner<font color='black'>"
   ]
  },
  {
   "cell_type": "markdown",
   "metadata": {
    "Collapsed": "false"
   },
   "source": [
    "The following text is encrypted by shifting all letters in the alphabet by a fixed amount\n",
    "(e.g. a shift by 2 would give A -> C, B -> D, ..., Z -> B). Decrypt it by trying out all possible shifts! (Just copy the assignment below to use the text in your python program)"
   ]
  },
  {
   "cell_type": "code",
   "execution_count": null,
   "metadata": {
    "Collapsed": "false"
   },
   "outputs": [],
   "source": [
    "encrypted_text1 = \"\"\"\n",
    "RW. XMJWQTHP MTQRJX, BMT BFX ZXZFQQD AJWD QFYJ NS YMJ RTWSNSLX, XFAJ ZUTS YMTXJ\n",
    "STY NSKWJVZJSY THHFXNTSX BMJS MJ BFX ZU FQQ SNLMY, BFX XJFYJI FY YMJ GWJFPKFXY YFGQJ.\n",
    "N XYTTI ZUTS YMJ MJFWYM-WZL FSI UNHPJI ZU YMJ XYNHP BMNHM TZW ANXNYTW MFI QJKY GJMNSI\n",
    "MNR YMJ SNLMY GJKTWJ. NY BFX F KNSJ, YMNHP UNJHJ TK BTTI, GZQGTZX-MJFIJI, TK YMJ XTWY\n",
    "BMNHM NX PSTBS FX F \"UJSFSL QFBDJW.\" OZXY ZSIJW YMJ MJFI BFX F GWTFI XNQAJW GFSI SJFWQD\n",
    "FS NSHM FHWTXX. \"YT OFRJX RTWYNRJW, R.W.H.X., KWTR MNX KWNJSIX TK YMJ H.H.M.,\" BFX\n",
    "JSLWFAJI ZUTS NY, BNYM YMJ IFYJ \"1884.\" NY BFX OZXY XZHM F XYNHP FX YMJ TQI-KFXMNTSJI\n",
    "KFRNQD UWFHYNYNTSJW ZXJI YT HFWWD—INLSNKNJI, XTQNI, FSI WJFXXZWNSL. \n",
    "\n",
    "\"BJQQ, BFYXTS, BMFY IT DTZ RFPJ TK NY?\" \n",
    "\"\"\""
   ]
  },
  {
   "cell_type": "markdown",
   "metadata": {
    "Collapsed": "false"
   },
   "source": [
    "To this end, write a *function* that takes an encrypted text as input as well as a shift, and that then\n",
    "prints the decrypted string."
   ]
  },
  {
   "cell_type": "markdown",
   "metadata": {
    "Collapsed": "false"
   },
   "source": [
    "##### **Hints**"
   ]
  },
  {
   "cell_type": "markdown",
   "metadata": {
    "Collapsed": "false"
   },
   "source": [
    "Remember, you can loop over all letters in a string using `for c in encrypted_text1:`. Also, you can\n",
    "check if a letter is between \"A\" to \"Z\" by `\"A\" <= c and c <= \"Z\"`. One way of doing the subsitution is\n",
    "to generate a dictionary with letters as keys and as values, and then use this to do the substitution in\n",
    "the `for`-loop.\n",
    "\n",
    "\n",
    "There's a subtle logical mistake that is often done here: you might be compelled to first replace all `A`'s \n",
    "in the string with another letter. Say the shift is 1, and that letter is `B`. Then you will have in your string\n",
    "two types of `B`'s: decrypted (from replacing `A`) and still encrypted (the `B` from the original encrypted string). If you now replace both type of `B`'s in the next step, you run into problems ..."
   ]
  },
  {
   "cell_type": "markdown",
   "metadata": {
    "Collapsed": "true"
   },
   "source": [
    "##### **Solution**"
   ]
  },
  {
   "cell_type": "code",
   "execution_count": null,
   "metadata": {
    "Collapsed": "false"
   },
   "outputs": [],
   "source": [
    "def decrypt(ciphertext, shift):\n",
    "\n",
    "    ord_A = ord('A')\n",
    "\n",
    "    def decrypt_one(c):\n",
    "        if 'A' <= c <= 'Z':  # convert *only* uppercase characters\n",
    "            return chr(ord_A + (ord(c) - ord_A + shift) % 26)\n",
    "        else:\n",
    "            return c\n",
    "\n",
    "    return ''.join(decrypt_one(c) for c in ciphertext)\n",
    "\n",
    "\n",
    "print(decrypt(encrypted_text1, 21))\n",
    "\n",
    "%timeit decrypt(encrypted_text1, 21)"
   ]
  },
  {
   "cell_type": "markdown",
   "metadata": {
    "Collapsed": "false"
   },
   "source": [
    "This version uses the string built-in method `translate`, combined with a translation table that converts between\n",
    "characters in the ciphertext and the cleartext. This is much faster because it uses Python's built-in operations."
   ]
  },
  {
   "cell_type": "code",
   "execution_count": null,
   "metadata": {
    "Collapsed": "false"
   },
   "outputs": [],
   "source": [
    "from string import ascii_uppercase\n",
    "from itertools import cycle, islice\n",
    "\n",
    "\n",
    "def decrypt2(ciphertext, shift):\n",
    "    # map: ciphertext letters → cleartext letters\n",
    "    codex = islice(cycle(ascii_uppercase), shift, shift + 26)\n",
    "    codex = dict(zip(ascii_uppercase, codex))\n",
    "    codex = str.maketrans(codex)\n",
    "\n",
    "    return ciphertext.translate(codex)\n",
    "\n",
    "\n",
    "print(decrypt2(encrypted_text1, 21))\n",
    "\n",
    "%timeit decrypt2(encrypted_text1, 21)"
   ]
  },
  {
   "cell_type": "markdown",
   "metadata": {
    "Collapsed": "false"
   },
   "source": [
    "### Caesar's cipher - frequency analysis\n",
    "\n",
    "#### <font color='darkred'>Level: Intermediate<font color='black'>\n",
    "\n",
    "The Caesar's cypher can be broken by *frequency analysis*: Letters occur in a text with a certain probability. For example, a probability distribution for the English langiage can be found at [wikipedia](https://en.wikipedia.org/wiki/Frequency_analysis).\n",
    "\n",
    "Make a probability analysis of the text above. Plot the histogram of the letters using `print` statements, that looks like \n",
    "\n",
    "    A ****\n",
    "    B ********\n",
    "    C **\n",
    "    \n",
    "etc. From that, determine the shift of the Caeser's cypher and decrypt it in one go.\n"
   ]
  },
  {
   "cell_type": "markdown",
   "metadata": {
    "Collapsed": "true"
   },
   "source": [
    "##### **Solution**"
   ]
  },
  {
   "cell_type": "code",
   "execution_count": null,
   "metadata": {
    "Collapsed": "false"
   },
   "outputs": [],
   "source": [
    "from string import ascii_uppercase\n",
    "\n",
    "\n",
    "def count_characters(text):\n",
    "    text = text.upper()  # normalize to uppercase\n",
    "    counts = dict((c, 0) for c in ascii_uppercase)\n",
    "    for c in text:\n",
    "        if c not in counts:\n",
    "            continue  # don't count spaces or punctuation\n",
    "        counts[c] += 1\n",
    "    return counts\n",
    "\n",
    "\n",
    "def print_counts(counts, max_width=None):\n",
    "    # Ensure that each line does not exceed 'max_width' by normalizing the counts.\n",
    "    # We subtract 2 because each line starts with a single character and a space\n",
    "    normalization = 1 if not max_width else (max_width - 2) / max(counts.values())\n",
    "\n",
    "    for letter, count in sorted(counts.items()):\n",
    "        count = int(count * normalization)  # round down\n",
    "        print(letter, '*' * count)\n",
    "\n",
    "\n",
    "counts = count_characters(encrypted_text1)\n",
    "print_counts(counts, max_width=50)"
   ]
  },
  {
   "cell_type": "markdown",
   "metadata": {
    "Collapsed": "false"
   },
   "source": [
    "### A step aside: Frequency analysis of English texts\n",
    "\n",
    "#### <font color='darkred'>Level: Intermediate<font color='black'>\n",
    "\n",
    "In the previous exercise, you were asked to break a cypher using the frequency of letters as given in [wikipedia](https://en.wikipedia.org/wiki/Frequency_analysis). \n",
    "\n",
    "You can create such a histogram of frequency of letters yourself. For this, download the text of \"Romeo and Juliet\" from the file `romeo_and_juliet.txt` (that was downloade from [project Gutenberg](https://www.gutenberg.org/ebooks/1112.txt.utf-8)), and count the occurences\n",
    "of all letters A-Z (treating upper case A-Z and lower case a-z the same). Do you find the same result as in the wikipedia article?"
   ]
  },
  {
   "cell_type": "markdown",
   "metadata": {
    "Collapsed": "true"
   },
   "source": [
    "##### **Solution**"
   ]
  },
  {
   "cell_type": "code",
   "execution_count": null,
   "metadata": {
    "Collapsed": "false"
   },
   "outputs": [],
   "source": [
    "## Check out this code reuse!\n",
    "\n",
    "# This loads the whole file into memory at once, which will not work if the file is larger\n",
    "# than the available memory.\n",
    "with open('romeo_and_juliet.txt') as file:\n",
    "    counts = count_characters(file.read())\n",
    "\n",
    "print_counts(counts, max_width=50)"
   ]
  },
  {
   "cell_type": "markdown",
   "metadata": {
    "Collapsed": "false"
   },
   "source": [
    "## Substitution cipher\n",
    "\n",
    "#### <font color='darkred'>Level: Intermediate - Advanced<font color='black'>\n",
    "\n",
    "Now let's look at a more complicated cipher where we replace (uniquely) every letter by some other letter. This is not just described by a simple shift as before, but now we need to find a different mapping for every letter!\n",
    "\n",
    "It is a bit difficult to do this by frequency analysis of single letters (although you might identify certain letters). It is easier to do this by doing a frequency analysis of [bigrams](https://en.wikipedia.org/wiki/Bigram#Bigram_frequency_in_the_English_language), i.e. two letter combinations.\n",
    "\n",
    "Write a code to find out the probability of single letters and of the 10 most frequent bigrams. Use this as input to decypher the following text:"
   ]
  },
  {
   "cell_type": "code",
   "execution_count": null,
   "metadata": {
    "Collapsed": "false"
   },
   "outputs": [],
   "source": [
    "encrypted_text2 = \"\"\"\n",
    "  \"IEGG ZE, DMISTW, DBMI FT RTN ZMOE TQ TNY LPSPITY'S SIPHO? SPWHE DE BMLE XEEW ST\n",
    "NWQTYINWMIE MS IT ZPSS BPZ MWF BMLE WT WTIPTW TQ BPS EYYMWF, IBPS MHHPFEWIMG STNLEWPY\n",
    "XEHTZES TQ PZJTYIMWHE. GEI ZE BEMY RTN YEHTWSIYNHI IBE ZMW XR MW EUMZPWMIPTW TQ PI.\"\n",
    "  \"P IBPWO,\" SMPF P, QTGGTDPWV MS QMY MS P HTNGF IBE ZEIBTFS TQ ZR HTZJMWPTW, \"IBMI FY.\n",
    "ZTYIPZEY PS M SNHHESSQNG, EGFEYGR ZEFPHMG ZMW, DEGG-ESIEEZEF SPWHE IBTSE DBT OWTD BPZ\n",
    "VPLE BPZ IBPS ZMYO TQ IBEPY MJJYEHPMIPTW.\"\n",
    "  \"VTTF!\" SMPF BTGZES. \"EUHEGGEWI!\"\n",
    "  \"P IBPWO MGST IBMI IBE JYTXMXPGPIR PS PW QMLTNY TQ BPS XEPWV M HTNWIYR JYMHIPIPTWEY\n",
    "DBT FTES M VYEMI FEMG TQ BPS LPSPIPWV TW QTTI.\"\n",
    "  \"DBR ST?\"\n",
    "  \"XEHMNSE IBPS SIPHO, IBTNVB TYPVPWMGGR M LEYR BMWFSTZE TWE BMS XEEW ST OWTHOEF MXTNI\n",
    "IBMI P HMW BMYFGR PZMVPWE M ITDW JYMHIPIPTWEY HMYYRPWV PI. IBE IBPHO-PYTW QEYYNGE PS\n",
    "DTYW FTDW, ST PI PS ELPFEWI IBMI BE BMS FTWE M VYEMI MZTNWI TQ DMGOPWV DPIB PI.\"\n",
    "  \"JEYQEHIGR STNWF!\" SMPF BTGZES.\n",
    "  \"MWF IBEW MVMPW, IBEYE PS IBE 'QYPEWFS TQ IBE H.H.B.' P SBTNGF VNESS IBMI IT XE IBE\n",
    "STZEIBPWV BNWI, IBE GTHMG BNWI IT DBTSE ZEZXEYS BE BMS JTSSPXGR VPLEW STZE SNYVPHMG\n",
    "MSSPSIMWHE, MWF DBPHB BMS ZMFE BPZ M SZMGG JYESEWIMIPTW PW YEINYW.\"\n",
    "  \"YEMGGR, DMISTW, RTN EUHEG RTNYSEGQ,\" SMPF BTGZES, JNSBPWV XMHO BPS HBMPY MWF GPVBIPWV\n",
    "M HPVMYEIIE. \"PWIEYESIPWV, IBTNVB EGEZEWIMYR,\" SMPF BE MS BE YEINYWEF IT BPS QMLTNYPIE\n",
    "HTYWEY TQ IBE SEIIEE. \"IBEYE MYE HEYIMPWGR TWE TY IDT PWFPHMIPTWS NJTW IBE SIPHO.\n",
    "PI VPLES NS IBE XMSPS QTY SELEYMG FEFNHIPTWS.\"\n",
    "  \"BMS MWRIBPWV ESHMJEF ZE?\" P MSOEF DPIB STZE SEGQ-PZJTYIMWHE. \"P IYNSI IBMI IBEYE PS\n",
    "WTIBPWV TQ HTWSEANEWHE DBPHB P BMLE TLEYGTTOEF?\"\n",
    "  \"P MZ MQYMPF, ZR FEMY DMISTW, IBMI ZTSI TQ RTNY HTWHGNSPTWS DEYE EYYTWETNS.\"\n",
    "\"\"\""
   ]
  },
  {
   "cell_type": "markdown",
   "metadata": {
    "Collapsed": "false"
   },
   "source": [
    "**Hint**: Don't try to do everything in one go. As you have identified certain letters, substitute those in the text, and then guess other letters. Decrypt the text thus step by step."
   ]
  },
  {
   "cell_type": "markdown",
   "metadata": {
    "Collapsed": "true"
   },
   "source": [
    "##### **Solution**"
   ]
  },
  {
   "cell_type": "code",
   "execution_count": null,
   "metadata": {
    "Collapsed": "false"
   },
   "outputs": [],
   "source": [
    "def decrypt_substitution_cipher(ciphertext, key):\n",
    "    \"\"\"Return cleartext, using a substitution cipher with a given key.\n",
    "\n",
    "    Parameters\n",
    "    ----------\n",
    "    ciphertext : str\n",
    "        The text to decrypt\n",
    "    key : dict, str → str\n",
    "        Map from the ciphertext characters to the cleartext characters.\n",
    "        Any characters that appear in 'ciphertext' but do not appear in 'key'\n",
    "        remain unchanged in the cleartext.\n",
    "    \"\"\"\n",
    "    return ciphertext.translate(str.maketrans(key))"
   ]
  },
  {
   "cell_type": "code",
   "execution_count": null,
   "metadata": {
    "Collapsed": "false"
   },
   "outputs": [],
   "source": [
    "from string import punctuation\n",
    "from itertools import product\n",
    "\n",
    "def count_bigrams(text):\n",
    "    # normalize to uppercase\n",
    "    text = text.upper()\n",
    "    # Normalize all punctuation characters to a single space because these all\n",
    "    # mark the beginning/end of words. This is probably incorrect for hyphenation,\n",
    "    # but we hope that hyphenated words will be rare enough to not affect our analysis\n",
    "    replace_punctuation = dict((p, ' ') for p in punctuation)\n",
    "    text = text.translate(str.maketrans(replace_punctuation))\n",
    "    \n",
    "    all_bigrams = product(ascii_uppercase + ' ', repeat=2)\n",
    "    counts = dict((c, 0) for c in all_bigrams)\n",
    "    del counts[' ', ' ']  # don't count consecutive punctutation\n",
    "\n",
    "    for a, b in zip(text, text[1:]):  # each character and its following character\n",
    "        if (a, b) not in counts:\n",
    "            continue  # don't count punctuation\n",
    "        counts[(a, b)] += 1\n",
    "    return counts\n"
   ]
  },
  {
   "cell_type": "code",
   "execution_count": null,
   "metadata": {
    "Collapsed": "false"
   },
   "outputs": [],
   "source": [
    "from operator import itemgetter\n",
    "\n",
    "def top_counts(counts, n=10):\n",
    "    sorted_counts = sorted(counts.items(), key=itemgetter(1))  # sort by count\n",
    "    return dict(sorted_counts[-n:])  # other functions expect 'counts' as a dict"
   ]
  },
  {
   "cell_type": "markdown",
   "metadata": {
    "Collapsed": "false"
   },
   "source": [
    "Here we re-us"
   ]
  },
  {
   "cell_type": "code",
   "execution_count": null,
   "metadata": {
    "Collapsed": "false"
   },
   "outputs": [],
   "source": [
    "print_counts(top_counts(count_bigrams(encrypted_text2)))"
   ]
  },
  {
   "cell_type": "code",
   "execution_count": null,
   "metadata": {
    "Collapsed": "false"
   },
   "outputs": [],
   "source": [
    "with open('romeo_and_juliet.txt') as file:\n",
    "    top_bigrams = top_counts(count_bigrams(file.read()))\n",
    "    print_counts(top_bigrams, max_width=50)"
   ]
  },
  {
   "cell_type": "markdown",
   "metadata": {
    "Collapsed": "false"
   },
   "source": [
    "## 5. Babynames\n",
    "\n",
    "#### <font color='darkred'>Level: Intermediate<font color='black'>\n",
    "\n",
    "The file `babynames.txt` contains data on all names given to male children in the Netherlands in 2015 (from [SVB](https://www.svb.nl/int/nl/kindernamen/artikelen/top20/jongens/index.jsp). I apologize for only giving boy's names - for some reason the SVB didn't give a file with all girl's names)\n",
    "\n",
    "Read the file and do some analysis of the data:\n",
    "\n",
    "- Find the most common name. How many percent of Dutch male children were named like this in all of 2015?\n",
    "- Find the shortest/longest name\n",
    "- Find the name with the most special characters (\"special\" = not A-Z)\n",
    "- Find the top 20 names, and give the percentage how often children were named like this. What is the total percentage of the top 20 names, i.e. how often are top 20 names given?"
   ]
  },
  {
   "cell_type": "markdown",
   "metadata": {
    "Collapsed": "true"
   },
   "source": [
    "##### **Solution**"
   ]
  },
  {
   "cell_type": "code",
   "execution_count": null,
   "metadata": {
    "Collapsed": "false"
   },
   "outputs": [],
   "source": [
    "def parse_line(line):\n",
    "    *name, count = line.split()  # the name may contain whitespace, but the count may not\n",
    "    return ' '.join(name), int(count)\n",
    "\n",
    "with open('babynames.txt') as file:\n",
    "    names, counts = zip(*(parse_line(line) for line in file))"
   ]
  },
  {
   "cell_type": "code",
   "execution_count": null,
   "metadata": {
    "Collapsed": "false"
   },
   "outputs": [],
   "source": [
    "from operator import itemgetter\n",
    "\n",
    "count, most_common_name = max(zip(counts, names))\n",
    "print('The most common name is', most_common_name)"
   ]
  },
  {
   "cell_type": "code",
   "execution_count": null,
   "metadata": {
    "Collapsed": "false"
   },
   "outputs": [],
   "source": [
    "print('The shortest name is', min(names, key=len))\n",
    "print('The longest name is', max(names, key=len))"
   ]
  },
  {
   "cell_type": "code",
   "execution_count": null,
   "metadata": {
    "Collapsed": "false"
   },
   "outputs": [],
   "source": [
    "def count_specials(s):\n",
    "    return sum(not char.isalpha() for char in s)\n",
    "    \n",
    "print('The name with the most special characters is', max(names, key=count_specials))"
   ]
  },
  {
   "cell_type": "code",
   "execution_count": null,
   "metadata": {
    "Collapsed": "false"
   },
   "outputs": [],
   "source": [
    "import heapq\n",
    "\n",
    "top_counts, top_names = zip(*heapq.nlargest(20, zip(counts, names)))\n",
    "\n",
    "pct_named = 100 * sum(top_counts) / sum(counts)\n",
    "\n",
    "print('the 20 top names are:', ', '.join(top_names))\n",
    "print()\n",
    "print(f'boys were named this way {pct_named}% of the time')"
   ]
  },
  {
   "cell_type": "markdown",
   "metadata": {
    "Collapsed": "false"
   },
   "source": [
    "## 6. Find the zero of a function\n",
    "\n",
    "#### <font color='darkred'>Level: Intermediate to Advanced<font color='black'>\n",
    "\n",
    "Write a function to find the zero of a mathematical function $4f(x)$ within an interval $[a, b]$, when $f(a)$ and $f(b)$ have opposite sign (this makes sure there is at least one zero in this interval.\n",
    "\n",
    "Find this zero by *bisecting* the interval: Take the middle point $c$, and find out which interval now must have the zero by comparing the signs of the $f(a)$, $f(b)$, and $f(c)$. Iterate this procedure to zoom in on\n",
    "the zero."
   ]
  },
  {
   "cell_type": "markdown",
   "metadata": {
    "Collapsed": "false"
   },
   "source": [
    "Write a python function `find_root(f, a, b)` that implements this procedure. This python function should take another python function `f` as input, as well as two numbers `a` and `b`.\n",
    "\n",
    "*Possible extensions, optional*: \n",
    "- Have another input parameter specifying the numerical accuracy with which you want to find the zero.\n",
    "- Check the user input to make sure `find_root` can actually find a root."
   ]
  },
  {
   "cell_type": "markdown",
   "metadata": {
    "Collapsed": "true"
   },
   "source": [
    "##### **Solution**"
   ]
  },
  {
   "cell_type": "code",
   "execution_count": null,
   "metadata": {
    "Collapsed": "false"
   },
   "outputs": [],
   "source": [
    "import functools\n",
    "\n",
    "\n",
    "def find_root(f, a, b, tol=1E-8):\n",
    "    \"\"\"Finds a root of 'f' in the interval '(a, b)' to an accuracy of 'tol'.\n",
    "\n",
    "    If there are 0 or an even number of zeros in the interval, this function will raise\n",
    "    a 'ValueError'. This function does not detect whether there are > 1 zeros in the\n",
    "    interval.\n",
    "    \"\"\"\n",
    "\n",
    "    # Memoizing is advantageous for all but the most trivial of functions\n",
    "    # We only need to store (f(a), f(mid), f(b)), so we cap the size of the cache at 3\n",
    "    f = functools.lru_cache(maxsize=3)(f)\n",
    "\n",
    "    def has_root(a, b):\n",
    "        return f(a) * f(b) <= 0  # sign of f(a) is different to f(b), **or** either one is exactly zero\n",
    "\n",
    "    # Ensure we have 1 (or at leas)\n",
    "    if not has_root(a, b):\n",
    "        raise ValueError(f'function {f} has no (or > 1) zeros in the interval ({a}, {b})')\n",
    "\n",
    "    # quick return for the edge case\n",
    "    if f(a) == 0:\n",
    "        return a\n",
    "    if f(b) == 0:\n",
    "        return b\n",
    "\n",
    "    while abs(a - b) > tol:\n",
    "        mid = (a + b) / 2\n",
    "\n",
    "        # quick return for the edge case\n",
    "        if f(mid) == 0:\n",
    "            return mid\n",
    " \n",
    "        # bisect the interval\n",
    "        if has_root(a, mid):  # go left\n",
    "            b = mid\n",
    "        else:  # go right\n",
    "            a = mid\n",
    "\n",
    "    return (a + b) / 2"
   ]
  },
  {
   "cell_type": "code",
   "execution_count": null,
   "metadata": {
    "Collapsed": "false"
   },
   "outputs": [],
   "source": [
    "find_root(lambda x: x, -1, 1)  # catches the edge case where the root is on a boundary"
   ]
  },
  {
   "cell_type": "code",
   "execution_count": null,
   "metadata": {
    "Collapsed": "false"
   },
   "outputs": [],
   "source": [
    "find_root(lambda x: x, -1, 1.1)  # still within 'tol' of the true value"
   ]
  },
  {
   "cell_type": "code",
   "execution_count": null,
   "metadata": {
    "Collapsed": "false"
   },
   "outputs": [],
   "source": [
    "find_root(lambda x: x**2 - 1, -2, 0.5)"
   ]
  }
 ],
 "metadata": {
  "anaconda-cloud": {},
  "kernelspec": {
   "display_name": "Python 3",
   "language": "python",
   "name": "python3"
  },
  "language_info": {
   "codemirror_mode": {
    "name": "ipython",
    "version": 3
   },
   "file_extension": ".py",
   "mimetype": "text/x-python",
   "name": "python",
   "nbconvert_exporter": "python",
   "pygments_lexer": "ipython3",
   "version": "3.7.3"
  }
 },
 "nbformat": 4,
 "nbformat_minor": 4
}
