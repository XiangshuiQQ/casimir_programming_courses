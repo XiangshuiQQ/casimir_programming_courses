{
 "cells": [
  {
   "cell_type": "markdown",
   "metadata": {
    "Collapsed": "false"
   },
   "source": [
    "# Code Refactoring\n",
    "\n",
    "> Code refactoring is the process of restructuring existing computer code—changing the factoring—**without changing its external behavior**. ([Wikipedia](https://en.wikipedia.org/wiki/Code_refactoring))"
   ]
  },
  {
   "cell_type": "markdown",
   "metadata": {
    "Collapsed": "false"
   },
   "source": [
    "When tackling a problem you will often not have an idea, initially, of what you're really doing.\n",
    "\n",
    "This lack of understanding will be reflected in the code that you write to solve the problem.\n",
    "\n",
    "**Refactoring** a piece of code after an initial implementation (and after verifying, with tests, that it works) has 2 benefits:\n",
    "\n",
    "+ Looking critically at the code can help you understand the problem better\n",
    "+ When you have a better understanding of the problem, your code can better reflect the structure of the problem. This will usually make it easier to read."
   ]
  },
  {
   "cell_type": "markdown",
   "metadata": {
    "Collapsed": "false"
   },
   "source": [
    "As a concrete example let's take the exercise on `if/else` from day 1."
   ]
  },
  {
   "cell_type": "markdown",
   "metadata": {
    "Collapsed": "false"
   },
   "source": [
    "---"
   ]
  },
  {
   "cell_type": "markdown",
   "metadata": {
    "Collapsed": "false"
   },
   "source": [
    "### If, if, if, ....\n",
    "\n",
    "In this exercise you will be making geometric pictures using `if`-clauses. To this end you will program a python function `f(x, y)` that takes inputs `x` and `y` ranging from 0 to 10, and that returns a number from 0 to 5. This function can then be plotted in a color plot.\n",
    "\n",
    "The color plot we have prepared for you in a helper function (you will learn in day 2 about how to plot things in python):"
   ]
  },
  {
   "cell_type": "code",
   "execution_count": null,
   "metadata": {
    "Collapsed": "false"
   },
   "outputs": [],
   "source": [
    "from helpers import plot_function"
   ]
  },
  {
   "cell_type": "markdown",
   "metadata": {
    "Collapsed": "false"
   },
   "source": [
    "As an example, let's make a function that returns one value if `x < 5`, and another for `x >= 5`:"
   ]
  },
  {
   "cell_type": "code",
   "execution_count": null,
   "metadata": {
    "Collapsed": "false"
   },
   "outputs": [],
   "source": [
    "def f(x, y):\n",
    "    if x < 5:\n",
    "        return 1\n",
    "    else:\n",
    "        return 4"
   ]
  },
  {
   "cell_type": "markdown",
   "metadata": {
    "Collapsed": "false"
   },
   "source": [
    "We can now use the helper `plot_function` to represent our function `f(x, y)` as a color plot:"
   ]
  },
  {
   "cell_type": "code",
   "execution_count": null,
   "metadata": {
    "Collapsed": "false"
   },
   "outputs": [],
   "source": [
    "plot_function(f)"
   ]
  },
  {
   "cell_type": "markdown",
   "metadata": {
    "Collapsed": "false"
   },
   "source": [
    "Write your own `f(x, y)` to reproduce pictures like the ones given below"
   ]
  },
  {
   "cell_type": "markdown",
   "metadata": {
    "Collapsed": "false"
   },
   "source": [
    "<img src='../day1_morning/if_figure.png' size=1000px>"
   ]
  },
  {
   "cell_type": "markdown",
   "metadata": {
    "Collapsed": "false"
   },
   "source": [
    "---"
   ]
  },
  {
   "cell_type": "markdown",
   "metadata": {
    "Collapsed": "false"
   },
   "source": [
    "For the moment let's take the most complex example on the lower right."
   ]
  },
  {
   "cell_type": "code",
   "execution_count": null,
   "metadata": {
    "Collapsed": "false"
   },
   "outputs": [],
   "source": [
    "from math import sqrt\n",
    "\n",
    "def f(x, y):\n",
    "    if x < y:\n",
    "        if sqrt((x - 5)**2 + (y - 5)**2) >= 2 and sqrt((x - 5)**2 + (y - 5)**2) < 3:\n",
    "            return 5\n",
    "        elif sqrt((x - 5)**2 + (y - 5)**2) < 2:\n",
    "            return 1\n",
    "        else:\n",
    "            return 4\n",
    "    else:\n",
    "        if sqrt((x - 5)**2 + (y - 5)**2) >= 2 and sqrt((x - 5)**2 + (y - 5)**2) < 3:\n",
    "            return 3\n",
    "        elif sqrt((x - 5)**2 + (y - 5)**2) < 2:\n",
    "            return 4\n",
    "        else:\n",
    "            return 2\n",
    "\n",
    "plot_function(f)"
   ]
  },
  {
   "cell_type": "markdown",
   "metadata": {
    "Collapsed": "false"
   },
   "source": [
    "---\n",
    "\n",
    "### Why is this code good?\n",
    "\n",
    "+ It works!\n",
    "\n",
    "### Why is this code bad?\n",
    "\n",
    "+ It doesn't have any tests\n",
    "+ It's not clear *why* it works\n",
    "+ We recalculate the same thing several times\n",
    "\n",
    "\n",
    "#### Golden rule of refactoring\n",
    "\n",
    "When your code works, before you touch *anything*, make sure you have comprehensive tests. Without tests, you won't know when you break something\n",
    "\n",
    "---"
   ]
  },
  {
   "cell_type": "code",
   "execution_count": null,
   "metadata": {
    "Collapsed": "false"
   },
   "outputs": [],
   "source": [
    "def test_f():\n",
    "    assert f(1, 0) == 2\n",
    "    assert f(0, 1) == 4\n",
    "    assert f(5, 4) == 4\n",
    "    assert f(4, 5) == 1\n",
    "    assert f(5, 2.5) == 3\n",
    "    assert f(2.5, 5) == 5\n",
    "    \n",
    "test_f()"
   ]
  },
  {
   "cell_type": "markdown",
   "metadata": {
    "Collapsed": "false"
   },
   "source": [
    "Note that in this specific example where we generate an image the best test is probably just to display the image!"
   ]
  },
  {
   "cell_type": "markdown",
   "metadata": {
    "Collapsed": "false"
   },
   "source": [
    "Let's have another go, avoiding repeating ourselves."
   ]
  },
  {
   "cell_type": "code",
   "execution_count": null,
   "metadata": {
    "Collapsed": "false"
   },
   "outputs": [],
   "source": [
    "# Changes\n",
    "# + define r_center\n",
    "# + re-order if-s to make the conditions simpler\n",
    "from math import sqrt\n",
    "\n",
    "def f(x, y):\n",
    "    r_center = sqrt((x - 5)**2 + (y - 5)**2)\n",
    "\n",
    "    if x < y:\n",
    "        if r_center < 2:\n",
    "            return 1\n",
    "        elif r_center < 3:\n",
    "            return 5\n",
    "        else:\n",
    "            return 4\n",
    "    else:\n",
    "        if r_center < 2:\n",
    "            return 4\n",
    "        elif r_center < 3:\n",
    "            return 3\n",
    "        else:\n",
    "            return 2\n",
    "    \n",
    "\n",
    "\n",
    "def test_f():\n",
    "    assert f(1, 0) == 2\n",
    "    assert f(0, 1) == 4\n",
    "    assert f(5, 4) == 4\n",
    "    assert f(4, 5) == 1\n",
    "    assert f(5, 2.5) == 3\n",
    "    assert f(2.5, 5) == 5\n",
    "    \n",
    "test_f()\n",
    "plot_function(f)"
   ]
  },
  {
   "cell_type": "markdown",
   "metadata": {
    "Collapsed": "false"
   },
   "source": [
    "This is much better, but it's still quite complicated. We see that there's this `if-else` chain that has the same structure:\n",
    "\n",
    "```python\n",
    "if r_center < 2:\n",
    "    return <something>\n",
    "elif r_center < 3:\n",
    "    return <something else>\n",
    "else:\n",
    "    return <another thing>\n",
    "```\n",
    "\n",
    "How can we make this better?"
   ]
  },
  {
   "cell_type": "code",
   "execution_count": null,
   "metadata": {
    "Collapsed": "false"
   },
   "outputs": [],
   "source": [
    "# Changes\n",
    "# + define r_center\n",
    "# + re-order if-s to make the conditions simpler\n",
    "# + factor out inner condition into a separate function\n",
    "from math import sqrt\n",
    "\n",
    "\n",
    "def inner_condition(r_center, values):\n",
    "    if r_center < 2:\n",
    "        return values[0]\n",
    "    elif r_center < 3:\n",
    "        return values[1]\n",
    "    else:\n",
    "        return values[2]\n",
    "\n",
    "\n",
    "def f(x, y):\n",
    "    r_center = sqrt((x - 5)**2 + (y - 5)**2)\n",
    "\n",
    "    if x < y:\n",
    "        values = [1, 5, 4]\n",
    "    else:\n",
    "        values = [4, 3, 2]\n",
    "\n",
    "    return inner_condition(r_center, values) \n",
    "\n",
    "\n",
    "def test_f():\n",
    "    assert f(1, 0) == 2\n",
    "    assert f(0, 1) == 4\n",
    "    assert f(5, 4) == 4\n",
    "    assert f(4, 5) == 1\n",
    "    assert f(5, 2.5) == 3\n",
    "    assert f(2.5, 5) == 5\n",
    "    \n",
    "test_f()\n",
    "plot_function(f)"
   ]
  },
  {
   "cell_type": "markdown",
   "metadata": {
    "Collapsed": "false"
   },
   "source": [
    "### Question\n",
    "\n",
    "Is the code better or worse?\n",
    "\n",
    "### Answer\n",
    "\n",
    "Arguably, it's *worse*.\n",
    "\n",
    "Even though we've factored out the inner conditionals into a separate function (code re-use!), the code is now *harder to understand*.\n",
    "\n",
    "It's harder to understand because the function `inner_condition` does not really correspond to a useful concept in the problem space.\n",
    "\n",
    "---"
   ]
  },
  {
   "cell_type": "markdown",
   "metadata": {
    "Collapsed": "false"
   },
   "source": [
    "### Identifying the structure of the problem\n",
    "\n",
    "Let's step back for a minute and take another look at the original problem.\n",
    "\n",
    "We need to construct functions that correspond to each of these images. What do we notice about each of these images? They're constructed from *regular shapes*, not random blobs! Each of the pictures can be *decomposed* into a combination of *simpler shapes*.\n",
    "\n",
    "Perhaps if we use the \"shape\" concept we can make our code even better."
   ]
  },
  {
   "cell_type": "markdown",
   "metadata": {
    "Collapsed": "false"
   },
   "source": [
    "<img src='../day1_morning/if_figure.png' size=1000px>"
   ]
  },
  {
   "cell_type": "markdown",
   "metadata": {
    "Collapsed": "false"
   },
   "source": [
    "Taking the lower-right example again, we notice 2 types of shape:\n",
    "\n",
    "+ circles with different radiuses\n",
    "+ diagonal lines bisecting the plane\n",
    "\n",
    "Let's make these into concepts in the code. We'll make 2 functions that tell us if a point is in a circle, or in the upper-diagonal of the plane:"
   ]
  },
  {
   "cell_type": "code",
   "execution_count": null,
   "metadata": {
    "Collapsed": "false"
   },
   "outputs": [],
   "source": [
    "def in_circle(x, y, center, radius):\n",
    "    return (x - center)**2 + (y - center)**2 < radius**2\n",
    "\n",
    "\n",
    "def in_upper_diagonal(x, y):\n",
    "    return x < y"
   ]
  },
  {
   "cell_type": "markdown",
   "metadata": {
    "Collapsed": "false"
   },
   "source": [
    "Now we can use these functions within our  `f`:"
   ]
  },
  {
   "cell_type": "code",
   "execution_count": null,
   "metadata": {
    "Collapsed": "false"
   },
   "outputs": [],
   "source": [
    "from math import sqrt\n",
    "\n",
    "def f(x, y):\n",
    "    if in_circle(x, y, center=5, radius=2):\n",
    "        return (1 if in_upper_diagonal(x, y) else 4)\n",
    "    elif in_circle(x, y, center=5, radius=3):\n",
    "        return (5 if in_upper_diagonal(x, y) else 3)\n",
    "    else:\n",
    "        return (4 if in_upper_diagonal(x, y) else 2)\n",
    "    \n",
    "\n",
    "def test_f():\n",
    "    assert f(1, 0) == 2\n",
    "    assert f(0, 1) == 4\n",
    "    assert f(5, 4) == 4\n",
    "    assert f(4, 5) == 1\n",
    "    assert f(5, 2.5) == 3\n",
    "    assert f(2.5, 5) == 5\n",
    "    \n",
    "test_f()\n",
    "plot_function(f)"
   ]
  },
  {
   "cell_type": "markdown",
   "metadata": {
    "Collapsed": "false"
   },
   "source": [
    "You may argue that this approximately as readable as the previous example, however **the fact that we've identified the correct problem decomposition is useful because it provides us with a framework to tackle all the other problems in the same class**:"
   ]
  },
  {
   "cell_type": "code",
   "execution_count": null,
   "metadata": {
    "Collapsed": "false"
   },
   "outputs": [],
   "source": [
    "def plane_with_circle(x, y):\n",
    "    return 4 if in_circle(x, y, center=5, radius=2) else 0\n",
    "\n",
    "plot_function(plane_with_circle)"
   ]
  },
  {
   "cell_type": "code",
   "execution_count": null,
   "metadata": {
    "Collapsed": "false"
   },
   "outputs": [],
   "source": [
    "def in_square(x, y, center, length):\n",
    "    lower = center - length / 2\n",
    "    upper = center + length / 2\n",
    "    return (lower < x < upper) and (lower < y < upper)\n",
    "\n",
    "def concentric_squares(x, y):\n",
    "    if in_square(x, y, center=5, length=2):\n",
    "        return 3\n",
    "    elif in_square(x, y, center=5, length=6):\n",
    "        return 2\n",
    "    else:\n",
    "        return 0\n",
    "    \n",
    "plot_function(concentric_squares)"
   ]
  }
 ],
 "metadata": {
  "kernelspec": {
   "display_name": "Python 3",
   "language": "python",
   "name": "python3"
  },
  "language_info": {
   "codemirror_mode": {
    "name": "ipython",
    "version": 3
   },
   "file_extension": ".py",
   "mimetype": "text/x-python",
   "name": "python",
   "nbconvert_exporter": "python",
   "pygments_lexer": "ipython3",
   "version": "3.7.3"
  }
 },
 "nbformat": 4,
 "nbformat_minor": 4
}
